{
  "nbformat": 4,
  "nbformat_minor": 0,
  "metadata": {
    "colab": {
      "name": "Naruto_Characters_Classification_Pilot_Project",
      "provenance": [],
      "collapsed_sections": [],
      "toc_visible": true,
      "mount_file_id": "1et8Eoffgew1eGE13k41AAtKhcm-1OwuK",
      "authorship_tag": "ABX9TyMs/PTaMls8fTHML/BhdqKB",
      "include_colab_link": true
    },
    "kernelspec": {
      "name": "python3",
      "display_name": "Python 3"
    }
  },
  "cells": [
    {
      "cell_type": "markdown",
      "metadata": {
        "id": "view-in-github",
        "colab_type": "text"
      },
      "source": [
        "<a href=\"https://colab.research.google.com/github/Shubhranshu-Malhotra/Naruto_Characters_Classification/blob/main/Naruto_Characters_Classification_Pilot_Project.ipynb\" target=\"_parent\"><img src=\"https://colab.research.google.com/assets/colab-badge.svg\" alt=\"Open In Colab\"/></a>"
      ]
    },
    {
      "cell_type": "markdown",
      "metadata": {
        "id": "T_H72lXvjk_J"
      },
      "source": [
        "# Naruto Characters Classification Pilot Project\r\n",
        "\r\n",
        "**This is a test project to learn and gather all the pieces/ skills required to complete the full project.**\r\n",
        "\r\n",
        "*The **Naruto Characters Classification Project** is a multi class classification project.  \r\n",
        "The total number of classes for the project are not yet known.*  \r\n",
        "\r\n",
        "This pilot project is aimed to check the viability of the complete project and to acquire the skills required for the completion of the full project.  \r\n",
        "\r\n",
        "This Pilot Project is being made using **3 classes**:\r\n",
        "1.   Naruto_Uzumaki\r\n",
        "2.   Sakura_Haruno\r\n",
        "3.   Sasuke_Uchiha\r\n",
        "\r\n"
      ]
    },
    {
      "cell_type": "markdown",
      "metadata": {
        "id": "nkoELxNgSsXr"
      },
      "source": [
        "## Concerns\r\n",
        "#### Concern 1 : There are multiple similar images in each class these need to be filtered out in order to avoid a bias.\r\n",
        "\r\n",
        "##### Solution : Done for Naruto, Sakura and Sasuke images.  \r\n",
        "  \r\n",
        "  \r\n",
        "#### Concern 2 : There is a need to manually edit the images in order to remove the labels or unrelated information on the image.\r\n",
        "\r\n",
        "##### Solution : Done for Naruto, Sakura and Sasuke images.  \r\n",
        "    \r\n",
        "#### Concern 3 : There is a need to create labels of the images and save them as a separate labels file.  \r\n",
        "##### Solution : Task 6\r\n",
        "#### Concern 4 : There is a need to convert the 4 channel PNG images to 3 channel images [RBGA to RBG]. \r\n",
        "##### Solution : Task 3  \r\n",
        "**This is not necessary if making own CNN because CNN can take any size input but if using transfer learning 3 channels might be required since most of the premade models only accept a 3 channel input**\r\n",
        "#### Concern 5 : There is a need to standardize the shape (i.e. the image width and height) of all the images.\r\n",
        "\r\n"
      ]
    },
    {
      "cell_type": "markdown",
      "metadata": {
        "id": "ZaHogbJEYPKc"
      },
      "source": [
        "## Important Notes\r\n",
        "#### Note 1 : There are two ways to load images for the project\r\n",
        "\r\n",
        "\r\n",
        "1. Create 2 folders one for test and another for train data and inside each of them have separate folders for images belonging to each class. This method uses ImageDataGenerator.flow_from_directory() to perform on the spot data augmentation and you don't need to provide a separate train and test label file.\r\n",
        "2.   Create a single folder and put all the data in it. Make a separate file with image names and labels. Now read the data using the labels file and afterwards create a train_test_split. In this method we will use ImageDataGenerator.flow() to perform on the spot data augmentation.\r\n",
        "\r\n"
      ]
    },
    {
      "cell_type": "code",
      "metadata": {
        "id": "NYXT9NaAPyia"
      },
      "source": [
        "import numpy as np\r\n",
        "import pandas as pd\r\n",
        "import tensorflow as tf\r\n",
        "import seaborn as sns\r\n",
        "import cv2\r\n",
        "import matplotlib.pyplot as plt\r\n",
        "from matplotlib.image import imread\r\n",
        "import os"
      ],
      "execution_count": null,
      "outputs": []
    },
    {
      "cell_type": "markdown",
      "metadata": {
        "id": "olORieS2mbiu"
      },
      "source": [
        "## Task 1 : Reading an image"
      ]
    },
    {
      "cell_type": "code",
      "metadata": {
        "id": "AMN5eI19P-sH"
      },
      "source": [
        "img_1 = imread('/content/drive/MyDrive/Datasets/Naruto_Sasuke_Sakura_Dataset/Naruto_Uzumaki/Naruto_Uzumaki (1).png')"
      ],
      "execution_count": null,
      "outputs": []
    },
    {
      "cell_type": "code",
      "metadata": {
        "id": "sJvWqPcenE3i"
      },
      "source": [
        "img_2 = imread('/content/drive/MyDrive/Datasets/Naruto_Sasuke_Sakura_Dataset/Naruto_Uzumaki/Naruto_Uzumaki (18).png')"
      ],
      "execution_count": null,
      "outputs": []
    },
    {
      "cell_type": "code",
      "metadata": {
        "id": "xfHxi3RhnJEj"
      },
      "source": [
        "img_3 = imread('/content/drive/MyDrive/Datasets/Naruto_Sasuke_Sakura_Dataset/Sasuke_Uchiha/Sasuke_Uchiha (1).png')"
      ],
      "execution_count": null,
      "outputs": []
    },
    {
      "cell_type": "markdown",
      "metadata": {
        "id": "D3D8w0s4mtGe"
      },
      "source": [
        "## Task 2 : Visualizing an image"
      ]
    },
    {
      "cell_type": "code",
      "metadata": {
        "colab": {
          "base_uri": "https://localhost:8080/",
          "height": 286
        },
        "id": "065yaNflQiv8",
        "outputId": "25c0273c-204c-4ee5-f161-58864b8c7c11"
      },
      "source": [
        "plt.imshow(img_1)"
      ],
      "execution_count": null,
      "outputs": [
        {
          "output_type": "execute_result",
          "data": {
            "text/plain": [
              "<matplotlib.image.AxesImage at 0x7fc64191a128>"
            ]
          },
          "metadata": {
            "tags": []
          },
          "execution_count": 5
        },
        {
          "output_type": "display_data",
          "data": {
            "image/png": "[encoded data removed]",
            "text/plain": [
              "<Figure size 432x288 with 1 Axes>"
            ]
          },
          "metadata": {
            "tags": [],
            "needs_background": "light"
          }
        }
      ]
    },
    {
      "cell_type": "code",
      "metadata": {
        "colab": {
          "base_uri": "https://localhost:8080/",
          "height": 286
        },
        "id": "pSXI4h6ankn6",
        "outputId": "c00873aa-5e0b-417a-a46a-0d7b269b37e3"
      },
      "source": [
        "plt.imshow(img_2)"
      ],
      "execution_count": null,
      "outputs": [
        {
          "output_type": "execute_result",
          "data": {
            "text/plain": [
              "<matplotlib.image.AxesImage at 0x7fc6418b2710>"
            ]
          },
          "metadata": {
            "tags": []
          },
          "execution_count": 6
        },
        {
          "output_type": "display_data",
          "data": {
            "image/png": "[encoded data removed]",
            "text/plain": [
              "<Figure size 432x288 with 1 Axes>"
            ]
          },
          "metadata": {
            "tags": [],
            "needs_background": "light"
          }
        }
      ]
    },
    {
      "cell_type": "code",
      "metadata": {
        "colab": {
          "base_uri": "https://localhost:8080/",
          "height": 286
        },
        "id": "3tcFsRshnfeT",
        "outputId": "1f5b8d16-3e33-443a-88f9-8204a620a18e"
      },
      "source": [
        "plt.imshow(img_3)"
      ],
      "execution_count": null,
      "outputs": [
        {
          "output_type": "execute_result",
          "data": {
            "text/plain": [
              "<matplotlib.image.AxesImage at 0x7fc64188ff98>"
            ]
          },
          "metadata": {
            "tags": []
          },
          "execution_count": 7
        },
        {
          "output_type": "display_data",
          "data": {
            "image/png": "[encoded data removed]",
            "text/plain": [
              "<Figure size 432x288 with 1 Axes>"
            ]
          },
          "metadata": {
            "tags": [],
            "needs_background": "light"
          }
        }
      ]
    },
    {
      "cell_type": "code",
      "metadata": {
        "colab": {
          "base_uri": "https://localhost:8080/"
        },
        "id": "KIB3cDmfQlkT",
        "outputId": "c633cdcb-12e1-4acc-bd4f-468d0a87018d"
      },
      "source": [
        "img_1.shape, img_2.shape, img_3.shape"
      ],
      "execution_count": null,
      "outputs": [
        {
          "output_type": "execute_result",
          "data": {
            "text/plain": [
              "((1707, 1024, 4), (1095, 729, 4), (1600, 1214, 4))"
            ]
          },
          "metadata": {
            "tags": []
          },
          "execution_count": 8
        }
      ]
    },
    {
      "cell_type": "markdown",
      "metadata": {
        "id": "gJaP2iRCoZTr"
      },
      "source": [
        "## Task 3 : Converting 4 channel images to 3 channel\r\n",
        "\r\n",
        "**Dealing with Concern 4.**  \r\n",
        "**This is not necessary if making own CNN because CNN can take any size input but if using transfer learning 3 channels might be required since most of the premade models only accept a 3 channel input**\r\n",
        "\r\n",
        "To look for 4 channel images in the dataset and convert the ones with 4 channels to 3 channel ones\r\n",
        "```\r\n",
        "# In case of grayScale images the len(img.shape) == 2\r\n",
        "if len(img.shape) > 2 and img.shape[2] == 4:\r\n",
        "    #convert the image from RGBA2RGB\r\n",
        "    img = cv2.cvtColor(img, cv2.COLOR_BGRA2BGR)\r\n",
        "```\r\n",
        "\r\n"
      ]
    },
    {
      "cell_type": "code",
      "metadata": {
        "id": "WnmJWBY7Q2Cr"
      },
      "source": [
        "# # In case of grayScale images the len(img.shape) == 2\r\n",
        "# if len(img.shape) > 2 and img.shape[2] == 4:\r\n",
        "#     #convert the image from RGBA2RGB\r\n",
        "#     img = cv2.cvtColor(img, cv2.COLOR_BGRA2BGR)"
      ],
      "execution_count": null,
      "outputs": []
    },
    {
      "cell_type": "code",
      "metadata": {
        "id": "Dzxz9iTaUyl-"
      },
      "source": [
        " img_1_3c = cv2.cvtColor(img_1, cv2.COLOR_BGRA2BGR)"
      ],
      "execution_count": null,
      "outputs": []
    },
    {
      "cell_type": "code",
      "metadata": {
        "colab": {
          "base_uri": "https://localhost:8080/"
        },
        "id": "0mpuAZPkU2is",
        "outputId": "b27bdb3e-666a-4687-c387-1df8fd84b467"
      },
      "source": [
        "img_1_3c.shape"
      ],
      "execution_count": null,
      "outputs": [
        {
          "output_type": "execute_result",
          "data": {
            "text/plain": [
              "(1707, 1024, 3)"
            ]
          },
          "metadata": {
            "tags": []
          },
          "execution_count": 11
        }
      ]
    },
    {
      "cell_type": "code",
      "metadata": {
        "colab": {
          "base_uri": "https://localhost:8080/",
          "height": 286
        },
        "id": "L7XlMS5NU4nE",
        "outputId": "d434898d-915c-4326-bbc2-b0eb1b8d81ae"
      },
      "source": [
        "plt.imshow(img_1_3c)"
      ],
      "execution_count": null,
      "outputs": [
        {
          "output_type": "execute_result",
          "data": {
            "text/plain": [
              "<matplotlib.image.AxesImage at 0x7fc6417fd9e8>"
            ]
          },
          "metadata": {
            "tags": []
          },
          "execution_count": 12
        },
        {
          "output_type": "display_data",
          "data": {
            "image/png": "[encoded data removed]",
            "text/plain": [
              "<Figure size 432x288 with 1 Axes>"
            ]
          },
          "metadata": {
            "tags": [],
            "needs_background": "light"
          }
        }
      ]
    },
    {
      "cell_type": "markdown",
      "metadata": {
        "id": "64t2ssjkpTiP"
      },
      "source": [
        "## Task 4 : Setting up file paths"
      ]
    },
    {
      "cell_type": "code",
      "metadata": {
        "id": "8kYP4YosU8oS"
      },
      "source": [
        "dir_path = '/content/drive/MyDrive/Datasets/Naruto_Sasuke_Sakura_Dataset'"
      ],
      "execution_count": null,
      "outputs": []
    },
    {
      "cell_type": "code",
      "metadata": {
        "colab": {
          "base_uri": "https://localhost:8080/"
        },
        "id": "1pga4pochS2l",
        "outputId": "16d2d909-9d75-4dfe-c715-8ea38f38a6b6"
      },
      "source": [
        "os.listdir(dir_path)"
      ],
      "execution_count": null,
      "outputs": [
        {
          "output_type": "execute_result",
          "data": {
            "text/plain": [
              "['Naruto_Uzumaki', 'Sasuke_Uchiha', 'Sakura_Haruno']"
            ]
          },
          "metadata": {
            "tags": []
          },
          "execution_count": 14
        }
      ]
    },
    {
      "cell_type": "code",
      "metadata": {
        "colab": {
          "base_uri": "https://localhost:8080/",
          "height": 35
        },
        "id": "87TWSj5KhZhI",
        "outputId": "c6e21858-948d-4ac5-fa07-9ffd600157b4"
      },
      "source": [
        "os.listdir(dir_path+'/Sakura_Haruno')[0]"
      ],
      "execution_count": null,
      "outputs": [
        {
          "output_type": "execute_result",
          "data": {
            "application/vnd.google.colaboratory.intrinsic+json": {
              "type": "string"
            },
            "text/plain": [
              "'Sakura_Haruno (56).png'"
            ]
          },
          "metadata": {
            "tags": []
          },
          "execution_count": 15
        }
      ]
    },
    {
      "cell_type": "code",
      "metadata": {
        "id": "GrINOujQhudU"
      },
      "source": [
        "sakura_path = dir_path+'/Sakura_Haruno/'"
      ],
      "execution_count": null,
      "outputs": []
    },
    {
      "cell_type": "code",
      "metadata": {
        "id": "94DdzHd4p9ea"
      },
      "source": [
        "test_path_sakura = sakura_path+'Sakura_Haruno (56).png'"
      ],
      "execution_count": null,
      "outputs": []
    },
    {
      "cell_type": "code",
      "metadata": {
        "id": "cPCVlh2Wh63c"
      },
      "source": [
        "test_image_sakura = plt.imread(test_path_sakura)"
      ],
      "execution_count": null,
      "outputs": []
    },
    {
      "cell_type": "code",
      "metadata": {
        "colab": {
          "base_uri": "https://localhost:8080/"
        },
        "id": "JoSRdDl4i3fO",
        "outputId": "ae54533d-3235-4716-dc99-97b0a0d59641"
      },
      "source": [
        "test_image_sakura.shape"
      ],
      "execution_count": null,
      "outputs": [
        {
          "output_type": "execute_result",
          "data": {
            "text/plain": [
              "(660, 440, 4)"
            ]
          },
          "metadata": {
            "tags": []
          },
          "execution_count": 19
        }
      ]
    },
    {
      "cell_type": "code",
      "metadata": {
        "colab": {
          "base_uri": "https://localhost:8080/",
          "height": 286
        },
        "id": "jvOnGbEHh-Eo",
        "outputId": "78c0dae0-47b6-4a0c-94f5-b8b865cfb06a"
      },
      "source": [
        "plt.imshow(test_image_sakura)"
      ],
      "execution_count": null,
      "outputs": [
        {
          "output_type": "execute_result",
          "data": {
            "text/plain": [
              "<matplotlib.image.AxesImage at 0x7fc640ebb7b8>"
            ]
          },
          "metadata": {
            "tags": []
          },
          "execution_count": 21
        },
        {
          "output_type": "display_data",
          "data": {
            "image/png": "[encoded data removed]",
            "text/plain": [
              "<Figure size 432x288 with 1 Axes>"
            ]
          },
          "metadata": {
            "tags": [],
            "needs_background": "light"
          }
        }
      ]
    },
    {
      "cell_type": "markdown",
      "metadata": {
        "id": "yu_0l9bQYJQr"
      },
      "source": [
        "## Task 5 : Check the range of image sizes and channels"
      ]
    },
    {
      "cell_type": "code",
      "metadata": {
        "id": "avvJEThTipti"
      },
      "source": [
        "# To check the distribution of image sizes\r\n",
        "dim_1_sakura = []\r\n",
        "dim_2_sakura = []\r\n",
        "channels_sakura = []\r\n",
        "for image_paths in os.listdir(sakura_path):\r\n",
        "  dim_1, dim_2, channels = imread(sakura_path+image_paths).shape\r\n",
        "  dim_1_sakura.append(dim_1)\r\n",
        "  dim_2_sakura.append(dim_2)\r\n",
        "  channels_sakura.append(channels)"
      ],
      "execution_count": null,
      "outputs": []
    },
    {
      "cell_type": "code",
      "metadata": {
        "colab": {
          "base_uri": "https://localhost:8080/"
        },
        "id": "GJZ8S-YjUgyT",
        "outputId": "17c0603a-4e04-4d58-c158-7979413005f3"
      },
      "source": [
        "np.mean(dim_1_sakura), np.mean(dim_2_sakura)"
      ],
      "execution_count": null,
      "outputs": [
        {
          "output_type": "execute_result",
          "data": {
            "text/plain": [
              "(1744.546875, 1006.5625)"
            ]
          },
          "metadata": {
            "tags": []
          },
          "execution_count": 30
        }
      ]
    },
    {
      "cell_type": "code",
      "metadata": {
        "colab": {
          "base_uri": "https://localhost:8080/"
        },
        "id": "4srh_75YV0wv",
        "outputId": "61fe7176-fdb4-4b94-cb87-ed90744342ae"
      },
      "source": [
        "np.std(dim_1_sakura), np.std(dim_2_sakura)"
      ],
      "execution_count": null,
      "outputs": [
        {
          "output_type": "execute_result",
          "data": {
            "text/plain": [
              "(1068.9039206368057, 573.6107367751671)"
            ]
          },
          "metadata": {
            "tags": []
          },
          "execution_count": 35
        }
      ]
    },
    {
      "cell_type": "code",
      "metadata": {
        "colab": {
          "base_uri": "https://localhost:8080/"
        },
        "id": "lCpmp3nCWnpR",
        "outputId": "c6b1c37a-cc54-49c1-f45d-96ec69bc5035"
      },
      "source": [
        "pd.Series(dim_1_sakura).nunique(), pd.Series(dim_2_sakura).nunique(),pd.Series(channels_sakura).nunique()"
      ],
      "execution_count": null,
      "outputs": [
        {
          "output_type": "execute_result",
          "data": {
            "text/plain": [
              "(55, 49, 1)"
            ]
          },
          "metadata": {
            "tags": []
          },
          "execution_count": 42
        }
      ]
    },
    {
      "cell_type": "code",
      "metadata": {
        "colab": {
          "base_uri": "https://localhost:8080/"
        },
        "id": "W4Xmp0DdU63J",
        "outputId": "8e4597a2-6448-4747-bc5b-20deb534ad5a"
      },
      "source": [
        "np.min(channels_sakura), np.max(channels_sakura)"
      ],
      "execution_count": null,
      "outputs": [
        {
          "output_type": "execute_result",
          "data": {
            "text/plain": [
              "(4, 4)"
            ]
          },
          "metadata": {
            "tags": []
          },
          "execution_count": 41
        }
      ]
    },
    {
      "cell_type": "code",
      "metadata": {
        "colab": {
          "base_uri": "https://localhost:8080/"
        },
        "id": "N7HRukO0Ve8i",
        "outputId": "e718f8a5-679c-4e2d-e491-9731dd76f146"
      },
      "source": [
        "np.min(dim_1_sakura), np.max(dim_1_sakura)"
      ],
      "execution_count": null,
      "outputs": [
        {
          "output_type": "execute_result",
          "data": {
            "text/plain": [
              "(512, 5000)"
            ]
          },
          "metadata": {
            "tags": []
          },
          "execution_count": 32
        }
      ]
    },
    {
      "cell_type": "code",
      "metadata": {
        "colab": {
          "base_uri": "https://localhost:8080/"
        },
        "id": "E02TIAsCVyQo",
        "outputId": "86e957b8-ef12-46cc-d7c2-aafadd0ad108"
      },
      "source": [
        "np.min(dim_2_sakura), np.max(dim_2_sakura)"
      ],
      "execution_count": null,
      "outputs": [
        {
          "output_type": "execute_result",
          "data": {
            "text/plain": [
              "(349, 2500)"
            ]
          },
          "metadata": {
            "tags": []
          },
          "execution_count": 34
        }
      ]
    },
    {
      "cell_type": "markdown",
      "metadata": {
        "id": "ONg1ctgoVxIk"
      },
      "source": [
        "### Inference\r\n",
        "\r\n",
        "\r\n",
        "*   This shows that there are many different image sizes and they are also distributed over a wide range.\r\n",
        "*   This also shows that all the images in the folder have 4 channels and need to be converted to 3 channels.\r\n",
        "\r\n"
      ]
    },
    {
      "cell_type": "markdown",
      "metadata": {
        "id": "qnmIh0T7X66E"
      },
      "source": [
        "## Task 6 : Create a label file\r\n",
        "\r\n",
        "> CAUTION : DONOT RUN THIS TASK MULTIPLE TIMES TO AVOID UNWANTED SHUFFLING OF THE DATA LABELS FILE"
      ]
    },
    {
      "cell_type": "code",
      "metadata": {
        "id": "c-L1VXLLJTaf"
      },
      "source": [
        "sakura_path = dir_path+'/Sakura_Haruno_Selected/'"
      ],
      "execution_count": 60,
      "outputs": []
    },
    {
      "cell_type": "code",
      "metadata": {
        "id": "-rzwsHAJJdD6"
      },
      "source": [
        "sasuke_path = dir_path+'/Sasuke_Uchiha_Selected/'"
      ],
      "execution_count": 61,
      "outputs": []
    },
    {
      "cell_type": "code",
      "metadata": {
        "id": "8x67L2l6JrVe"
      },
      "source": [
        "naruto_path = dir_path + '/Naruto_Uzumaki_Selected/'"
      ],
      "execution_count": 93,
      "outputs": []
    },
    {
      "cell_type": "code",
      "metadata": {
        "id": "sR9geRrTJyjU"
      },
      "source": [
        "# dataframe that will store image names and labels\r\n",
        "df = pd.DataFrame(columns = ['image_name', 'character_label'])"
      ],
      "execution_count": 76,
      "outputs": []
    },
    {
      "cell_type": "code",
      "metadata": {
        "colab": {
          "base_uri": "https://localhost:8080/",
          "height": 48
        },
        "id": "z0AAF32dKEPX",
        "outputId": "58a1ab93-13de-4a62-a918-0fb948114fab"
      },
      "source": [
        "df"
      ],
      "execution_count": 77,
      "outputs": [
        {
          "output_type": "execute_result",
          "data": {
            "text/html": [
              "<div>\n",
              "<style scoped>\n",
              "    .dataframe tbody tr th:only-of-type {\n",
              "        vertical-align: middle;\n",
              "    }\n",
              "\n",
              "    .dataframe tbody tr th {\n",
              "        vertical-align: top;\n",
              "    }\n",
              "\n",
              "    .dataframe thead th {\n",
              "        text-align: right;\n",
              "    }\n",
              "</style>\n",
              "<table border=\"1\" class=\"dataframe\">\n",
              "  <thead>\n",
              "    <tr style=\"text-align: right;\">\n",
              "      <th></th>\n",
              "      <th>image_name</th>\n",
              "      <th>character_label</th>\n",
              "    </tr>\n",
              "  </thead>\n",
              "  <tbody>\n",
              "  </tbody>\n",
              "</table>\n",
              "</div>"
            ],
            "text/plain": [
              "Empty DataFrame\n",
              "Columns: [image_name, character_label]\n",
              "Index: []"
            ]
          },
          "metadata": {
            "tags": []
          },
          "execution_count": 77
        }
      ]
    },
    {
      "cell_type": "code",
      "metadata": {
        "id": "FZFDImriKE7a"
      },
      "source": [
        "# Add Naruto image names and labels to dataframe\r\n",
        "i = 0\r\n",
        "for image_name in os.listdir(naruto_path):\r\n",
        "  df.loc[i,'image_name'] = image_name\r\n",
        "  df.loc[i, 'character_label'] = 'Naruto_Uzumaki'\r\n",
        "  i+=1"
      ],
      "execution_count": 78,
      "outputs": []
    },
    {
      "cell_type": "code",
      "metadata": {
        "colab": {
          "base_uri": "https://localhost:8080/",
          "height": 199
        },
        "id": "lyC3r5pvKdHs",
        "outputId": "d79234f7-c2d9-40b0-d5ef-5eeac7aa71a1"
      },
      "source": [
        "df.head()"
      ],
      "execution_count": 79,
      "outputs": [
        {
          "output_type": "execute_result",
          "data": {
            "text/html": [
              "<div>\n",
              "<style scoped>\n",
              "    .dataframe tbody tr th:only-of-type {\n",
              "        vertical-align: middle;\n",
              "    }\n",
              "\n",
              "    .dataframe tbody tr th {\n",
              "        vertical-align: top;\n",
              "    }\n",
              "\n",
              "    .dataframe thead th {\n",
              "        text-align: right;\n",
              "    }\n",
              "</style>\n",
              "<table border=\"1\" class=\"dataframe\">\n",
              "  <thead>\n",
              "    <tr style=\"text-align: right;\">\n",
              "      <th></th>\n",
              "      <th>image_name</th>\n",
              "      <th>character_label</th>\n",
              "    </tr>\n",
              "  </thead>\n",
              "  <tbody>\n",
              "    <tr>\n",
              "      <th>0</th>\n",
              "      <td>Naruto_Uzumaki (17).png</td>\n",
              "      <td>Naruto_Uzumaki</td>\n",
              "    </tr>\n",
              "    <tr>\n",
              "      <th>1</th>\n",
              "      <td>Naruto_Uzumaki (18).png</td>\n",
              "      <td>Naruto_Uzumaki</td>\n",
              "    </tr>\n",
              "    <tr>\n",
              "      <th>2</th>\n",
              "      <td>Naruto_Uzumaki (16).png</td>\n",
              "      <td>Naruto_Uzumaki</td>\n",
              "    </tr>\n",
              "    <tr>\n",
              "      <th>3</th>\n",
              "      <td>Naruto_Uzumaki (15).png</td>\n",
              "      <td>Naruto_Uzumaki</td>\n",
              "    </tr>\n",
              "    <tr>\n",
              "      <th>4</th>\n",
              "      <td>Naruto_Uzumaki (13).png</td>\n",
              "      <td>Naruto_Uzumaki</td>\n",
              "    </tr>\n",
              "  </tbody>\n",
              "</table>\n",
              "</div>"
            ],
            "text/plain": [
              "                image_name character_label\n",
              "0  Naruto_Uzumaki (17).png  Naruto_Uzumaki\n",
              "1  Naruto_Uzumaki (18).png  Naruto_Uzumaki\n",
              "2  Naruto_Uzumaki (16).png  Naruto_Uzumaki\n",
              "3  Naruto_Uzumaki (15).png  Naruto_Uzumaki\n",
              "4  Naruto_Uzumaki (13).png  Naruto_Uzumaki"
            ]
          },
          "metadata": {
            "tags": []
          },
          "execution_count": 79
        }
      ]
    },
    {
      "cell_type": "code",
      "metadata": {
        "colab": {
          "base_uri": "https://localhost:8080/"
        },
        "id": "8j2Z6-ZULSAj",
        "outputId": "2602bb46-1430-412b-b002-8e25004eaa93"
      },
      "source": [
        "# Add Sasuke image names and labels to dataframe\r\n",
        "print(i)\r\n",
        "for image_name in os.listdir(sasuke_path):\r\n",
        "  df.loc[i,'image_name'] = image_name\r\n",
        "  df.loc[i, 'character_label'] = 'Sasuke_Uchiha'\r\n",
        "  i+=1"
      ],
      "execution_count": 80,
      "outputs": [
        {
          "output_type": "stream",
          "text": [
            "61\n"
          ],
          "name": "stdout"
        }
      ]
    },
    {
      "cell_type": "code",
      "metadata": {
        "colab": {
          "base_uri": "https://localhost:8080/",
          "height": 199
        },
        "id": "yUAl6FDmLSA3",
        "outputId": "8036e0bf-451c-4553-8856-81d17d669e54"
      },
      "source": [
        "df.head()"
      ],
      "execution_count": 81,
      "outputs": [
        {
          "output_type": "execute_result",
          "data": {
            "text/html": [
              "<div>\n",
              "<style scoped>\n",
              "    .dataframe tbody tr th:only-of-type {\n",
              "        vertical-align: middle;\n",
              "    }\n",
              "\n",
              "    .dataframe tbody tr th {\n",
              "        vertical-align: top;\n",
              "    }\n",
              "\n",
              "    .dataframe thead th {\n",
              "        text-align: right;\n",
              "    }\n",
              "</style>\n",
              "<table border=\"1\" class=\"dataframe\">\n",
              "  <thead>\n",
              "    <tr style=\"text-align: right;\">\n",
              "      <th></th>\n",
              "      <th>image_name</th>\n",
              "      <th>character_label</th>\n",
              "    </tr>\n",
              "  </thead>\n",
              "  <tbody>\n",
              "    <tr>\n",
              "      <th>0</th>\n",
              "      <td>Naruto_Uzumaki (17).png</td>\n",
              "      <td>Naruto_Uzumaki</td>\n",
              "    </tr>\n",
              "    <tr>\n",
              "      <th>1</th>\n",
              "      <td>Naruto_Uzumaki (18).png</td>\n",
              "      <td>Naruto_Uzumaki</td>\n",
              "    </tr>\n",
              "    <tr>\n",
              "      <th>2</th>\n",
              "      <td>Naruto_Uzumaki (16).png</td>\n",
              "      <td>Naruto_Uzumaki</td>\n",
              "    </tr>\n",
              "    <tr>\n",
              "      <th>3</th>\n",
              "      <td>Naruto_Uzumaki (15).png</td>\n",
              "      <td>Naruto_Uzumaki</td>\n",
              "    </tr>\n",
              "    <tr>\n",
              "      <th>4</th>\n",
              "      <td>Naruto_Uzumaki (13).png</td>\n",
              "      <td>Naruto_Uzumaki</td>\n",
              "    </tr>\n",
              "  </tbody>\n",
              "</table>\n",
              "</div>"
            ],
            "text/plain": [
              "                image_name character_label\n",
              "0  Naruto_Uzumaki (17).png  Naruto_Uzumaki\n",
              "1  Naruto_Uzumaki (18).png  Naruto_Uzumaki\n",
              "2  Naruto_Uzumaki (16).png  Naruto_Uzumaki\n",
              "3  Naruto_Uzumaki (15).png  Naruto_Uzumaki\n",
              "4  Naruto_Uzumaki (13).png  Naruto_Uzumaki"
            ]
          },
          "metadata": {
            "tags": []
          },
          "execution_count": 81
        }
      ]
    },
    {
      "cell_type": "code",
      "metadata": {
        "colab": {
          "base_uri": "https://localhost:8080/"
        },
        "id": "i3ES4LV8LSQi",
        "outputId": "bea471c4-cb49-49d2-c262-b3821cc2e62a"
      },
      "source": [
        "# Add Sakura image names and labels to dataframe\r\n",
        "print(i)\r\n",
        "for image_name in os.listdir(sakura_path):\r\n",
        "  df.loc[i,'image_name'] = image_name\r\n",
        "  df.loc[i, 'character_label'] = 'Sakura_Haruno'\r\n",
        "  i+=1"
      ],
      "execution_count": 82,
      "outputs": [
        {
          "output_type": "stream",
          "text": [
            "119\n"
          ],
          "name": "stdout"
        }
      ]
    },
    {
      "cell_type": "code",
      "metadata": {
        "colab": {
          "base_uri": "https://localhost:8080/",
          "height": 199
        },
        "id": "wnLR7CYmLSQk",
        "outputId": "0a054da7-3bb4-46e0-cb71-0049ef473853"
      },
      "source": [
        "df.head()"
      ],
      "execution_count": 83,
      "outputs": [
        {
          "output_type": "execute_result",
          "data": {
            "text/html": [
              "<div>\n",
              "<style scoped>\n",
              "    .dataframe tbody tr th:only-of-type {\n",
              "        vertical-align: middle;\n",
              "    }\n",
              "\n",
              "    .dataframe tbody tr th {\n",
              "        vertical-align: top;\n",
              "    }\n",
              "\n",
              "    .dataframe thead th {\n",
              "        text-align: right;\n",
              "    }\n",
              "</style>\n",
              "<table border=\"1\" class=\"dataframe\">\n",
              "  <thead>\n",
              "    <tr style=\"text-align: right;\">\n",
              "      <th></th>\n",
              "      <th>image_name</th>\n",
              "      <th>character_label</th>\n",
              "    </tr>\n",
              "  </thead>\n",
              "  <tbody>\n",
              "    <tr>\n",
              "      <th>0</th>\n",
              "      <td>Naruto_Uzumaki (17).png</td>\n",
              "      <td>Naruto_Uzumaki</td>\n",
              "    </tr>\n",
              "    <tr>\n",
              "      <th>1</th>\n",
              "      <td>Naruto_Uzumaki (18).png</td>\n",
              "      <td>Naruto_Uzumaki</td>\n",
              "    </tr>\n",
              "    <tr>\n",
              "      <th>2</th>\n",
              "      <td>Naruto_Uzumaki (16).png</td>\n",
              "      <td>Naruto_Uzumaki</td>\n",
              "    </tr>\n",
              "    <tr>\n",
              "      <th>3</th>\n",
              "      <td>Naruto_Uzumaki (15).png</td>\n",
              "      <td>Naruto_Uzumaki</td>\n",
              "    </tr>\n",
              "    <tr>\n",
              "      <th>4</th>\n",
              "      <td>Naruto_Uzumaki (13).png</td>\n",
              "      <td>Naruto_Uzumaki</td>\n",
              "    </tr>\n",
              "  </tbody>\n",
              "</table>\n",
              "</div>"
            ],
            "text/plain": [
              "                image_name character_label\n",
              "0  Naruto_Uzumaki (17).png  Naruto_Uzumaki\n",
              "1  Naruto_Uzumaki (18).png  Naruto_Uzumaki\n",
              "2  Naruto_Uzumaki (16).png  Naruto_Uzumaki\n",
              "3  Naruto_Uzumaki (15).png  Naruto_Uzumaki\n",
              "4  Naruto_Uzumaki (13).png  Naruto_Uzumaki"
            ]
          },
          "metadata": {
            "tags": []
          },
          "execution_count": 83
        }
      ]
    },
    {
      "cell_type": "code",
      "metadata": {
        "colab": {
          "base_uri": "https://localhost:8080/"
        },
        "id": "oO58ScyCKzKP",
        "outputId": "e7e3ba7a-1c50-4e45-8b13-c1402b1a3d45"
      },
      "source": [
        "len(os.listdir(sakura_path))+len(os.listdir(sasuke_path))+len(os.listdir(naruto_path))"
      ],
      "execution_count": 84,
      "outputs": [
        {
          "output_type": "execute_result",
          "data": {
            "text/plain": [
              "176"
            ]
          },
          "metadata": {
            "tags": []
          },
          "execution_count": 84
        }
      ]
    },
    {
      "cell_type": "code",
      "metadata": {
        "colab": {
          "base_uri": "https://localhost:8080/"
        },
        "id": "toWZNwI_MNNI",
        "outputId": "f3fbb2c7-fc52-423b-bdf9-bf3d619df168"
      },
      "source": [
        "i"
      ],
      "execution_count": 85,
      "outputs": [
        {
          "output_type": "execute_result",
          "data": {
            "text/plain": [
              "176"
            ]
          },
          "metadata": {
            "tags": []
          },
          "execution_count": 85
        }
      ]
    },
    {
      "cell_type": "code",
      "metadata": {
        "colab": {
          "base_uri": "https://localhost:8080/",
          "height": 199
        },
        "id": "NhpZQWDbMN1n",
        "outputId": "b6f1882e-a56b-4f12-f9d5-1586d24b302b"
      },
      "source": [
        "# To shuffle the labels in order to avoid any bias\r\n",
        "df = df.sample(frac=1).reset_index(drop=True)\r\n",
        "df.head()"
      ],
      "execution_count": 86,
      "outputs": [
        {
          "output_type": "execute_result",
          "data": {
            "text/html": [
              "<div>\n",
              "<style scoped>\n",
              "    .dataframe tbody tr th:only-of-type {\n",
              "        vertical-align: middle;\n",
              "    }\n",
              "\n",
              "    .dataframe tbody tr th {\n",
              "        vertical-align: top;\n",
              "    }\n",
              "\n",
              "    .dataframe thead th {\n",
              "        text-align: right;\n",
              "    }\n",
              "</style>\n",
              "<table border=\"1\" class=\"dataframe\">\n",
              "  <thead>\n",
              "    <tr style=\"text-align: right;\">\n",
              "      <th></th>\n",
              "      <th>image_name</th>\n",
              "      <th>character_label</th>\n",
              "    </tr>\n",
              "  </thead>\n",
              "  <tbody>\n",
              "    <tr>\n",
              "      <th>0</th>\n",
              "      <td>Sasuke_Uchiha (20).png</td>\n",
              "      <td>Sasuke_Uchiha</td>\n",
              "    </tr>\n",
              "    <tr>\n",
              "      <th>1</th>\n",
              "      <td>Sakura_Haruno (32).png</td>\n",
              "      <td>Sakura_Haruno</td>\n",
              "    </tr>\n",
              "    <tr>\n",
              "      <th>2</th>\n",
              "      <td>Sakura_Haruno (15).png</td>\n",
              "      <td>Sakura_Haruno</td>\n",
              "    </tr>\n",
              "    <tr>\n",
              "      <th>3</th>\n",
              "      <td>Sakura_Haruno (28).png</td>\n",
              "      <td>Sakura_Haruno</td>\n",
              "    </tr>\n",
              "    <tr>\n",
              "      <th>4</th>\n",
              "      <td>Naruto_Uzumaki (41).png</td>\n",
              "      <td>Naruto_Uzumaki</td>\n",
              "    </tr>\n",
              "  </tbody>\n",
              "</table>\n",
              "</div>"
            ],
            "text/plain": [
              "                image_name character_label\n",
              "0   Sasuke_Uchiha (20).png   Sasuke_Uchiha\n",
              "1   Sakura_Haruno (32).png   Sakura_Haruno\n",
              "2   Sakura_Haruno (15).png   Sakura_Haruno\n",
              "3   Sakura_Haruno (28).png   Sakura_Haruno\n",
              "4  Naruto_Uzumaki (41).png  Naruto_Uzumaki"
            ]
          },
          "metadata": {
            "tags": []
          },
          "execution_count": 86
        }
      ]
    },
    {
      "cell_type": "code",
      "metadata": {
        "id": "FL24xI7-Mif5"
      },
      "source": [
        "# CAUTION : THE BELOW LINE HAS BEEN COMMENTED OUT TO PREVENT UNWANTED OVERWRITING OF LABELS FILE\r\n",
        "# df.to_csv('/content/drive/MyDrive/Datasets/Naruto_Sasuke_Sakura_Dataset/selected_labels.csv', index = False)"
      ],
      "execution_count": 88,
      "outputs": []
    },
    {
      "cell_type": "markdown",
      "metadata": {
        "id": "rh60ID_df8Yg"
      },
      "source": [
        "## Task 7 : Image Manipulation\r\n",
        "\r\n",
        "Its usually a good idea to augment the images with rotation, resizing, and scaling so the model becomes more robust to different images that our data set doesn't have. We can use the `ImageDataGenerator` to do this."
      ]
    },
    {
      "cell_type": "code",
      "metadata": {
        "id": "C9A9LXR5gN3l"
      },
      "source": [
        "from tensorflow.keras.preprocessing.image import ImageDataGenerator"
      ],
      "execution_count": 123,
      "outputs": []
    },
    {
      "cell_type": "code",
      "metadata": {
        "id": "cAW6VhRMgTK2"
      },
      "source": [
        "image_gen = ImageDataGenerator(rotation_range=20, # rotate the image 20 degrees\r\n",
        "                               width_shift_range=0.10, # Shift the pic width by a max of 5%\r\n",
        "                               height_shift_range=0.10, # Shift the pic height by a max of 5%\r\n",
        "                               rescale=1/255, # Rescale the image by normalzing it.\r\n",
        "                               shear_range=0.1, # Shear means cutting away part of the image (max 10%)\r\n",
        "                               zoom_range=0.1, # Zoom in by 10% max\r\n",
        "                               horizontal_flip=True, # Allo horizontal flipping\r\n",
        "                               fill_mode='nearest' # Fill in missing pixels with the nearest filled value\r\n",
        "                              )"
      ],
      "execution_count": 125,
      "outputs": []
    },
    {
      "cell_type": "code",
      "metadata": {
        "colab": {
          "base_uri": "https://localhost:8080/",
          "height": 286
        },
        "id": "s_cukRb0gpWN",
        "outputId": "d80c6a36-50c4-49d5-d04d-013dd3efa406"
      },
      "source": [
        "plt.imshow(test_image_sakura)"
      ],
      "execution_count": 126,
      "outputs": [
        {
          "output_type": "execute_result",
          "data": {
            "text/plain": [
              "<matplotlib.image.AxesImage at 0x7fc6391db4e0>"
            ]
          },
          "metadata": {
            "tags": []
          },
          "execution_count": 126
        },
        {
          "output_type": "display_data",
          "data": {
            "image/png": "[encoded data removed]",
            "text/plain": [
              "<Figure size 432x288 with 1 Axes>"
            ]
          },
          "metadata": {
            "tags": [],
            "needs_background": "light"
          }
        }
      ]
    },
    {
      "cell_type": "code",
      "metadata": {
        "colab": {
          "base_uri": "https://localhost:8080/",
          "height": 286
        },
        "id": "ocGPSb2ugt7W",
        "outputId": "8e3a8f3b-12b6-4abf-be51-6e1f7f0692e3"
      },
      "source": [
        "plt.imshow(image_gen.random_transform(test_image_sakura))"
      ],
      "execution_count": 127,
      "outputs": [
        {
          "output_type": "execute_result",
          "data": {
            "text/plain": [
              "<matplotlib.image.AxesImage at 0x7fc638e48358>"
            ]
          },
          "metadata": {
            "tags": []
          },
          "execution_count": 127
        },
        {
          "output_type": "display_data",
          "data": {
            "image/png": "[encoded data removed]",
            "text/plain": [
              "<Figure size 432x288 with 1 Axes>"
            ]
          },
          "metadata": {
            "tags": [],
            "needs_background": "light"
          }
        }
      ]
    },
    {
      "cell_type": "markdown",
      "metadata": {
        "id": "HKVh0oSdb7AS"
      },
      "source": [
        "## Task 8 : Combining all the work"
      ]
    },
    {
      "cell_type": "code",
      "metadata": {
        "id": "smT7qLRSNTsB"
      },
      "source": [
        "pilot_train_path = '/content/drive/MyDrive/Datasets/Naruto_Sasuke_Sakura_Dataset/Pilot_Train/'\r\n",
        "pilot_test_path = '/content/drive/MyDrive/Datasets/Naruto_Sasuke_Sakura_Dataset/Pilot_Test/'\r\n",
        "pilot_all_in_one_path = '/content/drive/MyDrive/Datasets/Naruto_Sasuke_Sakura_Dataset/Pilot_All_in_One/'"
      ],
      "execution_count": 113,
      "outputs": []
    },
    {
      "cell_type": "code",
      "metadata": {
        "id": "jF_5gb-Haa_g"
      },
      "source": [
        "# To check the distribution of image sizes\r\n",
        "dim_1_all = []\r\n",
        "dim_2_all = []\r\n",
        "channels_all = []\r\n",
        "for image_path in os.listdir(pilot_all_in_one_path):\r\n",
        "  dim_1, dim_2, channels = imread(pilot_all_in_one_path+image_path).shape\r\n",
        "  dim_1_all.append(dim_1)\r\n",
        "  dim_2_all.append(dim_2)\r\n",
        "  channels_all.append(channels)\r\n",
        "  if(channels == 3):\r\n",
        "    print(image_path)"
      ],
      "execution_count": 114,
      "outputs": []
    },
    {
      "cell_type": "code",
      "metadata": {
        "colab": {
          "base_uri": "https://localhost:8080/"
        },
        "id": "8hGeXfHTbhiX",
        "outputId": "7d607d1c-119b-4cec-db55-34366078c124"
      },
      "source": [
        "np.mean(dim_1_all), np.mean(dim_2_all)"
      ],
      "execution_count": 115,
      "outputs": [
        {
          "output_type": "execute_result",
          "data": {
            "text/plain": [
              "(1262.9351351351352, 840.5675675675676)"
            ]
          },
          "metadata": {
            "tags": []
          },
          "execution_count": 115
        }
      ]
    },
    {
      "cell_type": "code",
      "metadata": {
        "colab": {
          "base_uri": "https://localhost:8080/"
        },
        "id": "oAPFbggvbhit",
        "outputId": "ac000c5f-ffb9-4542-e9cc-955c74d107dc"
      },
      "source": [
        "np.std(dim_1_all), np.std(dim_2_all)"
      ],
      "execution_count": 116,
      "outputs": [
        {
          "output_type": "execute_result",
          "data": {
            "text/plain": [
              "(848.6546020793071, 557.1270193635327)"
            ]
          },
          "metadata": {
            "tags": []
          },
          "execution_count": 116
        }
      ]
    },
    {
      "cell_type": "code",
      "metadata": {
        "colab": {
          "base_uri": "https://localhost:8080/"
        },
        "id": "NDfhybB5bhiu",
        "outputId": "c1412313-ca36-4d55-d3a5-a4aad186949e"
      },
      "source": [
        "pd.Series(dim_1_all).nunique(), pd.Series(dim_2_all).nunique(),pd.Series(channels_all).nunique()"
      ],
      "execution_count": 117,
      "outputs": [
        {
          "output_type": "execute_result",
          "data": {
            "text/plain": [
              "(141, 126, 1)"
            ]
          },
          "metadata": {
            "tags": []
          },
          "execution_count": 117
        }
      ]
    },
    {
      "cell_type": "code",
      "metadata": {
        "colab": {
          "base_uri": "https://localhost:8080/"
        },
        "id": "jf8EKlc9bhiv",
        "outputId": "a148ffe5-840d-408c-e8c6-fef7301ee0de"
      },
      "source": [
        "np.min(channels_all), np.max(channels_all)"
      ],
      "execution_count": 118,
      "outputs": [
        {
          "output_type": "execute_result",
          "data": {
            "text/plain": [
              "(4, 4)"
            ]
          },
          "metadata": {
            "tags": []
          },
          "execution_count": 118
        }
      ]
    },
    {
      "cell_type": "code",
      "metadata": {
        "colab": {
          "base_uri": "https://localhost:8080/"
        },
        "id": "eYlwtojYef51",
        "outputId": "67c4cf11-b34a-40f0-f93e-ead7f17eaa2d"
      },
      "source": [
        "pd.Series(channels_all).value_counts()"
      ],
      "execution_count": 119,
      "outputs": [
        {
          "output_type": "execute_result",
          "data": {
            "text/plain": [
              "4    185\n",
              "dtype: int64"
            ]
          },
          "metadata": {
            "tags": []
          },
          "execution_count": 119
        }
      ]
    },
    {
      "cell_type": "code",
      "metadata": {
        "colab": {
          "base_uri": "https://localhost:8080/"
        },
        "id": "6JaY4c0wbhiv",
        "outputId": "fe402a62-7ede-41d9-baff-7fe4b2951cc3"
      },
      "source": [
        "np.min(dim_1_all), np.max(dim_1_all)"
      ],
      "execution_count": 120,
      "outputs": [
        {
          "output_type": "execute_result",
          "data": {
            "text/plain": [
              "(300, 5747)"
            ]
          },
          "metadata": {
            "tags": []
          },
          "execution_count": 120
        }
      ]
    },
    {
      "cell_type": "code",
      "metadata": {
        "colab": {
          "base_uri": "https://localhost:8080/"
        },
        "id": "MTNpDA_Rbhiw",
        "outputId": "b8577615-8b36-4c44-cb3d-90427bd45254"
      },
      "source": [
        "np.min(dim_2_all), np.max(dim_2_all)"
      ],
      "execution_count": 121,
      "outputs": [
        {
          "output_type": "execute_result",
          "data": {
            "text/plain": [
              "(256, 5120)"
            ]
          },
          "metadata": {
            "tags": []
          },
          "execution_count": 121
        }
      ]
    },
    {
      "cell_type": "markdown",
      "metadata": {
        "id": "K4D4Af5pbhiw"
      },
      "source": [
        "### Inference\r\n",
        "\r\n",
        "\r\n",
        "*   This shows that there are many different image sizes and they are also distributed over a wide range hence, need to be resized.\r\n",
        "*   There are images with both 3 and 4 channels(3 channel images removed for now) and need to be converted to 3 channels.\r\n",
        "\r\n"
      ]
    },
    {
      "cell_type": "code",
      "metadata": {
        "id": "0S2PriyLcNJX"
      },
      "source": [
        "image_shape = (1260, 840, 4)"
      ],
      "execution_count": 122,
      "outputs": []
    },
    {
      "cell_type": "code",
      "metadata": {
        "id": "W40OZ0j0dBGq"
      },
      "source": [
        ""
      ],
      "execution_count": null,
      "outputs": []
    }
  ]
}