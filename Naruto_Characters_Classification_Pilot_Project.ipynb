{
  "nbformat": 4,
  "nbformat_minor": 0,
  "metadata": {
    "colab": {
      "name": "Naruto_Characters_Classification_Pilot_Project",
      "provenance": [],
      "collapsed_sections": [],
      "toc_visible": true,
      "mount_file_id": "1et8Eoffgew1eGE13k41AAtKhcm-1OwuK",
      "authorship_tag": "ABX9TyNTCSQGQwflyXcqXMqoanG4",
      "include_colab_link": true
    },
    "kernelspec": {
      "name": "python3",
      "display_name": "Python 3"
    },
    "accelerator": "GPU"
  },
  "cells": [
    {
      "cell_type": "markdown",
      "metadata": {
        "id": "view-in-github",
        "colab_type": "text"
      },
      "source": [
        "<a href=\"https://colab.research.google.com/github/Shubhranshu-Malhotra/Naruto_Characters_Classification/blob/main/Naruto_Characters_Classification_Pilot_Project.ipynb\" target=\"_parent\"><img src=\"https://colab.research.google.com/assets/colab-badge.svg\" alt=\"Open In Colab\"/></a>"
      ]
    },
    {
      "cell_type": "markdown",
      "metadata": {
        "id": "T_H72lXvjk_J"
      },
      "source": [
        "# Naruto Characters Classification Pilot Project\r\n",
        "\r\n",
        "**This is a test project to learn and gather all the pieces/ skills required to complete the full project.**\r\n",
        "\r\n",
        "*The **Naruto Characters Classification Project** is a multi class classification project.  \r\n",
        "The total number of classes for the project are not yet known.*  \r\n",
        "\r\n",
        "This pilot project is aimed to check the viability of the complete project and to acquire the skills required for the completion of the full project.  \r\n",
        "\r\n",
        "This Pilot Project is being made using **3 classes**:\r\n",
        "1.   Naruto_Uzumaki\r\n",
        "2.   Sakura_Haruno\r\n",
        "3.   Sasuke_Uchiha\r\n",
        "\r\n"
      ]
    },
    {
      "cell_type": "markdown",
      "metadata": {
        "id": "nkoELxNgSsXr"
      },
      "source": [
        "## Concerns\r\n",
        "#### Concern 1 : There are multiple similar images in each class these need to be filtered out in order to avoid a bias.\r\n",
        "\r\n",
        "##### Solution : Done for Naruto, Sakura and Sasuke images.  \r\n",
        "  \r\n",
        "  \r\n",
        "#### Concern 2 : There is a need to manually edit the images in order to remove the labels or unrelated information on the image.\r\n",
        "\r\n",
        "##### Solution : Done for Naruto, Sakura and Sasuke images.  \r\n",
        "    \r\n",
        "#### Concern 3 : There is a need to create labels of the images and save them as a separate labels file.  \r\n",
        "##### Solution : Task 6\r\n",
        "#### Concern 4 : There is a need to convert the 4 channel PNG images to 3 channel images [RBGA to RBG]. \r\n",
        "##### Solution : Task 3  \r\n",
        "**This is not necessary if making own CNN because CNN can take any size input but if using transfer learning 3 channels might be required since most of the premade models only accept a 3 channel input**\r\n",
        "#### Concern 5 : There is a need to standardize the shape (i.e. the image width and height) of all the images.\r\n",
        "\r\n"
      ]
    },
    {
      "cell_type": "markdown",
      "metadata": {
        "id": "ZaHogbJEYPKc"
      },
      "source": [
        "## Important Notes\r\n",
        "#### Note 1 : There are two ways to load images for the project\r\n",
        "\r\n",
        "\r\n",
        "1. Create 2 folders one for test and another for train data and inside each of them have separate folders for images belonging to each class. This method uses ImageDataGenerator.flow_from_directory() to perform on the spot data augmentation and you don't need to provide a separate train and test label file.\r\n",
        "2.   Create a single folder and put all the data in it. Make a separate file with image names and labels. Now read the data using the labels file and afterwards create a train_test_split. In this method we will use ImageDataGenerator.flow() to perform on the spot data augmentation.\r\n",
        "\r\n"
      ]
    },
    {
      "cell_type": "code",
      "metadata": {
        "colab": {
          "base_uri": "https://localhost:8080/"
        },
        "id": "s_aTa55-pO7E",
        "outputId": "f6cb8578-ea28-4990-8249-8c6ef17b9271"
      },
      "source": [
        "# Check if GPU is running\r\n",
        "import tensorflow as tf\r\n",
        "device_name = tf.test.gpu_device_name()\r\n",
        "if device_name != '/device:GPU:0':\r\n",
        "  raise SystemError('GPU device not found')\r\n",
        "print('Found GPU at: {}'.format(device_name))"
      ],
      "execution_count": 1,
      "outputs": [
        {
          "output_type": "stream",
          "text": [
            "Found GPU at: /device:GPU:0\n"
          ],
          "name": "stdout"
        }
      ]
    },
    {
      "cell_type": "code",
      "metadata": {
        "id": "NYXT9NaAPyia"
      },
      "source": [
        "import numpy as np\r\n",
        "import pandas as pd\r\n",
        "import tensorflow as tf\r\n",
        "import seaborn as sns\r\n",
        "import cv2\r\n",
        "import matplotlib.pyplot as plt\r\n",
        "from matplotlib.image import imread\r\n",
        "import os"
      ],
      "execution_count": 2,
      "outputs": []
    },
    {
      "cell_type": "markdown",
      "metadata": {
        "id": "olORieS2mbiu"
      },
      "source": [
        "## Task 1 : Reading an image"
      ]
    },
    {
      "cell_type": "code",
      "metadata": {
        "id": "AMN5eI19P-sH"
      },
      "source": [
        "img_1 = imread('/content/drive/MyDrive/Datasets/Naruto_Sasuke_Sakura_Dataset/Naruto_Uzumaki/Naruto_Uzumaki (1).png')"
      ],
      "execution_count": null,
      "outputs": []
    },
    {
      "cell_type": "code",
      "metadata": {
        "id": "sJvWqPcenE3i"
      },
      "source": [
        "img_2 = imread('/content/drive/MyDrive/Datasets/Naruto_Sasuke_Sakura_Dataset/Naruto_Uzumaki/Naruto_Uzumaki (18).png')"
      ],
      "execution_count": null,
      "outputs": []
    },
    {
      "cell_type": "code",
      "metadata": {
        "id": "xfHxi3RhnJEj"
      },
      "source": [
        "img_3 = imread('/content/drive/MyDrive/Datasets/Naruto_Sasuke_Sakura_Dataset/Sasuke_Uchiha/Sasuke_Uchiha (1).png')"
      ],
      "execution_count": null,
      "outputs": []
    },
    {
      "cell_type": "markdown",
      "metadata": {
        "id": "D3D8w0s4mtGe"
      },
      "source": [
        "## Task 2 : Visualizing an image"
      ]
    },
    {
      "cell_type": "code",
      "metadata": {
        "colab": {
          "base_uri": "https://localhost:8080/",
          "height": 286
        },
        "id": "065yaNflQiv8",
        "outputId": "25c0273c-204c-4ee5-f161-58864b8c7c11"
      },
      "source": [
        "plt.imshow(img_1)"
      ],
      "execution_count": null,
      "outputs": [
        {
          "output_type": "execute_result",
          "data": {
            "text/plain": [
              "<matplotlib.image.AxesImage at 0x7fc64191a128>"
            ]
          },
          "metadata": {
            "tags": []
          },
          "execution_count": 5
        },
        {
          "output_type": "display_data",
          "data": {
            "image/png": "[encoded data removed]",
            "text/plain": [
              "<Figure size 432x288 with 1 Axes>"
            ]
          },
          "metadata": {
            "tags": [],
            "needs_background": "light"
          }
        }
      ]
    },
    {
      "cell_type": "code",
      "metadata": {
        "colab": {
          "base_uri": "https://localhost:8080/",
          "height": 286
        },
        "id": "pSXI4h6ankn6",
        "outputId": "c00873aa-5e0b-417a-a46a-0d7b269b37e3"
      },
      "source": [
        "plt.imshow(img_2)"
      ],
      "execution_count": null,
      "outputs": [
        {
          "output_type": "execute_result",
          "data": {
            "text/plain": [
              "<matplotlib.image.AxesImage at 0x7fc6418b2710>"
            ]
          },
          "metadata": {
            "tags": []
          },
          "execution_count": 6
        },
        {
          "output_type": "display_data",
          "data": {
            "image/png": "[encoded data removed]",
            "text/plain": [
              "<Figure size 432x288 with 1 Axes>"
            ]
          },
          "metadata": {
            "tags": [],
            "needs_background": "light"
          }
        }
      ]
    },
    {
      "cell_type": "code",
      "metadata": {
        "colab": {
          "base_uri": "https://localhost:8080/",
          "height": 286
        },
        "id": "3tcFsRshnfeT",
        "outputId": "1f5b8d16-3e33-443a-88f9-8204a620a18e"
      },
      "source": [
        "plt.imshow(img_3)"
      ],
      "execution_count": null,
      "outputs": [
        {
          "output_type": "execute_result",
          "data": {
            "text/plain": [
              "<matplotlib.image.AxesImage at 0x7fc64188ff98>"
            ]
          },
          "metadata": {
            "tags": []
          },
          "execution_count": 7
        },
        {
          "output_type": "display_data",
          "data": {
            "image/png": "[encoded data removed]",
            "text/plain": [
              "<Figure size 432x288 with 1 Axes>"
            ]
          },
          "metadata": {
            "tags": [],
            "needs_background": "light"
          }
        }
      ]
    },
    {
      "cell_type": "code",
      "metadata": {
        "colab": {
          "base_uri": "https://localhost:8080/"
        },
        "id": "KIB3cDmfQlkT",
        "outputId": "c633cdcb-12e1-4acc-bd4f-468d0a87018d"
      },
      "source": [
        "img_1.shape, img_2.shape, img_3.shape"
      ],
      "execution_count": null,
      "outputs": [
        {
          "output_type": "execute_result",
          "data": {
            "text/plain": [
              "((1707, 1024, 4), (1095, 729, 4), (1600, 1214, 4))"
            ]
          },
          "metadata": {
            "tags": []
          },
          "execution_count": 8
        }
      ]
    },
    {
      "cell_type": "markdown",
      "metadata": {
        "id": "gJaP2iRCoZTr"
      },
      "source": [
        "## Task 3 : Converting 4 channel images to 3 channel\r\n",
        "\r\n",
        "**Dealing with Concern 4.**  \r\n",
        "**This is not necessary if making own CNN because CNN can take any size input but if using transfer learning 3 channels might be required since most of the premade models only accept a 3 channel input**\r\n",
        "\r\n",
        "To look for 4 channel images in the dataset and convert the ones with 4 channels to 3 channel ones\r\n",
        "```\r\n",
        "# In case of grayScale images the len(img.shape) == 2\r\n",
        "if len(img.shape) > 2 and img.shape[2] == 4:\r\n",
        "    #convert the image from RGBA2RGB\r\n",
        "    img = cv2.cvtColor(img, cv2.COLOR_BGRA2BGR)\r\n",
        "```\r\n",
        "\r\n"
      ]
    },
    {
      "cell_type": "code",
      "metadata": {
        "id": "WnmJWBY7Q2Cr"
      },
      "source": [
        "# # In case of grayScale images the len(img.shape) == 2\r\n",
        "# if len(img.shape) > 2 and img.shape[2] == 4:\r\n",
        "#     #convert the image from RGBA2RGB\r\n",
        "#     img = cv2.cvtColor(img, cv2.COLOR_BGRA2BGR)"
      ],
      "execution_count": null,
      "outputs": []
    },
    {
      "cell_type": "code",
      "metadata": {
        "id": "Dzxz9iTaUyl-"
      },
      "source": [
        " img_1_3c = cv2.cvtColor(img_1, cv2.COLOR_BGRA2BGR)"
      ],
      "execution_count": null,
      "outputs": []
    },
    {
      "cell_type": "code",
      "metadata": {
        "colab": {
          "base_uri": "https://localhost:8080/"
        },
        "id": "0mpuAZPkU2is",
        "outputId": "b27bdb3e-666a-4687-c387-1df8fd84b467"
      },
      "source": [
        "img_1_3c.shape"
      ],
      "execution_count": null,
      "outputs": [
        {
          "output_type": "execute_result",
          "data": {
            "text/plain": [
              "(1707, 1024, 3)"
            ]
          },
          "metadata": {
            "tags": []
          },
          "execution_count": 11
        }
      ]
    },
    {
      "cell_type": "code",
      "metadata": {
        "colab": {
          "base_uri": "https://localhost:8080/",
          "height": 286
        },
        "id": "L7XlMS5NU4nE",
        "outputId": "d434898d-915c-4326-bbc2-b0eb1b8d81ae"
      },
      "source": [
        "plt.imshow(img_1_3c)"
      ],
      "execution_count": null,
      "outputs": [
        {
          "output_type": "execute_result",
          "data": {
            "text/plain": [
              "<matplotlib.image.AxesImage at 0x7fc6417fd9e8>"
            ]
          },
          "metadata": {
            "tags": []
          },
          "execution_count": 12
        },
        {
          "output_type": "display_data",
          "data": {
            "image/png": "[encoded data removed]",
            "text/plain": [
              "<Figure size 432x288 with 1 Axes>"
            ]
          },
          "metadata": {
            "tags": [],
            "needs_background": "light"
          }
        }
      ]
    },
    {
      "cell_type": "markdown",
      "metadata": {
        "id": "64t2ssjkpTiP"
      },
      "source": [
        "## Task 4 : Setting up file paths"
      ]
    },
    {
      "cell_type": "code",
      "metadata": {
        "id": "8kYP4YosU8oS"
      },
      "source": [
        "dir_path = '/content/drive/MyDrive/Datasets/Naruto_Sasuke_Sakura_Dataset'"
      ],
      "execution_count": null,
      "outputs": []
    },
    {
      "cell_type": "code",
      "metadata": {
        "colab": {
          "base_uri": "https://localhost:8080/"
        },
        "id": "1pga4pochS2l",
        "outputId": "16d2d909-9d75-4dfe-c715-8ea38f38a6b6"
      },
      "source": [
        "os.listdir(dir_path)"
      ],
      "execution_count": null,
      "outputs": [
        {
          "output_type": "execute_result",
          "data": {
            "text/plain": [
              "['Naruto_Uzumaki', 'Sasuke_Uchiha', 'Sakura_Haruno']"
            ]
          },
          "metadata": {
            "tags": []
          },
          "execution_count": 14
        }
      ]
    },
    {
      "cell_type": "code",
      "metadata": {
        "colab": {
          "base_uri": "https://localhost:8080/",
          "height": 35
        },
        "id": "87TWSj5KhZhI",
        "outputId": "c6e21858-948d-4ac5-fa07-9ffd600157b4"
      },
      "source": [
        "os.listdir(dir_path+'/Sakura_Haruno')[0]"
      ],
      "execution_count": null,
      "outputs": [
        {
          "output_type": "execute_result",
          "data": {
            "application/vnd.google.colaboratory.intrinsic+json": {
              "type": "string"
            },
            "text/plain": [
              "'Sakura_Haruno (56).png'"
            ]
          },
          "metadata": {
            "tags": []
          },
          "execution_count": 15
        }
      ]
    },
    {
      "cell_type": "code",
      "metadata": {
        "id": "GrINOujQhudU"
      },
      "source": [
        "sakura_path = dir_path+'/Sakura_Haruno/'"
      ],
      "execution_count": null,
      "outputs": []
    },
    {
      "cell_type": "code",
      "metadata": {
        "id": "94DdzHd4p9ea"
      },
      "source": [
        "test_path_sakura = sakura_path+'Sakura_Haruno (56).png'"
      ],
      "execution_count": null,
      "outputs": []
    },
    {
      "cell_type": "code",
      "metadata": {
        "id": "cPCVlh2Wh63c"
      },
      "source": [
        "test_image_sakura = plt.imread(test_path_sakura)"
      ],
      "execution_count": null,
      "outputs": []
    },
    {
      "cell_type": "code",
      "metadata": {
        "colab": {
          "base_uri": "https://localhost:8080/"
        },
        "id": "JoSRdDl4i3fO",
        "outputId": "ae54533d-3235-4716-dc99-97b0a0d59641"
      },
      "source": [
        "test_image_sakura.shape"
      ],
      "execution_count": null,
      "outputs": [
        {
          "output_type": "execute_result",
          "data": {
            "text/plain": [
              "(660, 440, 4)"
            ]
          },
          "metadata": {
            "tags": []
          },
          "execution_count": 19
        }
      ]
    },
    {
      "cell_type": "code",
      "metadata": {
        "colab": {
          "base_uri": "https://localhost:8080/",
          "height": 286
        },
        "id": "jvOnGbEHh-Eo",
        "outputId": "78c0dae0-47b6-4a0c-94f5-b8b865cfb06a"
      },
      "source": [
        "plt.imshow(test_image_sakura)"
      ],
      "execution_count": null,
      "outputs": [
        {
          "output_type": "execute_result",
          "data": {
            "text/plain": [
              "<matplotlib.image.AxesImage at 0x7fc640ebb7b8>"
            ]
          },
          "metadata": {
            "tags": []
          },
          "execution_count": 21
        },
        {
          "output_type": "display_data",
          "data": {
            "image/png": "[encoded data removed]",
            "text/plain": [
              "<Figure size 432x288 with 1 Axes>"
            ]
          },
          "metadata": {
            "tags": [],
            "needs_background": "light"
          }
        }
      ]
    },
    {
      "cell_type": "markdown",
      "metadata": {
        "id": "yu_0l9bQYJQr"
      },
      "source": [
        "## Task 5 : Check the range of image sizes and channels"
      ]
    },
    {
      "cell_type": "code",
      "metadata": {
        "id": "avvJEThTipti"
      },
      "source": [
        "# To check the distribution of image sizes\r\n",
        "dim_1_sakura = []\r\n",
        "dim_2_sakura = []\r\n",
        "channels_sakura = []\r\n",
        "for image_paths in os.listdir(sakura_path):\r\n",
        "  dim_1, dim_2, channels = imread(sakura_path+image_paths).shape\r\n",
        "  dim_1_sakura.append(dim_1)\r\n",
        "  dim_2_sakura.append(dim_2)\r\n",
        "  channels_sakura.append(channels)"
      ],
      "execution_count": null,
      "outputs": []
    },
    {
      "cell_type": "code",
      "metadata": {
        "colab": {
          "base_uri": "https://localhost:8080/"
        },
        "id": "GJZ8S-YjUgyT",
        "outputId": "17c0603a-4e04-4d58-c158-7979413005f3"
      },
      "source": [
        "np.mean(dim_1_sakura), np.mean(dim_2_sakura)"
      ],
      "execution_count": null,
      "outputs": [
        {
          "output_type": "execute_result",
          "data": {
            "text/plain": [
              "(1744.546875, 1006.5625)"
            ]
          },
          "metadata": {
            "tags": []
          },
          "execution_count": 30
        }
      ]
    },
    {
      "cell_type": "code",
      "metadata": {
        "colab": {
          "base_uri": "https://localhost:8080/"
        },
        "id": "4srh_75YV0wv",
        "outputId": "61fe7176-fdb4-4b94-cb87-ed90744342ae"
      },
      "source": [
        "np.std(dim_1_sakura), np.std(dim_2_sakura)"
      ],
      "execution_count": null,
      "outputs": [
        {
          "output_type": "execute_result",
          "data": {
            "text/plain": [
              "(1068.9039206368057, 573.6107367751671)"
            ]
          },
          "metadata": {
            "tags": []
          },
          "execution_count": 35
        }
      ]
    },
    {
      "cell_type": "code",
      "metadata": {
        "colab": {
          "base_uri": "https://localhost:8080/"
        },
        "id": "lCpmp3nCWnpR",
        "outputId": "c6b1c37a-cc54-49c1-f45d-96ec69bc5035"
      },
      "source": [
        "pd.Series(dim_1_sakura).nunique(), pd.Series(dim_2_sakura).nunique(),pd.Series(channels_sakura).nunique()"
      ],
      "execution_count": null,
      "outputs": [
        {
          "output_type": "execute_result",
          "data": {
            "text/plain": [
              "(55, 49, 1)"
            ]
          },
          "metadata": {
            "tags": []
          },
          "execution_count": 42
        }
      ]
    },
    {
      "cell_type": "code",
      "metadata": {
        "colab": {
          "base_uri": "https://localhost:8080/"
        },
        "id": "W4Xmp0DdU63J",
        "outputId": "8e4597a2-6448-4747-bc5b-20deb534ad5a"
      },
      "source": [
        "np.min(channels_sakura), np.max(channels_sakura)"
      ],
      "execution_count": null,
      "outputs": [
        {
          "output_type": "execute_result",
          "data": {
            "text/plain": [
              "(4, 4)"
            ]
          },
          "metadata": {
            "tags": []
          },
          "execution_count": 41
        }
      ]
    },
    {
      "cell_type": "code",
      "metadata": {
        "colab": {
          "base_uri": "https://localhost:8080/"
        },
        "id": "N7HRukO0Ve8i",
        "outputId": "e718f8a5-679c-4e2d-e491-9731dd76f146"
      },
      "source": [
        "np.min(dim_1_sakura), np.max(dim_1_sakura)"
      ],
      "execution_count": null,
      "outputs": [
        {
          "output_type": "execute_result",
          "data": {
            "text/plain": [
              "(512, 5000)"
            ]
          },
          "metadata": {
            "tags": []
          },
          "execution_count": 32
        }
      ]
    },
    {
      "cell_type": "code",
      "metadata": {
        "colab": {
          "base_uri": "https://localhost:8080/"
        },
        "id": "E02TIAsCVyQo",
        "outputId": "86e957b8-ef12-46cc-d7c2-aafadd0ad108"
      },
      "source": [
        "np.min(dim_2_sakura), np.max(dim_2_sakura)"
      ],
      "execution_count": null,
      "outputs": [
        {
          "output_type": "execute_result",
          "data": {
            "text/plain": [
              "(349, 2500)"
            ]
          },
          "metadata": {
            "tags": []
          },
          "execution_count": 34
        }
      ]
    },
    {
      "cell_type": "markdown",
      "metadata": {
        "id": "ONg1ctgoVxIk"
      },
      "source": [
        "### Inference\r\n",
        "\r\n",
        "\r\n",
        "*   This shows that there are many different image sizes and they are also distributed over a wide range.\r\n",
        "*   This also shows that all the images in the folder have 4 channels and need to be converted to 3 channels.\r\n",
        "\r\n"
      ]
    },
    {
      "cell_type": "markdown",
      "metadata": {
        "id": "qnmIh0T7X66E"
      },
      "source": [
        "## Task 6 : Create a label file\r\n",
        "\r\n",
        "> CAUTION : DONOT RUN THIS TASK MULTIPLE TIMES TO AVOID UNWANTED SHUFFLING OF THE DATA LABELS FILE"
      ]
    },
    {
      "cell_type": "code",
      "metadata": {
        "id": "c-L1VXLLJTaf"
      },
      "source": [
        "sakura_path = dir_path+'/Sakura_Haruno_Selected/'"
      ],
      "execution_count": null,
      "outputs": []
    },
    {
      "cell_type": "code",
      "metadata": {
        "id": "-rzwsHAJJdD6"
      },
      "source": [
        "sasuke_path = dir_path+'/Sasuke_Uchiha_Selected/'"
      ],
      "execution_count": null,
      "outputs": []
    },
    {
      "cell_type": "code",
      "metadata": {
        "id": "8x67L2l6JrVe"
      },
      "source": [
        "naruto_path = dir_path + '/Naruto_Uzumaki_Selected/'"
      ],
      "execution_count": null,
      "outputs": []
    },
    {
      "cell_type": "code",
      "metadata": {
        "id": "sR9geRrTJyjU"
      },
      "source": [
        "# dataframe that will store image names and labels\r\n",
        "df = pd.DataFrame(columns = ['image_name', 'character_label'])"
      ],
      "execution_count": null,
      "outputs": []
    },
    {
      "cell_type": "code",
      "metadata": {
        "colab": {
          "base_uri": "https://localhost:8080/",
          "height": 48
        },
        "id": "z0AAF32dKEPX",
        "outputId": "58a1ab93-13de-4a62-a918-0fb948114fab"
      },
      "source": [
        "df"
      ],
      "execution_count": null,
      "outputs": [
        {
          "output_type": "execute_result",
          "data": {
            "text/html": [
              "<div>\n",
              "<style scoped>\n",
              "    .dataframe tbody tr th:only-of-type {\n",
              "        vertical-align: middle;\n",
              "    }\n",
              "\n",
              "    .dataframe tbody tr th {\n",
              "        vertical-align: top;\n",
              "    }\n",
              "\n",
              "    .dataframe thead th {\n",
              "        text-align: right;\n",
              "    }\n",
              "</style>\n",
              "<table border=\"1\" class=\"dataframe\">\n",
              "  <thead>\n",
              "    <tr style=\"text-align: right;\">\n",
              "      <th></th>\n",
              "      <th>image_name</th>\n",
              "      <th>character_label</th>\n",
              "    </tr>\n",
              "  </thead>\n",
              "  <tbody>\n",
              "  </tbody>\n",
              "</table>\n",
              "</div>"
            ],
            "text/plain": [
              "Empty DataFrame\n",
              "Columns: [image_name, character_label]\n",
              "Index: []"
            ]
          },
          "metadata": {
            "tags": []
          },
          "execution_count": 77
        }
      ]
    },
    {
      "cell_type": "code",
      "metadata": {
        "id": "FZFDImriKE7a"
      },
      "source": [
        "# Add Naruto image names and labels to dataframe\r\n",
        "i = 0\r\n",
        "for image_name in os.listdir(naruto_path):\r\n",
        "  df.loc[i,'image_name'] = image_name\r\n",
        "  df.loc[i, 'character_label'] = 'Naruto_Uzumaki'\r\n",
        "  i+=1"
      ],
      "execution_count": null,
      "outputs": []
    },
    {
      "cell_type": "code",
      "metadata": {
        "colab": {
          "base_uri": "https://localhost:8080/",
          "height": 199
        },
        "id": "lyC3r5pvKdHs",
        "outputId": "d79234f7-c2d9-40b0-d5ef-5eeac7aa71a1"
      },
      "source": [
        "df.head()"
      ],
      "execution_count": null,
      "outputs": [
        {
          "output_type": "execute_result",
          "data": {
            "text/html": [
              "<div>\n",
              "<style scoped>\n",
              "    .dataframe tbody tr th:only-of-type {\n",
              "        vertical-align: middle;\n",
              "    }\n",
              "\n",
              "    .dataframe tbody tr th {\n",
              "        vertical-align: top;\n",
              "    }\n",
              "\n",
              "    .dataframe thead th {\n",
              "        text-align: right;\n",
              "    }\n",
              "</style>\n",
              "<table border=\"1\" class=\"dataframe\">\n",
              "  <thead>\n",
              "    <tr style=\"text-align: right;\">\n",
              "      <th></th>\n",
              "      <th>image_name</th>\n",
              "      <th>character_label</th>\n",
              "    </tr>\n",
              "  </thead>\n",
              "  <tbody>\n",
              "    <tr>\n",
              "      <th>0</th>\n",
              "      <td>Naruto_Uzumaki (17).png</td>\n",
              "      <td>Naruto_Uzumaki</td>\n",
              "    </tr>\n",
              "    <tr>\n",
              "      <th>1</th>\n",
              "      <td>Naruto_Uzumaki (18).png</td>\n",
              "      <td>Naruto_Uzumaki</td>\n",
              "    </tr>\n",
              "    <tr>\n",
              "      <th>2</th>\n",
              "      <td>Naruto_Uzumaki (16).png</td>\n",
              "      <td>Naruto_Uzumaki</td>\n",
              "    </tr>\n",
              "    <tr>\n",
              "      <th>3</th>\n",
              "      <td>Naruto_Uzumaki (15).png</td>\n",
              "      <td>Naruto_Uzumaki</td>\n",
              "    </tr>\n",
              "    <tr>\n",
              "      <th>4</th>\n",
              "      <td>Naruto_Uzumaki (13).png</td>\n",
              "      <td>Naruto_Uzumaki</td>\n",
              "    </tr>\n",
              "  </tbody>\n",
              "</table>\n",
              "</div>"
            ],
            "text/plain": [
              "                image_name character_label\n",
              "0  Naruto_Uzumaki (17).png  Naruto_Uzumaki\n",
              "1  Naruto_Uzumaki (18).png  Naruto_Uzumaki\n",
              "2  Naruto_Uzumaki (16).png  Naruto_Uzumaki\n",
              "3  Naruto_Uzumaki (15).png  Naruto_Uzumaki\n",
              "4  Naruto_Uzumaki (13).png  Naruto_Uzumaki"
            ]
          },
          "metadata": {
            "tags": []
          },
          "execution_count": 79
        }
      ]
    },
    {
      "cell_type": "code",
      "metadata": {
        "colab": {
          "base_uri": "https://localhost:8080/"
        },
        "id": "8j2Z6-ZULSAj",
        "outputId": "2602bb46-1430-412b-b002-8e25004eaa93"
      },
      "source": [
        "# Add Sasuke image names and labels to dataframe\r\n",
        "print(i)\r\n",
        "for image_name in os.listdir(sasuke_path):\r\n",
        "  df.loc[i,'image_name'] = image_name\r\n",
        "  df.loc[i, 'character_label'] = 'Sasuke_Uchiha'\r\n",
        "  i+=1"
      ],
      "execution_count": null,
      "outputs": [
        {
          "output_type": "stream",
          "text": [
            "61\n"
          ],
          "name": "stdout"
        }
      ]
    },
    {
      "cell_type": "code",
      "metadata": {
        "colab": {
          "base_uri": "https://localhost:8080/",
          "height": 199
        },
        "id": "yUAl6FDmLSA3",
        "outputId": "8036e0bf-451c-4553-8856-81d17d669e54"
      },
      "source": [
        "df.head()"
      ],
      "execution_count": null,
      "outputs": [
        {
          "output_type": "execute_result",
          "data": {
            "text/html": [
              "<div>\n",
              "<style scoped>\n",
              "    .dataframe tbody tr th:only-of-type {\n",
              "        vertical-align: middle;\n",
              "    }\n",
              "\n",
              "    .dataframe tbody tr th {\n",
              "        vertical-align: top;\n",
              "    }\n",
              "\n",
              "    .dataframe thead th {\n",
              "        text-align: right;\n",
              "    }\n",
              "</style>\n",
              "<table border=\"1\" class=\"dataframe\">\n",
              "  <thead>\n",
              "    <tr style=\"text-align: right;\">\n",
              "      <th></th>\n",
              "      <th>image_name</th>\n",
              "      <th>character_label</th>\n",
              "    </tr>\n",
              "  </thead>\n",
              "  <tbody>\n",
              "    <tr>\n",
              "      <th>0</th>\n",
              "      <td>Naruto_Uzumaki (17).png</td>\n",
              "      <td>Naruto_Uzumaki</td>\n",
              "    </tr>\n",
              "    <tr>\n",
              "      <th>1</th>\n",
              "      <td>Naruto_Uzumaki (18).png</td>\n",
              "      <td>Naruto_Uzumaki</td>\n",
              "    </tr>\n",
              "    <tr>\n",
              "      <th>2</th>\n",
              "      <td>Naruto_Uzumaki (16).png</td>\n",
              "      <td>Naruto_Uzumaki</td>\n",
              "    </tr>\n",
              "    <tr>\n",
              "      <th>3</th>\n",
              "      <td>Naruto_Uzumaki (15).png</td>\n",
              "      <td>Naruto_Uzumaki</td>\n",
              "    </tr>\n",
              "    <tr>\n",
              "      <th>4</th>\n",
              "      <td>Naruto_Uzumaki (13).png</td>\n",
              "      <td>Naruto_Uzumaki</td>\n",
              "    </tr>\n",
              "  </tbody>\n",
              "</table>\n",
              "</div>"
            ],
            "text/plain": [
              "                image_name character_label\n",
              "0  Naruto_Uzumaki (17).png  Naruto_Uzumaki\n",
              "1  Naruto_Uzumaki (18).png  Naruto_Uzumaki\n",
              "2  Naruto_Uzumaki (16).png  Naruto_Uzumaki\n",
              "3  Naruto_Uzumaki (15).png  Naruto_Uzumaki\n",
              "4  Naruto_Uzumaki (13).png  Naruto_Uzumaki"
            ]
          },
          "metadata": {
            "tags": []
          },
          "execution_count": 81
        }
      ]
    },
    {
      "cell_type": "code",
      "metadata": {
        "colab": {
          "base_uri": "https://localhost:8080/"
        },
        "id": "i3ES4LV8LSQi",
        "outputId": "bea471c4-cb49-49d2-c262-b3821cc2e62a"
      },
      "source": [
        "# Add Sakura image names and labels to dataframe\r\n",
        "print(i)\r\n",
        "for image_name in os.listdir(sakura_path):\r\n",
        "  df.loc[i,'image_name'] = image_name\r\n",
        "  df.loc[i, 'character_label'] = 'Sakura_Haruno'\r\n",
        "  i+=1"
      ],
      "execution_count": null,
      "outputs": [
        {
          "output_type": "stream",
          "text": [
            "119\n"
          ],
          "name": "stdout"
        }
      ]
    },
    {
      "cell_type": "code",
      "metadata": {
        "colab": {
          "base_uri": "https://localhost:8080/",
          "height": 199
        },
        "id": "wnLR7CYmLSQk",
        "outputId": "0a054da7-3bb4-46e0-cb71-0049ef473853"
      },
      "source": [
        "df.head()"
      ],
      "execution_count": null,
      "outputs": [
        {
          "output_type": "execute_result",
          "data": {
            "text/html": [
              "<div>\n",
              "<style scoped>\n",
              "    .dataframe tbody tr th:only-of-type {\n",
              "        vertical-align: middle;\n",
              "    }\n",
              "\n",
              "    .dataframe tbody tr th {\n",
              "        vertical-align: top;\n",
              "    }\n",
              "\n",
              "    .dataframe thead th {\n",
              "        text-align: right;\n",
              "    }\n",
              "</style>\n",
              "<table border=\"1\" class=\"dataframe\">\n",
              "  <thead>\n",
              "    <tr style=\"text-align: right;\">\n",
              "      <th></th>\n",
              "      <th>image_name</th>\n",
              "      <th>character_label</th>\n",
              "    </tr>\n",
              "  </thead>\n",
              "  <tbody>\n",
              "    <tr>\n",
              "      <th>0</th>\n",
              "      <td>Naruto_Uzumaki (17).png</td>\n",
              "      <td>Naruto_Uzumaki</td>\n",
              "    </tr>\n",
              "    <tr>\n",
              "      <th>1</th>\n",
              "      <td>Naruto_Uzumaki (18).png</td>\n",
              "      <td>Naruto_Uzumaki</td>\n",
              "    </tr>\n",
              "    <tr>\n",
              "      <th>2</th>\n",
              "      <td>Naruto_Uzumaki (16).png</td>\n",
              "      <td>Naruto_Uzumaki</td>\n",
              "    </tr>\n",
              "    <tr>\n",
              "      <th>3</th>\n",
              "      <td>Naruto_Uzumaki (15).png</td>\n",
              "      <td>Naruto_Uzumaki</td>\n",
              "    </tr>\n",
              "    <tr>\n",
              "      <th>4</th>\n",
              "      <td>Naruto_Uzumaki (13).png</td>\n",
              "      <td>Naruto_Uzumaki</td>\n",
              "    </tr>\n",
              "  </tbody>\n",
              "</table>\n",
              "</div>"
            ],
            "text/plain": [
              "                image_name character_label\n",
              "0  Naruto_Uzumaki (17).png  Naruto_Uzumaki\n",
              "1  Naruto_Uzumaki (18).png  Naruto_Uzumaki\n",
              "2  Naruto_Uzumaki (16).png  Naruto_Uzumaki\n",
              "3  Naruto_Uzumaki (15).png  Naruto_Uzumaki\n",
              "4  Naruto_Uzumaki (13).png  Naruto_Uzumaki"
            ]
          },
          "metadata": {
            "tags": []
          },
          "execution_count": 83
        }
      ]
    },
    {
      "cell_type": "code",
      "metadata": {
        "colab": {
          "base_uri": "https://localhost:8080/"
        },
        "id": "oO58ScyCKzKP",
        "outputId": "e7e3ba7a-1c50-4e45-8b13-c1402b1a3d45"
      },
      "source": [
        "len(os.listdir(sakura_path))+len(os.listdir(sasuke_path))+len(os.listdir(naruto_path))"
      ],
      "execution_count": null,
      "outputs": [
        {
          "output_type": "execute_result",
          "data": {
            "text/plain": [
              "176"
            ]
          },
          "metadata": {
            "tags": []
          },
          "execution_count": 84
        }
      ]
    },
    {
      "cell_type": "code",
      "metadata": {
        "colab": {
          "base_uri": "https://localhost:8080/"
        },
        "id": "toWZNwI_MNNI",
        "outputId": "f3fbb2c7-fc52-423b-bdf9-bf3d619df168"
      },
      "source": [
        "i"
      ],
      "execution_count": null,
      "outputs": [
        {
          "output_type": "execute_result",
          "data": {
            "text/plain": [
              "176"
            ]
          },
          "metadata": {
            "tags": []
          },
          "execution_count": 85
        }
      ]
    },
    {
      "cell_type": "code",
      "metadata": {
        "colab": {
          "base_uri": "https://localhost:8080/",
          "height": 199
        },
        "id": "NhpZQWDbMN1n",
        "outputId": "b6f1882e-a56b-4f12-f9d5-1586d24b302b"
      },
      "source": [
        "# To shuffle the labels in order to avoid any bias\r\n",
        "df = df.sample(frac=1).reset_index(drop=True)\r\n",
        "df.head()"
      ],
      "execution_count": null,
      "outputs": [
        {
          "output_type": "execute_result",
          "data": {
            "text/html": [
              "<div>\n",
              "<style scoped>\n",
              "    .dataframe tbody tr th:only-of-type {\n",
              "        vertical-align: middle;\n",
              "    }\n",
              "\n",
              "    .dataframe tbody tr th {\n",
              "        vertical-align: top;\n",
              "    }\n",
              "\n",
              "    .dataframe thead th {\n",
              "        text-align: right;\n",
              "    }\n",
              "</style>\n",
              "<table border=\"1\" class=\"dataframe\">\n",
              "  <thead>\n",
              "    <tr style=\"text-align: right;\">\n",
              "      <th></th>\n",
              "      <th>image_name</th>\n",
              "      <th>character_label</th>\n",
              "    </tr>\n",
              "  </thead>\n",
              "  <tbody>\n",
              "    <tr>\n",
              "      <th>0</th>\n",
              "      <td>Sasuke_Uchiha (20).png</td>\n",
              "      <td>Sasuke_Uchiha</td>\n",
              "    </tr>\n",
              "    <tr>\n",
              "      <th>1</th>\n",
              "      <td>Sakura_Haruno (32).png</td>\n",
              "      <td>Sakura_Haruno</td>\n",
              "    </tr>\n",
              "    <tr>\n",
              "      <th>2</th>\n",
              "      <td>Sakura_Haruno (15).png</td>\n",
              "      <td>Sakura_Haruno</td>\n",
              "    </tr>\n",
              "    <tr>\n",
              "      <th>3</th>\n",
              "      <td>Sakura_Haruno (28).png</td>\n",
              "      <td>Sakura_Haruno</td>\n",
              "    </tr>\n",
              "    <tr>\n",
              "      <th>4</th>\n",
              "      <td>Naruto_Uzumaki (41).png</td>\n",
              "      <td>Naruto_Uzumaki</td>\n",
              "    </tr>\n",
              "  </tbody>\n",
              "</table>\n",
              "</div>"
            ],
            "text/plain": [
              "                image_name character_label\n",
              "0   Sasuke_Uchiha (20).png   Sasuke_Uchiha\n",
              "1   Sakura_Haruno (32).png   Sakura_Haruno\n",
              "2   Sakura_Haruno (15).png   Sakura_Haruno\n",
              "3   Sakura_Haruno (28).png   Sakura_Haruno\n",
              "4  Naruto_Uzumaki (41).png  Naruto_Uzumaki"
            ]
          },
          "metadata": {
            "tags": []
          },
          "execution_count": 86
        }
      ]
    },
    {
      "cell_type": "code",
      "metadata": {
        "id": "FL24xI7-Mif5"
      },
      "source": [
        "# CAUTION : THE BELOW LINE HAS BEEN COMMENTED OUT TO PREVENT UNWANTED OVERWRITING OF LABELS FILE\r\n",
        "# df.to_csv('/content/drive/MyDrive/Datasets/Naruto_Sasuke_Sakura_Dataset/selected_labels.csv', index = False)"
      ],
      "execution_count": null,
      "outputs": []
    },
    {
      "cell_type": "markdown",
      "metadata": {
        "id": "rh60ID_df8Yg"
      },
      "source": [
        "## Task 7 : Image Manipulation\r\n",
        "\r\n",
        "Its usually a good idea to augment the images with rotation, resizing, and scaling so the model becomes more robust to different images that our data set doesn't have. We can use the `ImageDataGenerator` to do this."
      ]
    },
    {
      "cell_type": "code",
      "metadata": {
        "id": "C9A9LXR5gN3l"
      },
      "source": [
        "from tensorflow.keras.preprocessing.image import ImageDataGenerator"
      ],
      "execution_count": null,
      "outputs": []
    },
    {
      "cell_type": "code",
      "metadata": {
        "id": "cAW6VhRMgTK2"
      },
      "source": [
        "image_gen = ImageDataGenerator(rotation_range=20, # rotate the image 20 degrees\r\n",
        "                               width_shift_range=0.10, # Shift the pic width by a max of 5%\r\n",
        "                               height_shift_range=0.10, # Shift the pic height by a max of 5%\r\n",
        "                               rescale=1/255, # Rescale the image by normalzing it.\r\n",
        "                               shear_range=0.1, # Shear means cutting away part of the image (max 10%)\r\n",
        "                               zoom_range=0.1, # Zoom in by 10% max\r\n",
        "                               horizontal_flip=True, # Allo horizontal flipping\r\n",
        "                               fill_mode='nearest' # Fill in missing pixels with the nearest filled value\r\n",
        "                              )"
      ],
      "execution_count": null,
      "outputs": []
    },
    {
      "cell_type": "code",
      "metadata": {
        "colab": {
          "base_uri": "https://localhost:8080/",
          "height": 286
        },
        "id": "s_cukRb0gpWN",
        "outputId": "d80c6a36-50c4-49d5-d04d-013dd3efa406"
      },
      "source": [
        "plt.imshow(test_image_sakura)"
      ],
      "execution_count": null,
      "outputs": [
        {
          "output_type": "execute_result",
          "data": {
            "text/plain": [
              "<matplotlib.image.AxesImage at 0x7fc6391db4e0>"
            ]
          },
          "metadata": {
            "tags": []
          },
          "execution_count": 126
        },
        {
          "output_type": "display_data",
          "data": {
            "image/png": "[encoded data removed]",
            "text/plain": [
              "<Figure size 432x288 with 1 Axes>"
            ]
          },
          "metadata": {
            "tags": [],
            "needs_background": "light"
          }
        }
      ]
    },
    {
      "cell_type": "code",
      "metadata": {
        "colab": {
          "base_uri": "https://localhost:8080/",
          "height": 286
        },
        "id": "ocGPSb2ugt7W",
        "outputId": "8e3a8f3b-12b6-4abf-be51-6e1f7f0692e3"
      },
      "source": [
        "plt.imshow(image_gen.random_transform(test_image_sakura))"
      ],
      "execution_count": null,
      "outputs": [
        {
          "output_type": "execute_result",
          "data": {
            "text/plain": [
              "<matplotlib.image.AxesImage at 0x7fc638e48358>"
            ]
          },
          "metadata": {
            "tags": []
          },
          "execution_count": 127
        },
        {
          "output_type": "display_data",
          "data": {
            "image/png": "[encoded data removed]",
            "text/plain": [
              "<Figure size 432x288 with 1 Axes>"
            ]
          },
          "metadata": {
            "tags": [],
            "needs_background": "light"
          }
        }
      ]
    },
    {
      "cell_type": "markdown",
      "metadata": {
        "id": "HKVh0oSdb7AS"
      },
      "source": [
        "## Task 8 : Combining all the work"
      ]
    },
    {
      "cell_type": "markdown",
      "metadata": {
        "id": "Flj8FTmmhcSI"
      },
      "source": [
        "### Setting paths of directories"
      ]
    },
    {
      "cell_type": "code",
      "metadata": {
        "id": "smT7qLRSNTsB"
      },
      "source": [
        "pilot_train_path = '/content/drive/MyDrive/Datasets/Naruto_Sasuke_Sakura_Dataset/Pilot_Train/'\r\n",
        "pilot_test_path = '/content/drive/MyDrive/Datasets/Naruto_Sasuke_Sakura_Dataset/Pilot_Test/'\r\n",
        "pilot_all_in_one_path = '/content/drive/MyDrive/Datasets/Naruto_Sasuke_Sakura_Dataset/Pilot_All_in_One/'"
      ],
      "execution_count": 2,
      "outputs": []
    },
    {
      "cell_type": "markdown",
      "metadata": {
        "id": "4Sw34koWhkfD"
      },
      "source": [
        "### Checking the average dimentions and channels of images"
      ]
    },
    {
      "cell_type": "code",
      "metadata": {
        "id": "jF_5gb-Haa_g",
        "colab": {
          "base_uri": "https://localhost:8080/",
          "height": 237
        },
        "outputId": "7f79a067-f2ca-44c7-ea39-383bf1be5fdc"
      },
      "source": [
        "# To check the distribution of image sizes\r\n",
        "dim_1_all = []\r\n",
        "dim_2_all = []\r\n",
        "channels_all = []\r\n",
        "for image_path in os.listdir(pilot_all_in_one_path):\r\n",
        "  dim_1, dim_2, channels = imread(pilot_all_in_one_path+image_path).shape\r\n",
        "  dim_1_all.append(dim_1)\r\n",
        "  dim_2_all.append(dim_2)\r\n",
        "  channels_all.append(channels)\r\n",
        "  if(channels == 3):\r\n",
        "    print(image_path)"
      ],
      "execution_count": 3,
      "outputs": [
        {
          "output_type": "error",
          "ename": "NameError",
          "evalue": "ignored",
          "traceback": [
            "\u001b[0;31m---------------------------------------------------------------------------\u001b[0m",
            "\u001b[0;31mNameError\u001b[0m                                 Traceback (most recent call last)",
            "\u001b[0;32m<ipython-input-3-b406eb81089f>\u001b[0m in \u001b[0;36m<module>\u001b[0;34m()\u001b[0m\n\u001b[1;32m      3\u001b[0m \u001b[0mdim_2_all\u001b[0m \u001b[0;34m=\u001b[0m \u001b[0;34m[\u001b[0m\u001b[0;34m]\u001b[0m\u001b[0;34m\u001b[0m\u001b[0;34m\u001b[0m\u001b[0m\n\u001b[1;32m      4\u001b[0m \u001b[0mchannels_all\u001b[0m \u001b[0;34m=\u001b[0m \u001b[0;34m[\u001b[0m\u001b[0;34m]\u001b[0m\u001b[0;34m\u001b[0m\u001b[0;34m\u001b[0m\u001b[0m\n\u001b[0;32m----> 5\u001b[0;31m \u001b[0;32mfor\u001b[0m \u001b[0mimage_path\u001b[0m \u001b[0;32min\u001b[0m \u001b[0mos\u001b[0m\u001b[0;34m.\u001b[0m\u001b[0mlistdir\u001b[0m\u001b[0;34m(\u001b[0m\u001b[0mpilot_all_in_one_path\u001b[0m\u001b[0;34m)\u001b[0m\u001b[0;34m:\u001b[0m\u001b[0;34m\u001b[0m\u001b[0;34m\u001b[0m\u001b[0m\n\u001b[0m\u001b[1;32m      6\u001b[0m   \u001b[0mdim_1\u001b[0m\u001b[0;34m,\u001b[0m \u001b[0mdim_2\u001b[0m\u001b[0;34m,\u001b[0m \u001b[0mchannels\u001b[0m \u001b[0;34m=\u001b[0m \u001b[0mimread\u001b[0m\u001b[0;34m(\u001b[0m\u001b[0mpilot_all_in_one_path\u001b[0m\u001b[0;34m+\u001b[0m\u001b[0mimage_path\u001b[0m\u001b[0;34m)\u001b[0m\u001b[0;34m.\u001b[0m\u001b[0mshape\u001b[0m\u001b[0;34m\u001b[0m\u001b[0;34m\u001b[0m\u001b[0m\n\u001b[1;32m      7\u001b[0m   \u001b[0mdim_1_all\u001b[0m\u001b[0;34m.\u001b[0m\u001b[0mappend\u001b[0m\u001b[0;34m(\u001b[0m\u001b[0mdim_1\u001b[0m\u001b[0;34m)\u001b[0m\u001b[0;34m\u001b[0m\u001b[0;34m\u001b[0m\u001b[0m\n",
            "\u001b[0;31mNameError\u001b[0m: name 'os' is not defined"
          ]
        }
      ]
    },
    {
      "cell_type": "code",
      "metadata": {
        "id": "8hGeXfHTbhiX"
      },
      "source": [
        "np.mean(dim_1_all), np.mean(dim_2_all)"
      ],
      "execution_count": null,
      "outputs": []
    },
    {
      "cell_type": "code",
      "metadata": {
        "id": "oAPFbggvbhit"
      },
      "source": [
        "np.std(dim_1_all), np.std(dim_2_all)"
      ],
      "execution_count": null,
      "outputs": []
    },
    {
      "cell_type": "code",
      "metadata": {
        "id": "NDfhybB5bhiu"
      },
      "source": [
        "pd.Series(dim_1_all).nunique(), pd.Series(dim_2_all).nunique(),pd.Series(channels_all).nunique()"
      ],
      "execution_count": null,
      "outputs": []
    },
    {
      "cell_type": "code",
      "metadata": {
        "colab": {
          "base_uri": "https://localhost:8080/",
          "height": 167
        },
        "id": "jf8EKlc9bhiv",
        "outputId": "8ee3adb2-85bf-44a7-e5a7-e9e2fc8c590d"
      },
      "source": [
        "np.min(channels_all), np.max(channels_all)"
      ],
      "execution_count": 4,
      "outputs": [
        {
          "output_type": "error",
          "ename": "NameError",
          "evalue": "ignored",
          "traceback": [
            "\u001b[0;31m---------------------------------------------------------------------------\u001b[0m",
            "\u001b[0;31mNameError\u001b[0m                                 Traceback (most recent call last)",
            "\u001b[0;32m<ipython-input-4-9c2c156f1aac>\u001b[0m in \u001b[0;36m<module>\u001b[0;34m()\u001b[0m\n\u001b[0;32m----> 1\u001b[0;31m \u001b[0mnp\u001b[0m\u001b[0;34m.\u001b[0m\u001b[0mmin\u001b[0m\u001b[0;34m(\u001b[0m\u001b[0mchannels_all\u001b[0m\u001b[0;34m)\u001b[0m\u001b[0;34m,\u001b[0m \u001b[0mnp\u001b[0m\u001b[0;34m.\u001b[0m\u001b[0mmax\u001b[0m\u001b[0;34m(\u001b[0m\u001b[0mchannels_all\u001b[0m\u001b[0;34m)\u001b[0m\u001b[0;34m\u001b[0m\u001b[0;34m\u001b[0m\u001b[0m\n\u001b[0m",
            "\u001b[0;31mNameError\u001b[0m: name 'np' is not defined"
          ]
        }
      ]
    },
    {
      "cell_type": "code",
      "metadata": {
        "id": "eYlwtojYef51"
      },
      "source": [
        "pd.Series(channels_all).value_counts()"
      ],
      "execution_count": null,
      "outputs": []
    },
    {
      "cell_type": "code",
      "metadata": {
        "id": "6JaY4c0wbhiv"
      },
      "source": [
        "np.min(dim_1_all), np.max(dim_1_all)"
      ],
      "execution_count": null,
      "outputs": []
    },
    {
      "cell_type": "code",
      "metadata": {
        "id": "MTNpDA_Rbhiw"
      },
      "source": [
        "np.min(dim_2_all), np.max(dim_2_all)"
      ],
      "execution_count": null,
      "outputs": []
    },
    {
      "cell_type": "markdown",
      "metadata": {
        "id": "K4D4Af5pbhiw"
      },
      "source": [
        "### Inference\r\n",
        "\r\n",
        "\r\n",
        "*   This shows that there are many different image sizes and they are also distributed over a wide range hence, need to be resized.\r\n",
        "*   There are images with both 3 and 4 channels(3 channel images removed for now) and need to be converted to 3 channels.\r\n",
        "\r\n"
      ]
    },
    {
      "cell_type": "markdown",
      "metadata": {
        "id": "8qjkavfThtxf"
      },
      "source": [
        "### Setting an input shape"
      ]
    },
    {
      "cell_type": "code",
      "metadata": {
        "id": "0S2PriyLcNJX"
      },
      "source": [
        "image_shape = (1260, 840, 4)"
      ],
      "execution_count": 5,
      "outputs": []
    },
    {
      "cell_type": "markdown",
      "metadata": {
        "id": "0ebqQ9Wphw_B"
      },
      "source": [
        "### Creating an `ImageDataGenerator` for on the spot data augmentation"
      ]
    },
    {
      "cell_type": "code",
      "metadata": {
        "id": "W40OZ0j0dBGq"
      },
      "source": [
        "from tensorflow.keras.preprocessing.image import ImageDataGenerator\r\n",
        "image_gen = ImageDataGenerator(rotation_range=20, # rotate the image 20 degrees\r\n",
        "                               width_shift_range=0.10, # Shift the pic width by a max of 5%\r\n",
        "                               height_shift_range=0.10, # Shift the pic height by a max of 5%\r\n",
        "                               rescale=1/255, # Rescale the image by normalzing it.\r\n",
        "                               shear_range=0.1, # Shear means cutting away part of the image (max 10%)\r\n",
        "                               zoom_range=0.1, # Zoom in by 10% max\r\n",
        "                               horizontal_flip=True, # Allo horizontal flipping\r\n",
        "                               fill_mode='nearest' # Fill in missing pixels with the nearest filled value\r\n",
        "                              )"
      ],
      "execution_count": 6,
      "outputs": []
    },
    {
      "cell_type": "markdown",
      "metadata": {
        "id": "1_Ji8qSDhPFQ"
      },
      "source": [
        "### Creating a CNN model"
      ]
    },
    {
      "cell_type": "markdown",
      "metadata": {
        "id": "lcrn4ijYl4Bo"
      },
      "source": [
        "### Defining callbacks"
      ]
    },
    {
      "cell_type": "code",
      "metadata": {
        "id": "f2d1FDVfZW2O"
      },
      "source": [
        "from tensorflow.keras.callbacks import EarlyStopping"
      ],
      "execution_count": 7,
      "outputs": []
    },
    {
      "cell_type": "code",
      "metadata": {
        "id": "t5W5p7CQZW2P"
      },
      "source": [
        "early_stop = EarlyStopping(monitor='val_loss',patience=7)"
      ],
      "execution_count": 8,
      "outputs": []
    },
    {
      "cell_type": "code",
      "metadata": {
        "id": "TOdDfKXhqah3"
      },
      "source": [
        "from keras.callbacks import CSVLogger\r\n"
      ],
      "execution_count": 9,
      "outputs": []
    },
    {
      "cell_type": "code",
      "metadata": {
        "id": "rks38eGaqegR"
      },
      "source": [
        "# different csv_logger for each model\r\n",
        "# csv_logger = CSVLogger(\"/content/drive/MyDrive/Datasets/Naruto_Sasuke_Sakura_Dataset/model_1_history_log.csv\", append=True)"
      ],
      "execution_count": 10,
      "outputs": []
    },
    {
      "cell_type": "markdown",
      "metadata": {
        "id": "fcqj07XkZW2P"
      },
      "source": [
        "### Training the Model"
      ]
    },
    {
      "cell_type": "code",
      "metadata": {
        "id": "zUVrVLc_ZW2P"
      },
      "source": [
        "batch_size = 16"
      ],
      "execution_count": 11,
      "outputs": []
    },
    {
      "cell_type": "code",
      "metadata": {
        "id": "kD8RG-ntZW2P",
        "colab": {
          "base_uri": "https://localhost:8080/"
        },
        "outputId": "bc72d6b1-a842-46d2-c6f4-17443e460412"
      },
      "source": [
        "train_image_gen = image_gen.flow_from_directory(pilot_train_path,\n",
        "                                               target_size=image_shape[:2],\n",
        "                                                color_mode='rgba',\n",
        "                                               batch_size=batch_size,\n",
        "                                               class_mode='categorical')"
      ],
      "execution_count": 12,
      "outputs": [
        {
          "output_type": "stream",
          "text": [
            "Found 145 images belonging to 3 classes.\n"
          ],
          "name": "stdout"
        }
      ]
    },
    {
      "cell_type": "code",
      "metadata": {
        "id": "hYg0GqMkZW2Q",
        "colab": {
          "base_uri": "https://localhost:8080/"
        },
        "outputId": "e969af48-1c29-4380-9cc9-23e1eb9716e9"
      },
      "source": [
        "test_image_gen = image_gen.flow_from_directory(pilot_test_path,\n",
        "                                               target_size=image_shape[:2],\n",
        "                                               color_mode='rgba',\n",
        "                                               batch_size=batch_size,\n",
        "                                               class_mode='categorical',\n",
        "                                               shuffle = False)"
      ],
      "execution_count": 13,
      "outputs": [
        {
          "output_type": "stream",
          "text": [
            "Found 30 images belonging to 3 classes.\n"
          ],
          "name": "stdout"
        }
      ]
    },
    {
      "cell_type": "code",
      "metadata": {
        "id": "J4XgVQ7AZW2Q",
        "colab": {
          "base_uri": "https://localhost:8080/"
        },
        "outputId": "1003fe04-b861-4a7a-b089-cae9cc05a732"
      },
      "source": [
        "train_image_gen.class_indices"
      ],
      "execution_count": 14,
      "outputs": [
        {
          "output_type": "execute_result",
          "data": {
            "text/plain": [
              "{'Naruto_Uzumaki': 0, 'Sakura_Haruno': 1, 'Sasuke_Uchiha': 2}"
            ]
          },
          "metadata": {
            "tags": []
          },
          "execution_count": 14
        }
      ]
    },
    {
      "cell_type": "code",
      "metadata": {
        "colab": {
          "base_uri": "https://localhost:8080/"
        },
        "id": "O6b9HY4NnfFX",
        "outputId": "6ae48827-4e92-4c23-90c2-8ea3d0e89a1c"
      },
      "source": [
        "test_image_gen.class_indices"
      ],
      "execution_count": 15,
      "outputs": [
        {
          "output_type": "execute_result",
          "data": {
            "text/plain": [
              "{'Naruto_Uzumaki': 0, 'Sakura_Haruno': 1, 'Sasuke_Uchiha': 2}"
            ]
          },
          "metadata": {
            "tags": []
          },
          "execution_count": 15
        }
      ]
    },
    {
      "cell_type": "code",
      "metadata": {
        "id": "-1wth6Azh-E7"
      },
      "source": [
        "from tensorflow.keras.models import Sequential\r\n",
        "from tensorflow.keras.layers import Conv2D, MaxPooling2D, Dense, Flatten, Dropout, Activation"
      ],
      "execution_count": 16,
      "outputs": []
    },
    {
      "cell_type": "code",
      "metadata": {
        "id": "TzMuABkgiUdZ"
      },
      "source": [
        "# Create a Sequential model\r\n",
        "model_1 = Sequential()\r\n",
        "\r\n",
        "# Add Layers to the model\r\n",
        "\r\n",
        "# Convolution_Layer_1\r\n",
        "model_1.add(Conv2D(filters=32, kernel_size=(3,3),input_shape=image_shape, activation='relu',))\r\n",
        "model_1.add(MaxPooling2D(pool_size=(2, 2)))\r\n",
        "\r\n",
        "# Convolution_Layer_2\r\n",
        "model_1.add(Conv2D(filters=64, kernel_size=(3,3), activation='relu',))\r\n",
        "model_1.add(MaxPooling2D(pool_size=(2, 2)))\r\n",
        "# Dropouts help reduce overfitting by randomly turning neurons off during training.\r\n",
        "# Here we say randomly turn off 40% of neurons.\r\n",
        "model_1.add(Dropout(0.3))\r\n",
        "\r\n",
        "# Convolution_Layer_3\r\n",
        "model_1.add(Conv2D(filters=128, kernel_size=(3,3), activation='relu',))\r\n",
        "model_1.add(MaxPooling2D(pool_size=(2, 2)))\r\n",
        "\r\n",
        "\r\n",
        "# Convolution_Layer_4\r\n",
        "model_1.add(Conv2D(filters=128, kernel_size=(3,3), activation='relu',))\r\n",
        "model_1.add(MaxPooling2D(pool_size=(2, 2)))\r\n",
        "model_1.add(Dropout(0.3))\r\n",
        "\r\n",
        "# Flattening_Layer\r\n",
        "model_1.add(Flatten())\r\n",
        "\r\n",
        "# Dense_Layer_1\r\n",
        "model_1.add(Dense(256))\r\n",
        "model_1.add(Activation('relu'))\r\n",
        "model_1.add(Dropout(0.3))\r\n",
        "\r\n",
        "# Dense_Layer_2\r\n",
        "model_1.add(Dense(128))\r\n",
        "model_1.add(Activation('relu'))\r\n",
        "model_1.add(Dropout(0.3))\r\n",
        "\r\n",
        "\r\n",
        "\r\n",
        "# Last layer uses softmax activation since we are doing a multi class classification\r\n",
        "model_1.add(Dense(3))\r\n",
        "model_1.add(Activation('softmax'))\r\n",
        "\r\n",
        "model_1.compile(loss='categorical_crossentropy',\r\n",
        "              optimizer='adam',\r\n",
        "              metrics=['accuracy'])"
      ],
      "execution_count": 23,
      "outputs": []
    },
    {
      "cell_type": "code",
      "metadata": {
        "colab": {
          "base_uri": "https://localhost:8080/"
        },
        "id": "1h7JGVRslqeE",
        "outputId": "170ec856-d41c-409d-c863-6c4dc767e04a"
      },
      "source": [
        "model_1.summary()"
      ],
      "execution_count": 24,
      "outputs": [
        {
          "output_type": "stream",
          "text": [
            "Model: \"sequential\"\n",
            "_________________________________________________________________\n",
            "Layer (type)                 Output Shape              Param #   \n",
            "=================================================================\n",
            "conv2d (Conv2D)              (None, 1258, 838, 32)     1184      \n",
            "_________________________________________________________________\n",
            "max_pooling2d (MaxPooling2D) (None, 629, 419, 32)      0         \n",
            "_________________________________________________________________\n",
            "conv2d_1 (Conv2D)            (None, 627, 417, 64)      18496     \n",
            "_________________________________________________________________\n",
            "max_pooling2d_1 (MaxPooling2 (None, 313, 208, 64)      0         \n",
            "_________________________________________________________________\n",
            "dropout (Dropout)            (None, 313, 208, 64)      0         \n",
            "_________________________________________________________________\n",
            "conv2d_2 (Conv2D)            (None, 311, 206, 128)     73856     \n",
            "_________________________________________________________________\n",
            "max_pooling2d_2 (MaxPooling2 (None, 155, 103, 128)     0         \n",
            "_________________________________________________________________\n",
            "conv2d_3 (Conv2D)            (None, 153, 101, 128)     147584    \n",
            "_________________________________________________________________\n",
            "max_pooling2d_3 (MaxPooling2 (None, 76, 50, 128)       0         \n",
            "_________________________________________________________________\n",
            "dropout_1 (Dropout)          (None, 76, 50, 128)       0         \n",
            "_________________________________________________________________\n",
            "flatten (Flatten)            (None, 486400)            0         \n",
            "_________________________________________________________________\n",
            "dense (Dense)                (None, 256)               124518656 \n",
            "_________________________________________________________________\n",
            "activation (Activation)      (None, 256)               0         \n",
            "_________________________________________________________________\n",
            "dropout_2 (Dropout)          (None, 256)               0         \n",
            "_________________________________________________________________\n",
            "dense_1 (Dense)              (None, 128)               32896     \n",
            "_________________________________________________________________\n",
            "activation_1 (Activation)    (None, 128)               0         \n",
            "_________________________________________________________________\n",
            "dropout_3 (Dropout)          (None, 128)               0         \n",
            "_________________________________________________________________\n",
            "dense_2 (Dense)              (None, 3)                 387       \n",
            "_________________________________________________________________\n",
            "activation_2 (Activation)    (None, 3)                 0         \n",
            "=================================================================\n",
            "Total params: 124,793,059\n",
            "Trainable params: 124,793,059\n",
            "Non-trainable params: 0\n",
            "_________________________________________________________________\n"
          ],
          "name": "stdout"
        }
      ]
    },
    {
      "cell_type": "code",
      "metadata": {
        "id": "ckr9FNE335Qq"
      },
      "source": [
        "csv_logger_1 = CSVLogger(\"/content/drive/MyDrive/Datasets/Naruto_Sasuke_Sakura_Dataset/re_model_1_history_log.csv\", append=True)"
      ],
      "execution_count": 25,
      "outputs": []
    },
    {
      "cell_type": "code",
      "metadata": {
        "scrolled": true,
        "id": "ridWPanjZW2R",
        "colab": {
          "base_uri": "https://localhost:8080/"
        },
        "outputId": "ac71dc84-e77b-425b-9b69-dca43f19d23c"
      },
      "source": [
        "results_1 = model_1.fit(train_image_gen,epochs=50,\n",
        "                              validation_data=test_image_gen,\n",
        "                             callbacks=[early_stop, csv_logger_1])"
      ],
      "execution_count": 26,
      "outputs": [
        {
          "output_type": "stream",
          "text": [
            "Epoch 1/50\n",
            "10/10 [==============================] - 179s 14s/step - loss: 5.8823 - accuracy: 0.2919 - val_loss: 1.0890 - val_accuracy: 0.3333\n",
            "Epoch 2/50\n",
            "10/10 [==============================] - 62s 6s/step - loss: 1.0548 - accuracy: 0.3135 - val_loss: 0.9477 - val_accuracy: 0.3333\n",
            "Epoch 3/50\n",
            "10/10 [==============================] - 68s 7s/step - loss: 0.9213 - accuracy: 0.5014 - val_loss: 0.8437 - val_accuracy: 0.6000\n",
            "Epoch 4/50\n",
            "10/10 [==============================] - 72s 7s/step - loss: 0.8241 - accuracy: 0.6644 - val_loss: 0.8367 - val_accuracy: 0.6333\n",
            "Epoch 5/50\n",
            "10/10 [==============================] - 73s 7s/step - loss: 0.8067 - accuracy: 0.6163 - val_loss: 0.7954 - val_accuracy: 0.6667\n",
            "Epoch 6/50\n",
            "10/10 [==============================] - 72s 7s/step - loss: 0.9355 - accuracy: 0.5110 - val_loss: 1.0849 - val_accuracy: 0.3667\n",
            "Epoch 7/50\n",
            "10/10 [==============================] - 70s 7s/step - loss: 1.0443 - accuracy: 0.4017 - val_loss: 0.7766 - val_accuracy: 0.6667\n",
            "Epoch 8/50\n",
            "10/10 [==============================] - 71s 7s/step - loss: 0.7931 - accuracy: 0.6526 - val_loss: 0.7925 - val_accuracy: 0.6000\n",
            "Epoch 9/50\n",
            "10/10 [==============================] - 71s 7s/step - loss: 0.7107 - accuracy: 0.6891 - val_loss: 0.7157 - val_accuracy: 0.6333\n",
            "Epoch 10/50\n",
            "10/10 [==============================] - 72s 7s/step - loss: 0.6089 - accuracy: 0.6842 - val_loss: 0.8129 - val_accuracy: 0.6000\n",
            "Epoch 11/50\n",
            "10/10 [==============================] - 72s 7s/step - loss: 0.7266 - accuracy: 0.5857 - val_loss: 0.7648 - val_accuracy: 0.6000\n",
            "Epoch 12/50\n",
            "10/10 [==============================] - 73s 7s/step - loss: 0.8653 - accuracy: 0.5706 - val_loss: 1.0645 - val_accuracy: 0.4000\n",
            "Epoch 13/50\n",
            "10/10 [==============================] - 72s 7s/step - loss: 1.0839 - accuracy: 0.3536 - val_loss: 1.0424 - val_accuracy: 0.4000\n",
            "Epoch 14/50\n",
            "10/10 [==============================] - 72s 7s/step - loss: 1.0117 - accuracy: 0.4488 - val_loss: 0.7278 - val_accuracy: 0.6333\n",
            "Epoch 15/50\n",
            "10/10 [==============================] - 72s 7s/step - loss: 0.7438 - accuracy: 0.6445 - val_loss: 0.7300 - val_accuracy: 0.6667\n",
            "Epoch 16/50\n",
            "10/10 [==============================] - 71s 7s/step - loss: 0.7457 - accuracy: 0.6550 - val_loss: 0.7557 - val_accuracy: 0.6333\n"
          ],
          "name": "stdout"
        }
      ]
    },
    {
      "cell_type": "code",
      "metadata": {
        "id": "iXO-rdAyZW2R"
      },
      "source": [
        "from tensorflow.keras.models import load_model\n",
        "model_1.save('/content/drive/MyDrive/Datasets/Naruto_Sasuke_Sakura_Dataset/re_pilot_model_1.h5')"
      ],
      "execution_count": null,
      "outputs": []
    },
    {
      "cell_type": "code",
      "metadata": {
        "id": "yjjFI5XPwFmC"
      },
      "source": [
        "#https://stats.stackexchange.com/questions/148139/rules-for-selecting-convolutional-neural-network-hyperparameters\n",
        "model_2 = Sequential()\n",
        "\n",
        "model_2.add(Conv2D(filters=32, kernel_size=(3,3),input_shape=image_shape, activation='relu',))\n",
        "model_2.add(MaxPooling2D(pool_size=(2, 2)))\n",
        "\n",
        "model_2.add(Conv2D(filters=64, kernel_size=(3,3), activation='relu',))\n",
        "model_2.add(MaxPooling2D(pool_size=(2, 2)))\n",
        "\n",
        "model_2.add(Conv2D(filters=64, kernel_size=(3,3), activation='relu',))\n",
        "model_2.add(MaxPooling2D(pool_size=(2, 2)))\n",
        "\n",
        "\n",
        "model_2.add(Flatten())\n",
        "\n",
        "\n",
        "model_2.add(Dense(128))\n",
        "model_2.add(Activation('relu'))\n",
        "\n",
        "# Dropouts help reduce overfitting by randomly turning neurons off during training.\n",
        "# Here we say randomly turn off 50% of neurons.\n",
        "model_2.add(Dropout(0.5))\n",
        "\n",
        "# Last layer, remember its binary so we use sigmoid\n",
        "model_2.add(Dense(3))\n",
        "model_2.add(Activation('softmax'))\n",
        "\n",
        "model_2.compile(loss='categorical_crossentropy',\n",
        "              optimizer='adam',\n",
        "              metrics=['accuracy'])"
      ],
      "execution_count": 17,
      "outputs": []
    },
    {
      "cell_type": "code",
      "metadata": {
        "colab": {
          "base_uri": "https://localhost:8080/"
        },
        "id": "wp0X__DkwLiF",
        "collapsed": true,
        "outputId": "b78a5390-6199-4401-f338-0bc68ea188eb"
      },
      "source": [
        "#@title\n",
        "model_2.summary()"
      ],
      "execution_count": 18,
      "outputs": [
        {
          "output_type": "stream",
          "text": [
            "Model: \"sequential\"\n",
            "_________________________________________________________________\n",
            "Layer (type)                 Output Shape              Param #   \n",
            "=================================================================\n",
            "conv2d (Conv2D)              (None, 1258, 838, 32)     1184      \n",
            "_________________________________________________________________\n",
            "max_pooling2d (MaxPooling2D) (None, 629, 419, 32)      0         \n",
            "_________________________________________________________________\n",
            "conv2d_1 (Conv2D)            (None, 627, 417, 64)      18496     \n",
            "_________________________________________________________________\n",
            "max_pooling2d_1 (MaxPooling2 (None, 313, 208, 64)      0         \n",
            "_________________________________________________________________\n",
            "conv2d_2 (Conv2D)            (None, 311, 206, 64)      36928     \n",
            "_________________________________________________________________\n",
            "max_pooling2d_2 (MaxPooling2 (None, 155, 103, 64)      0         \n",
            "_________________________________________________________________\n",
            "flatten (Flatten)            (None, 1021760)           0         \n",
            "_________________________________________________________________\n",
            "dense (Dense)                (None, 128)               130785408 \n",
            "_________________________________________________________________\n",
            "activation (Activation)      (None, 128)               0         \n",
            "_________________________________________________________________\n",
            "dropout (Dropout)            (None, 128)               0         \n",
            "_________________________________________________________________\n",
            "dense_1 (Dense)              (None, 3)                 387       \n",
            "_________________________________________________________________\n",
            "activation_1 (Activation)    (None, 3)                 0         \n",
            "=================================================================\n",
            "Total params: 130,842,403\n",
            "Trainable params: 130,842,403\n",
            "Non-trainable params: 0\n",
            "_________________________________________________________________\n"
          ],
          "name": "stdout"
        }
      ]
    },
    {
      "cell_type": "code",
      "metadata": {
        "colab": {
          "base_uri": "https://localhost:8080/"
        },
        "id": "KTLA32QP7-rJ",
        "collapsed": true,
        "outputId": "4d36a8f2-3206-4ce1-a9a3-b61cfa4ef5ec"
      },
      "source": [
        "#@title\n",
        "image_shape"
      ],
      "execution_count": 19,
      "outputs": [
        {
          "output_type": "execute_result",
          "data": {
            "text/plain": [
              "(1260, 840, 4)"
            ]
          },
          "metadata": {
            "tags": []
          },
          "execution_count": 19
        }
      ]
    },
    {
      "cell_type": "code",
      "metadata": {
        "id": "EGQODnrWHSQF"
      },
      "source": [
        "#@title\n",
        "\n",
        "csv_logger_2 = CSVLogger(\"/content/drive/MyDrive/Datasets/Naruto_Sasuke_Sakura_Dataset/re_model_2_history_log.csv\", append=True)"
      ],
      "execution_count": 20,
      "outputs": []
    },
    {
      "cell_type": "code",
      "metadata": {
        "colab": {
          "base_uri": "https://localhost:8080/"
        },
        "id": "ebEMA3_mwNAT",
        "collapsed": true,
        "outputId": "1becb846-8336-473e-f282-0fff32fbf140"
      },
      "source": [
        "results = model_2.fit(train_image_gen,epochs=40,\n",
        "                    validation_data=test_image_gen,\n",
        "                    callbacks=[early_stop, csv_logger_2])"
      ],
      "execution_count": 21,
      "outputs": [
        {
          "output_type": "stream",
          "text": [
            "Epoch 1/40\n",
            "10/10 [==============================] - 172s 14s/step - loss: 9.9762 - accuracy: 0.3183 - val_loss: 1.0299 - val_accuracy: 0.4000\n",
            "Epoch 2/40\n",
            "10/10 [==============================] - 62s 6s/step - loss: 1.0919 - accuracy: 0.3433 - val_loss: 1.0782 - val_accuracy: 0.5000\n",
            "Epoch 3/40\n",
            "10/10 [==============================] - 61s 6s/step - loss: 1.0693 - accuracy: 0.3883 - val_loss: 1.0158 - val_accuracy: 0.5000\n",
            "Epoch 4/40\n",
            "10/10 [==============================] - 60s 6s/step - loss: 0.9787 - accuracy: 0.6291 - val_loss: 0.9444 - val_accuracy: 0.6333\n",
            "Epoch 5/40\n",
            "10/10 [==============================] - 61s 6s/step - loss: 0.9410 - accuracy: 0.6230 - val_loss: 0.7993 - val_accuracy: 0.6667\n",
            "Epoch 6/40\n",
            "10/10 [==============================] - 61s 6s/step - loss: 0.6450 - accuracy: 0.7805 - val_loss: 0.9356 - val_accuracy: 0.8000\n",
            "Epoch 7/40\n",
            "10/10 [==============================] - 61s 6s/step - loss: 0.5699 - accuracy: 0.8039 - val_loss: 0.7154 - val_accuracy: 0.8000\n",
            "Epoch 8/40\n",
            "10/10 [==============================] - 62s 6s/step - loss: 0.5429 - accuracy: 0.7813 - val_loss: 1.0506 - val_accuracy: 0.7333\n",
            "Epoch 9/40\n",
            "10/10 [==============================] - 63s 6s/step - loss: 0.5029 - accuracy: 0.7885 - val_loss: 0.6019 - val_accuracy: 0.8333\n",
            "Epoch 10/40\n",
            "10/10 [==============================] - 62s 6s/step - loss: 0.6807 - accuracy: 0.7834 - val_loss: 0.6763 - val_accuracy: 0.6667\n",
            "Epoch 11/40\n",
            "10/10 [==============================] - 61s 6s/step - loss: 0.4188 - accuracy: 0.7965 - val_loss: 0.7105 - val_accuracy: 0.8333\n",
            "Epoch 12/40\n",
            "10/10 [==============================] - 61s 6s/step - loss: 0.3538 - accuracy: 0.8484 - val_loss: 0.6880 - val_accuracy: 0.8333\n",
            "Epoch 13/40\n",
            "10/10 [==============================] - 61s 6s/step - loss: 0.4346 - accuracy: 0.8270 - val_loss: 0.9007 - val_accuracy: 0.7333\n",
            "Epoch 14/40\n",
            "10/10 [==============================] - 60s 6s/step - loss: 0.7753 - accuracy: 0.6063 - val_loss: 0.5882 - val_accuracy: 0.7667\n",
            "Epoch 15/40\n",
            "10/10 [==============================] - 61s 7s/step - loss: 0.4080 - accuracy: 0.8575 - val_loss: 0.6926 - val_accuracy: 0.8667\n",
            "Epoch 16/40\n",
            "10/10 [==============================] - 61s 6s/step - loss: 0.3724 - accuracy: 0.8606 - val_loss: 0.7489 - val_accuracy: 0.9000\n",
            "Epoch 17/40\n",
            "10/10 [==============================] - 61s 6s/step - loss: 0.3157 - accuracy: 0.8736 - val_loss: 0.7152 - val_accuracy: 0.8000\n",
            "Epoch 18/40\n",
            "10/10 [==============================] - 61s 6s/step - loss: 0.2118 - accuracy: 0.9460 - val_loss: 1.1058 - val_accuracy: 0.8667\n",
            "Epoch 19/40\n",
            "10/10 [==============================] - 61s 7s/step - loss: 0.4684 - accuracy: 0.8304 - val_loss: 0.4314 - val_accuracy: 0.8667\n",
            "Epoch 20/40\n",
            "10/10 [==============================] - 60s 6s/step - loss: 0.2745 - accuracy: 0.8775 - val_loss: 0.5374 - val_accuracy: 0.9000\n",
            "Epoch 21/40\n",
            "10/10 [==============================] - 61s 6s/step - loss: 0.4086 - accuracy: 0.8841 - val_loss: 0.6691 - val_accuracy: 0.8667\n",
            "Epoch 22/40\n",
            "10/10 [==============================] - 61s 7s/step - loss: 0.6390 - accuracy: 0.8288 - val_loss: 0.5819 - val_accuracy: 0.8333\n",
            "Epoch 23/40\n",
            "10/10 [==============================] - 61s 6s/step - loss: 0.3590 - accuracy: 0.8728 - val_loss: 0.7905 - val_accuracy: 0.9000\n",
            "Epoch 24/40\n",
            "10/10 [==============================] - 60s 6s/step - loss: 0.3431 - accuracy: 0.8684 - val_loss: 1.1151 - val_accuracy: 0.7667\n",
            "Epoch 25/40\n",
            "10/10 [==============================] - 61s 6s/step - loss: 0.3689 - accuracy: 0.8862 - val_loss: 0.5795 - val_accuracy: 0.8667\n",
            "Epoch 26/40\n",
            "10/10 [==============================] - 61s 6s/step - loss: 0.2726 - accuracy: 0.8864 - val_loss: 1.1826 - val_accuracy: 0.7667\n"
          ],
          "name": "stdout"
        }
      ]
    },
    {
      "cell_type": "code",
      "metadata": {
        "id": "L7I917lpHbDe"
      },
      "source": [
        "#@title\n",
        "from tensorflow.keras.models import load_model\n",
        "model_2.save('/content/drive/MyDrive/Datasets/Naruto_Sasuke_Sakura_Dataset/re_pilot_model_2.h5')"
      ],
      "execution_count": 22,
      "outputs": []
    },
    {
      "cell_type": "code",
      "metadata": {
        "id": "bPPcSwRZLtM3"
      },
      "source": [
        "#@title\n",
        "# Create a Sequential model\n",
        "model_3 = Sequential()\n",
        "\n",
        "# Add Layers to the model\n",
        "\n",
        "# Convolution_Layer_1\n",
        "model_3.add(Conv2D(filters=32, kernel_size=(3,3),input_shape=image_shape, activation='relu',))\n",
        "model_3.add(MaxPooling2D(pool_size=(2, 2)))\n",
        "\n",
        "# Convolution_Layer_2\n",
        "model_3.add(Conv2D(filters=64, kernel_size=(3,3), activation='relu',))\n",
        "model_3.add(MaxPooling2D(pool_size=(2, 2)))\n",
        "\n",
        "# Convolution_Layer_3\n",
        "model_3.add(Conv2D(filters=64, kernel_size=(3,3), activation='relu',))\n",
        "model_3.add(MaxPooling2D(pool_size=(2, 2)))\n",
        "\n",
        "\n",
        "# Convolution_Layer_4\n",
        "model_3.add(Conv2D(filters=128, kernel_size=(3,3), activation='relu',))\n",
        "model_3.add(MaxPooling2D(pool_size=(2, 2)))\n",
        "\n",
        "# Flattening_Layer\n",
        "model_3.add(Flatten())\n",
        "\n",
        "# Dense_Layer_1\n",
        "model_3.add(Dense(256))\n",
        "model_3.add(Activation('relu'))\n",
        "\n",
        "\n",
        "# Dense_Layer_2\n",
        "model_3.add(Dense(128))\n",
        "model_3.add(Activation('relu'))\n",
        "model_3.add(Dropout(0.3))\n",
        "\n",
        "\n",
        "\n",
        "# Last layer uses softmax activation since we are doing a multi class classification\n",
        "model_3.add(Dense(3))\n",
        "model_3.add(Activation('softmax'))\n",
        "\n",
        "model_3.compile(loss='categorical_crossentropy',\n",
        "              optimizer='adam',\n",
        "              metrics=['accuracy'])"
      ],
      "execution_count": 53,
      "outputs": []
    },
    {
      "cell_type": "code",
      "metadata": {
        "colab": {
          "base_uri": "https://localhost:8080/"
        },
        "id": "_eyjDO_6MImP",
        "collapsed": true,
        "cellView": "form",
        "outputId": "d0a933a2-3882-4d9a-b4a2-2e3d364c9ab0"
      },
      "source": [
        "#@title\n",
        "model_3.summary()"
      ],
      "execution_count": 54,
      "outputs": [
        {
          "output_type": "stream",
          "text": [
            "Model: \"sequential_1\"\n",
            "_________________________________________________________________\n",
            "Layer (type)                 Output Shape              Param #   \n",
            "=================================================================\n",
            "conv2d_3 (Conv2D)            (None, 1258, 838, 32)     1184      \n",
            "_________________________________________________________________\n",
            "max_pooling2d_3 (MaxPooling2 (None, 629, 419, 32)      0         \n",
            "_________________________________________________________________\n",
            "conv2d_4 (Conv2D)            (None, 627, 417, 64)      18496     \n",
            "_________________________________________________________________\n",
            "max_pooling2d_4 (MaxPooling2 (None, 313, 208, 64)      0         \n",
            "_________________________________________________________________\n",
            "conv2d_5 (Conv2D)            (None, 311, 206, 64)      36928     \n",
            "_________________________________________________________________\n",
            "max_pooling2d_5 (MaxPooling2 (None, 155, 103, 64)      0         \n",
            "_________________________________________________________________\n",
            "conv2d_6 (Conv2D)            (None, 153, 101, 128)     73856     \n",
            "_________________________________________________________________\n",
            "max_pooling2d_6 (MaxPooling2 (None, 76, 50, 128)       0         \n",
            "_________________________________________________________________\n",
            "flatten_1 (Flatten)          (None, 486400)            0         \n",
            "_________________________________________________________________\n",
            "dense_2 (Dense)              (None, 256)               124518656 \n",
            "_________________________________________________________________\n",
            "activation_2 (Activation)    (None, 256)               0         \n",
            "_________________________________________________________________\n",
            "dense_3 (Dense)              (None, 128)               32896     \n",
            "_________________________________________________________________\n",
            "activation_3 (Activation)    (None, 128)               0         \n",
            "_________________________________________________________________\n",
            "dropout_1 (Dropout)          (None, 128)               0         \n",
            "_________________________________________________________________\n",
            "dense_4 (Dense)              (None, 3)                 387       \n",
            "_________________________________________________________________\n",
            "activation_4 (Activation)    (None, 3)                 0         \n",
            "=================================================================\n",
            "Total params: 124,682,403\n",
            "Trainable params: 124,682,403\n",
            "Non-trainable params: 0\n",
            "_________________________________________________________________\n"
          ],
          "name": "stdout"
        }
      ]
    },
    {
      "cell_type": "code",
      "metadata": {
        "id": "vGodIAtuMMtf"
      },
      "source": [
        "#@title\n",
        "csv_logger_3 = CSVLogger(\"/content/drive/MyDrive/Datasets/Naruto_Sasuke_Sakura_Dataset/re_model_3_history_log.csv\", append=True)"
      ],
      "execution_count": 55,
      "outputs": []
    },
    {
      "cell_type": "code",
      "metadata": {
        "colab": {
          "base_uri": "https://localhost:8080/"
        },
        "id": "1yDUxorEMVXK",
        "outputId": "c28d25f9-66b0-4ff2-f5e9-c4a14f6c1e04"
      },
      "source": [
        "results = model_3.fit(train_image_gen,epochs=40,\n",
        "                    validation_data=test_image_gen,\n",
        "                    callbacks=[early_stop, csv_logger_3])"
      ],
      "execution_count": 56,
      "outputs": [
        {
          "output_type": "stream",
          "text": [
            "Epoch 1/40\n",
            "10/10 [==============================] - 67s 7s/step - loss: 5.0349 - accuracy: 0.2578 - val_loss: 1.2189 - val_accuracy: 0.3333\n",
            "Epoch 2/40\n",
            "10/10 [==============================] - 60s 6s/step - loss: 1.1203 - accuracy: 0.4108 - val_loss: 1.0365 - val_accuracy: 0.4667\n",
            "Epoch 3/40\n",
            "10/10 [==============================] - 61s 6s/step - loss: 1.0285 - accuracy: 0.4881 - val_loss: 1.0254 - val_accuracy: 0.4000\n",
            "Epoch 4/40\n",
            "10/10 [==============================] - 60s 6s/step - loss: 1.0429 - accuracy: 0.5049 - val_loss: 0.9410 - val_accuracy: 0.4667\n",
            "Epoch 5/40\n",
            "10/10 [==============================] - 61s 6s/step - loss: 0.9067 - accuracy: 0.4923 - val_loss: 0.7420 - val_accuracy: 0.5667\n",
            "Epoch 6/40\n",
            "10/10 [==============================] - 61s 7s/step - loss: 1.0414 - accuracy: 0.5377 - val_loss: 0.7347 - val_accuracy: 0.8667\n",
            "Epoch 7/40\n",
            "10/10 [==============================] - 61s 6s/step - loss: 0.7133 - accuracy: 0.7595 - val_loss: 0.8948 - val_accuracy: 0.5333\n",
            "Epoch 8/40\n",
            "10/10 [==============================] - 62s 6s/step - loss: 0.8227 - accuracy: 0.6614 - val_loss: 0.5593 - val_accuracy: 0.8333\n",
            "Epoch 9/40\n",
            "10/10 [==============================] - 61s 6s/step - loss: 0.5276 - accuracy: 0.8146 - val_loss: 0.6065 - val_accuracy: 0.8333\n",
            "Epoch 10/40\n",
            "10/10 [==============================] - 61s 6s/step - loss: 0.9251 - accuracy: 0.6687 - val_loss: 0.9753 - val_accuracy: 0.6000\n",
            "Epoch 11/40\n",
            "10/10 [==============================] - 61s 6s/step - loss: 0.8228 - accuracy: 0.6441 - val_loss: 0.7165 - val_accuracy: 0.8333\n",
            "Epoch 12/40\n",
            "10/10 [==============================] - 62s 6s/step - loss: 0.6594 - accuracy: 0.8054 - val_loss: 0.5672 - val_accuracy: 0.9000\n",
            "Epoch 13/40\n",
            "10/10 [==============================] - 61s 7s/step - loss: 0.6550 - accuracy: 0.7416 - val_loss: 0.5899 - val_accuracy: 0.8000\n",
            "Epoch 14/40\n",
            "10/10 [==============================] - 60s 6s/step - loss: 0.3785 - accuracy: 0.8454 - val_loss: 0.4213 - val_accuracy: 0.8000\n",
            "Epoch 15/40\n",
            "10/10 [==============================] - 61s 6s/step - loss: 0.5090 - accuracy: 0.7612 - val_loss: 0.7734 - val_accuracy: 0.8000\n",
            "Epoch 16/40\n",
            "10/10 [==============================] - 60s 6s/step - loss: 0.4737 - accuracy: 0.8394 - val_loss: 0.5898 - val_accuracy: 0.7667\n",
            "Epoch 17/40\n",
            "10/10 [==============================] - 61s 6s/step - loss: 0.3842 - accuracy: 0.8632 - val_loss: 0.3887 - val_accuracy: 0.9000\n",
            "Epoch 18/40\n",
            "10/10 [==============================] - 60s 6s/step - loss: 0.2748 - accuracy: 0.9227 - val_loss: 0.4530 - val_accuracy: 0.9333\n",
            "Epoch 19/40\n",
            "10/10 [==============================] - 61s 6s/step - loss: 0.1865 - accuracy: 0.9360 - val_loss: 0.4962 - val_accuracy: 0.9000\n",
            "Epoch 20/40\n",
            "10/10 [==============================] - 62s 7s/step - loss: 0.1622 - accuracy: 0.9441 - val_loss: 0.5888 - val_accuracy: 0.9000\n",
            "Epoch 21/40\n",
            "10/10 [==============================] - 61s 6s/step - loss: 0.1917 - accuracy: 0.9603 - val_loss: 0.6948 - val_accuracy: 0.9333\n",
            "Epoch 22/40\n",
            "10/10 [==============================] - 61s 6s/step - loss: 0.1501 - accuracy: 0.9277 - val_loss: 1.0799 - val_accuracy: 0.8333\n",
            "Epoch 23/40\n",
            "10/10 [==============================] - 62s 6s/step - loss: 0.4724 - accuracy: 0.8846 - val_loss: 1.3771 - val_accuracy: 0.6667\n",
            "Epoch 24/40\n",
            "10/10 [==============================] - 62s 6s/step - loss: 0.4883 - accuracy: 0.8117 - val_loss: 0.4064 - val_accuracy: 0.9000\n"
          ],
          "name": "stdout"
        }
      ]
    },
    {
      "cell_type": "code",
      "metadata": {
        "id": "lLsEmeL5Mb2g"
      },
      "source": [
        "#@title\n",
        "model_3.save('/content/drive/MyDrive/Datasets/Naruto_Sasuke_Sakura_Dataset/re_pilot_model_3.h5')"
      ],
      "execution_count": 57,
      "outputs": []
    },
    {
      "cell_type": "code",
      "metadata": {
        "id": "mtL5qgUr3aM2"
      },
      "source": [
        "# Edited model_1\r\n",
        "# model_4\r\n",
        "\r\n",
        "# Create a Sequential model\r\n",
        "model_4 = Sequential()\r\n",
        "\r\n",
        "# Add Layers to the model\r\n",
        "\r\n",
        "# Convolution_Layer_1\r\n",
        "model_4.add(Conv2D(filters=32, kernel_size=(3,3),input_shape=image_shape, activation='relu',))\r\n",
        "model_4.add(MaxPooling2D(pool_size=(2, 2)))\r\n",
        "\r\n",
        "# Convolution_Layer_2\r\n",
        "model_4.add(Conv2D(filters=64, kernel_size=(3,3), activation='relu',))\r\n",
        "model_4.add(MaxPooling2D(pool_size=(2, 2)))\r\n",
        "\r\n",
        "# Convolution_Layer_3\r\n",
        "model_4.add(Conv2D(filters=128, kernel_size=(3,3), activation='relu',))\r\n",
        "model_4.add(MaxPooling2D(pool_size=(2, 2)))\r\n",
        "\r\n",
        "\r\n",
        "# Convolution_Layer_4\r\n",
        "model_4.add(Conv2D(filters=128, kernel_size=(3,3), activation='relu',))\r\n",
        "model_4.add(MaxPooling2D(pool_size=(2, 2)))\r\n",
        "\r\n",
        "# Flattening_Layer\r\n",
        "model_4.add(Flatten())\r\n",
        "\r\n",
        "# Dense_Layer_1\r\n",
        "model_4.add(Dense(256))\r\n",
        "model_4.add(Activation('relu'))\r\n",
        "\r\n",
        "\r\n",
        "# Last layer uses softmax activation since we are doing a multi class classification\r\n",
        "model_4.add(Dense(3))\r\n",
        "model_4.add(Activation('softmax'))\r\n",
        "\r\n",
        "model_4.compile(loss='categorical_crossentropy',\r\n",
        "              optimizer='adam',\r\n",
        "              metrics=['accuracy'])"
      ],
      "execution_count": null,
      "outputs": []
    },
    {
      "cell_type": "code",
      "metadata": {
        "colab": {
          "base_uri": "https://localhost:8080/"
        },
        "id": "aZSR_nia4Tnu",
        "outputId": "ef87f02c-5bdf-4fef-8222-4fbfc2c111ee"
      },
      "source": [
        "model_4.summary()"
      ],
      "execution_count": null,
      "outputs": [
        {
          "output_type": "stream",
          "text": [
            "Model: \"sequential_5\"\n",
            "_________________________________________________________________\n",
            "Layer (type)                 Output Shape              Param #   \n",
            "=================================================================\n",
            "conv2d_20 (Conv2D)           (None, 1258, 838, 32)     1184      \n",
            "_________________________________________________________________\n",
            "max_pooling2d_20 (MaxPooling (None, 629, 419, 32)      0         \n",
            "_________________________________________________________________\n",
            "conv2d_21 (Conv2D)           (None, 627, 417, 64)      18496     \n",
            "_________________________________________________________________\n",
            "max_pooling2d_21 (MaxPooling (None, 313, 208, 64)      0         \n",
            "_________________________________________________________________\n",
            "conv2d_22 (Conv2D)           (None, 311, 206, 128)     73856     \n",
            "_________________________________________________________________\n",
            "max_pooling2d_22 (MaxPooling (None, 155, 103, 128)     0         \n",
            "_________________________________________________________________\n",
            "conv2d_23 (Conv2D)           (None, 153, 101, 128)     147584    \n",
            "_________________________________________________________________\n",
            "max_pooling2d_23 (MaxPooling (None, 76, 50, 128)       0         \n",
            "_________________________________________________________________\n",
            "flatten_5 (Flatten)          (None, 486400)            0         \n",
            "_________________________________________________________________\n",
            "dense_12 (Dense)             (None, 256)               124518656 \n",
            "_________________________________________________________________\n",
            "activation_12 (Activation)   (None, 256)               0         \n",
            "_________________________________________________________________\n",
            "dense_13 (Dense)             (None, 3)                 771       \n",
            "_________________________________________________________________\n",
            "activation_13 (Activation)   (None, 3)                 0         \n",
            "=================================================================\n",
            "Total params: 124,760,547\n",
            "Trainable params: 124,760,547\n",
            "Non-trainable params: 0\n",
            "_________________________________________________________________\n"
          ],
          "name": "stdout"
        }
      ]
    },
    {
      "cell_type": "code",
      "metadata": {
        "id": "nx8KeHiA4Tnx"
      },
      "source": [
        "csv_logger_4 = CSVLogger(\"/content/drive/MyDrive/Datasets/Naruto_Sasuke_Sakura_Dataset/model_4_history_log.csv\", append=True)"
      ],
      "execution_count": null,
      "outputs": []
    },
    {
      "cell_type": "code",
      "metadata": {
        "colab": {
          "base_uri": "https://localhost:8080/"
        },
        "id": "_1EJTluH4Tnz",
        "outputId": "e715b4a9-8129-46b7-ad1b-5d42436b9a2a"
      },
      "source": [
        "results = model_4.fit(train_image_gen,epochs=50,\r\n",
        "                    validation_data=test_image_gen,\r\n",
        "                    callbacks=[early_stop, csv_logger_4])"
      ],
      "execution_count": null,
      "outputs": [
        {
          "output_type": "stream",
          "text": [
            "Epoch 1/50\n",
            "10/10 [==============================] - 65s 7s/step - loss: 7.6934 - accuracy: 0.3138 - val_loss: 1.0984 - val_accuracy: 0.4333\n",
            "Epoch 2/50\n",
            "10/10 [==============================] - 60s 6s/step - loss: 1.0986 - accuracy: 0.3637 - val_loss: 1.0971 - val_accuracy: 0.3333\n",
            "Epoch 3/50\n",
            "10/10 [==============================] - 59s 6s/step - loss: 1.0953 - accuracy: 0.3220 - val_loss: 1.0683 - val_accuracy: 0.4000\n",
            "Epoch 4/50\n",
            "10/10 [==============================] - 59s 6s/step - loss: 1.1073 - accuracy: 0.3912 - val_loss: 1.0972 - val_accuracy: 0.3333\n",
            "Epoch 5/50\n",
            "10/10 [==============================] - 59s 6s/step - loss: 1.0986 - accuracy: 0.3261 - val_loss: 1.0986 - val_accuracy: 0.3000\n",
            "Epoch 6/50\n",
            "10/10 [==============================] - 59s 6s/step - loss: 1.0986 - accuracy: 0.2974 - val_loss: 1.0987 - val_accuracy: 0.3333\n",
            "Epoch 7/50\n",
            "10/10 [==============================] - 59s 6s/step - loss: 1.0987 - accuracy: 0.3161 - val_loss: 1.0984 - val_accuracy: 0.3333\n",
            "Epoch 8/50\n",
            "10/10 [==============================] - 59s 6s/step - loss: 1.0977 - accuracy: 0.3643 - val_loss: 1.0968 - val_accuracy: 0.3667\n",
            "Epoch 9/50\n",
            "10/10 [==============================] - 58s 6s/step - loss: 1.0973 - accuracy: 0.3920 - val_loss: 1.1001 - val_accuracy: 0.3333\n",
            "Epoch 10/50\n",
            "10/10 [==============================] - 59s 6s/step - loss: 1.0976 - accuracy: 0.3859 - val_loss: 1.0892 - val_accuracy: 0.4000\n"
          ],
          "name": "stdout"
        }
      ]
    },
    {
      "cell_type": "code",
      "metadata": {
        "id": "DQ94k0Hm4Tn0"
      },
      "source": [
        "model_4.save('/content/drive/MyDrive/Datasets/Naruto_Sasuke_Sakura_Dataset/pilot_model_4.h5')"
      ],
      "execution_count": null,
      "outputs": []
    },
    {
      "cell_type": "code",
      "metadata": {
        "id": "Ay94Q2J45KWF"
      },
      "source": [
        "# Create a Sequential model\r\n",
        "model_5 = Sequential()\r\n",
        "\r\n",
        "# Add Layers to the model\r\n",
        "\r\n",
        "# Convolution_Layer_1\r\n",
        "model_5.add(Conv2D(filters=32, kernel_size=(3,3),input_shape=image_shape, activation='relu',))\r\n",
        "model_5.add(MaxPooling2D(pool_size=(2, 2)))\r\n",
        "\r\n",
        "# Convolution_Layer_2\r\n",
        "model_5.add(Conv2D(filters=64, kernel_size=(3,3), activation='relu',))\r\n",
        "model_5.add(MaxPooling2D(pool_size=(2, 2)))\r\n",
        "\r\n",
        "# Convolution_Layer_3\r\n",
        "model_5.add(Conv2D(filters=64, kernel_size=(3,3), activation='relu',))\r\n",
        "model_5.add(MaxPooling2D(pool_size=(2, 2)))\r\n",
        "\r\n",
        "\r\n",
        "# Convolution_Layer_4\r\n",
        "model_5.add(Conv2D(filters=128, kernel_size=(3,3), activation='relu',))\r\n",
        "model_5.add(MaxPooling2D(pool_size=(2, 2)))\r\n",
        "\r\n",
        "# Flattening_Layer\r\n",
        "model_5.add(Flatten())\r\n",
        "\r\n",
        "# Dense_Layer_1\r\n",
        "model_5.add(Dense(256))\r\n",
        "model_5.add(Activation('relu'))\r\n",
        "\r\n",
        "\r\n",
        "# Dense_Layer_2\r\n",
        "model_5.add(Dense(128))\r\n",
        "model_5.add(Activation('relu'))\r\n",
        "model_5.add(Dropout(0.3))\r\n",
        "\r\n",
        "\r\n",
        "\r\n",
        "# Last layer uses softmax activation since we are doing a multi class classification\r\n",
        "model_5.add(Dense(3))\r\n",
        "model_5.add(Activation('softmax'))\r\n",
        "\r\n",
        "model_5.compile(loss='categorical_crossentropy',\r\n",
        "              optimizer='adam',\r\n",
        "              metrics=['accuracy'])"
      ],
      "execution_count": null,
      "outputs": []
    },
    {
      "cell_type": "code",
      "metadata": {
        "colab": {
          "base_uri": "https://localhost:8080/"
        },
        "id": "Jk0o4v8i5KWI",
        "outputId": "0132507c-9cd6-4cd8-8621-5b2b414b8b8c"
      },
      "source": [
        "model_5.summary()"
      ],
      "execution_count": null,
      "outputs": [
        {
          "output_type": "stream",
          "text": [
            "Model: \"sequential_8\"\n",
            "_________________________________________________________________\n",
            "Layer (type)                 Output Shape              Param #   \n",
            "=================================================================\n",
            "conv2d_33 (Conv2D)           (None, 1258, 838, 32)     1184      \n",
            "_________________________________________________________________\n",
            "max_pooling2d_33 (MaxPooling (None, 629, 419, 32)      0         \n",
            "_________________________________________________________________\n",
            "conv2d_34 (Conv2D)           (None, 627, 417, 64)      18496     \n",
            "_________________________________________________________________\n",
            "max_pooling2d_34 (MaxPooling (None, 313, 208, 64)      0         \n",
            "_________________________________________________________________\n",
            "conv2d_35 (Conv2D)           (None, 311, 206, 64)      36928     \n",
            "_________________________________________________________________\n",
            "max_pooling2d_35 (MaxPooling (None, 155, 103, 64)      0         \n",
            "_________________________________________________________________\n",
            "conv2d_36 (Conv2D)           (None, 153, 101, 128)     73856     \n",
            "_________________________________________________________________\n",
            "max_pooling2d_36 (MaxPooling (None, 76, 50, 128)       0         \n",
            "_________________________________________________________________\n",
            "flatten_8 (Flatten)          (None, 486400)            0         \n",
            "_________________________________________________________________\n",
            "dense_20 (Dense)             (None, 256)               124518656 \n",
            "_________________________________________________________________\n",
            "activation_20 (Activation)   (None, 256)               0         \n",
            "_________________________________________________________________\n",
            "dense_21 (Dense)             (None, 128)               32896     \n",
            "_________________________________________________________________\n",
            "activation_21 (Activation)   (None, 128)               0         \n",
            "_________________________________________________________________\n",
            "dropout_9 (Dropout)          (None, 128)               0         \n",
            "_________________________________________________________________\n",
            "dense_22 (Dense)             (None, 3)                 387       \n",
            "_________________________________________________________________\n",
            "activation_22 (Activation)   (None, 3)                 0         \n",
            "=================================================================\n",
            "Total params: 124,682,403\n",
            "Trainable params: 124,682,403\n",
            "Non-trainable params: 0\n",
            "_________________________________________________________________\n"
          ],
          "name": "stdout"
        }
      ]
    },
    {
      "cell_type": "code",
      "metadata": {
        "id": "dRNdA4Hz5KWI"
      },
      "source": [
        "csv_logger_5 = CSVLogger(\"/content/drive/MyDrive/Datasets/Naruto_Sasuke_Sakura_Dataset/model_5_WES_history_log.csv\", append=True)"
      ],
      "execution_count": null,
      "outputs": []
    },
    {
      "cell_type": "code",
      "metadata": {
        "colab": {
          "base_uri": "https://localhost:8080/"
        },
        "id": "EpSH9S6d5KWJ",
        "outputId": "f20f1255-7044-4cbe-b8e1-fe580a57f1d4"
      },
      "source": [
        "results = model_5.fit(train_image_gen,epochs=50,\r\n",
        "                    validation_data=test_image_gen,\r\n",
        "                    callbacks=[csv_logger_5])"
      ],
      "execution_count": null,
      "outputs": [
        {
          "output_type": "stream",
          "text": [
            "Epoch 1/50\n",
            "10/10 [==============================] - 65s 7s/step - loss: 6.9712 - accuracy: 0.4785 - val_loss: 1.0345 - val_accuracy: 0.6000\n",
            "Epoch 2/50\n",
            "10/10 [==============================] - 58s 6s/step - loss: 1.0854 - accuracy: 0.3304 - val_loss: 0.9924 - val_accuracy: 0.4000\n",
            "Epoch 3/50\n",
            "10/10 [==============================] - 58s 6s/step - loss: 0.9196 - accuracy: 0.5948 - val_loss: 1.1689 - val_accuracy: 0.4000\n",
            "Epoch 4/50\n",
            "10/10 [==============================] - 58s 6s/step - loss: 1.1484 - accuracy: 0.4378 - val_loss: 1.0579 - val_accuracy: 0.4000\n",
            "Epoch 5/50\n",
            "10/10 [==============================] - 59s 6s/step - loss: 1.0867 - accuracy: 0.4251 - val_loss: 0.9362 - val_accuracy: 0.4667\n",
            "Epoch 6/50\n",
            "10/10 [==============================] - 58s 6s/step - loss: 0.9048 - accuracy: 0.4974 - val_loss: 0.9253 - val_accuracy: 0.6000\n",
            "Epoch 7/50\n",
            "10/10 [==============================] - 58s 6s/step - loss: 0.6835 - accuracy: 0.7330 - val_loss: 0.8217 - val_accuracy: 0.7000\n",
            "Epoch 8/50\n",
            "10/10 [==============================] - 58s 6s/step - loss: 0.6141 - accuracy: 0.7975 - val_loss: 0.7991 - val_accuracy: 0.5667\n",
            "Epoch 9/50\n",
            "10/10 [==============================] - 58s 6s/step - loss: 0.5288 - accuracy: 0.7400 - val_loss: 0.7033 - val_accuracy: 0.8000\n",
            "Epoch 10/50\n",
            "10/10 [==============================] - 58s 6s/step - loss: 0.3683 - accuracy: 0.9113 - val_loss: 1.7158 - val_accuracy: 0.6000\n",
            "Epoch 11/50\n",
            "10/10 [==============================] - 58s 6s/step - loss: 0.6570 - accuracy: 0.7445 - val_loss: 0.6968 - val_accuracy: 0.6667\n",
            "Epoch 12/50\n",
            "10/10 [==============================] - 58s 6s/step - loss: 0.5762 - accuracy: 0.7284 - val_loss: 0.5267 - val_accuracy: 0.8000\n",
            "Epoch 13/50\n",
            "10/10 [==============================] - 58s 6s/step - loss: 0.3485 - accuracy: 0.8904 - val_loss: 0.4603 - val_accuracy: 0.8667\n",
            "Epoch 14/50\n",
            "10/10 [==============================] - 58s 6s/step - loss: 0.2435 - accuracy: 0.9345 - val_loss: 0.4860 - val_accuracy: 0.8333\n",
            "Epoch 15/50\n",
            "10/10 [==============================] - 59s 6s/step - loss: 0.3040 - accuracy: 0.8711 - val_loss: 0.5478 - val_accuracy: 0.8667\n",
            "Epoch 16/50\n",
            "10/10 [==============================] - 58s 6s/step - loss: 0.1852 - accuracy: 0.9357 - val_loss: 0.5857 - val_accuracy: 0.9000\n",
            "Epoch 17/50\n",
            "10/10 [==============================] - 58s 6s/step - loss: 0.1864 - accuracy: 0.9333 - val_loss: 0.4353 - val_accuracy: 0.9000\n",
            "Epoch 18/50\n",
            "10/10 [==============================] - 58s 6s/step - loss: 0.2528 - accuracy: 0.9432 - val_loss: 0.6074 - val_accuracy: 0.8667\n",
            "Epoch 19/50\n",
            "10/10 [==============================] - 58s 6s/step - loss: 0.8486 - accuracy: 0.7373 - val_loss: 0.4294 - val_accuracy: 0.8000\n",
            "Epoch 20/50\n",
            "10/10 [==============================] - 58s 6s/step - loss: 0.4318 - accuracy: 0.8952 - val_loss: 0.3845 - val_accuracy: 0.9333\n",
            "Epoch 21/50\n",
            "10/10 [==============================] - 57s 6s/step - loss: 0.3027 - accuracy: 0.8636 - val_loss: 0.2743 - val_accuracy: 0.8667\n",
            "Epoch 22/50\n",
            "10/10 [==============================] - 58s 6s/step - loss: 0.1925 - accuracy: 0.9461 - val_loss: 0.6104 - val_accuracy: 0.9333\n",
            "Epoch 23/50\n",
            "10/10 [==============================] - 58s 6s/step - loss: 0.0825 - accuracy: 0.9752 - val_loss: 0.5267 - val_accuracy: 0.9333\n",
            "Epoch 24/50\n",
            "10/10 [==============================] - 58s 6s/step - loss: 0.2314 - accuracy: 0.9260 - val_loss: 0.2357 - val_accuracy: 0.9333\n",
            "Epoch 25/50\n",
            "10/10 [==============================] - 58s 6s/step - loss: 0.2668 - accuracy: 0.9519 - val_loss: 0.2871 - val_accuracy: 0.9000\n",
            "Epoch 26/50\n",
            "10/10 [==============================] - 58s 6s/step - loss: 0.1513 - accuracy: 0.9197 - val_loss: 0.2665 - val_accuracy: 0.9333\n",
            "Epoch 27/50\n",
            "10/10 [==============================] - 58s 6s/step - loss: 0.0936 - accuracy: 0.9778 - val_loss: 0.5755 - val_accuracy: 0.8667\n",
            "Epoch 28/50\n",
            "10/10 [==============================] - 58s 6s/step - loss: 0.2481 - accuracy: 0.9192 - val_loss: 0.2686 - val_accuracy: 0.9333\n",
            "Epoch 29/50\n",
            "10/10 [==============================] - 57s 6s/step - loss: 0.1500 - accuracy: 0.9627 - val_loss: 0.7835 - val_accuracy: 0.8333\n",
            "Epoch 30/50\n",
            "10/10 [==============================] - 58s 6s/step - loss: 0.1558 - accuracy: 0.9424 - val_loss: 0.5161 - val_accuracy: 0.8667\n",
            "Epoch 31/50\n",
            "10/10 [==============================] - 58s 6s/step - loss: 0.1299 - accuracy: 0.9374 - val_loss: 0.4820 - val_accuracy: 0.9333\n",
            "Epoch 32/50\n",
            "10/10 [==============================] - 58s 6s/step - loss: 0.4568 - accuracy: 0.8807 - val_loss: 0.8052 - val_accuracy: 0.7667\n",
            "Epoch 33/50\n",
            "10/10 [==============================] - 58s 6s/step - loss: 0.6285 - accuracy: 0.7335 - val_loss: 0.2553 - val_accuracy: 0.9000\n",
            "Epoch 34/50\n",
            "10/10 [==============================] - 58s 6s/step - loss: 0.3373 - accuracy: 0.8283 - val_loss: 0.3732 - val_accuracy: 0.9000\n",
            "Epoch 35/50\n",
            "10/10 [==============================] - 58s 6s/step - loss: 0.2071 - accuracy: 0.9486 - val_loss: 0.6349 - val_accuracy: 0.9000\n",
            "Epoch 36/50\n",
            "10/10 [==============================] - 58s 6s/step - loss: 0.1155 - accuracy: 0.9729 - val_loss: 0.6588 - val_accuracy: 0.9333\n",
            "Epoch 37/50\n",
            "10/10 [==============================] - 58s 6s/step - loss: 0.1124 - accuracy: 0.9512 - val_loss: 1.8193 - val_accuracy: 0.7000\n",
            "Epoch 38/50\n",
            "10/10 [==============================] - 58s 6s/step - loss: 0.7602 - accuracy: 0.7494 - val_loss: 0.6201 - val_accuracy: 0.8667\n",
            "Epoch 39/50\n",
            "10/10 [==============================] - 58s 6s/step - loss: 0.1786 - accuracy: 0.9171 - val_loss: 0.6305 - val_accuracy: 0.8333\n",
            "Epoch 40/50\n",
            "10/10 [==============================] - 58s 6s/step - loss: 0.1259 - accuracy: 0.9756 - val_loss: 0.6258 - val_accuracy: 0.9000\n",
            "Epoch 41/50\n",
            "10/10 [==============================] - 58s 6s/step - loss: 0.2497 - accuracy: 0.8675 - val_loss: 0.4519 - val_accuracy: 0.9333\n",
            "Epoch 42/50\n",
            "10/10 [==============================] - 58s 6s/step - loss: 0.0943 - accuracy: 0.9695 - val_loss: 0.4795 - val_accuracy: 0.9000\n",
            "Epoch 43/50\n",
            "10/10 [==============================] - 58s 6s/step - loss: 0.0955 - accuracy: 0.9784 - val_loss: 0.9477 - val_accuracy: 0.8667\n",
            "Epoch 44/50\n",
            "10/10 [==============================] - 58s 6s/step - loss: 0.3004 - accuracy: 0.9322 - val_loss: 0.5595 - val_accuracy: 0.8667\n",
            "Epoch 45/50\n",
            "10/10 [==============================] - 58s 6s/step - loss: 0.2223 - accuracy: 0.9212 - val_loss: 0.4402 - val_accuracy: 0.9333\n",
            "Epoch 46/50\n",
            "10/10 [==============================] - 57s 6s/step - loss: 0.0670 - accuracy: 0.9753 - val_loss: 0.5002 - val_accuracy: 0.9333\n",
            "Epoch 47/50\n",
            "10/10 [==============================] - 57s 6s/step - loss: 0.0353 - accuracy: 0.9963 - val_loss: 0.5346 - val_accuracy: 0.9000\n",
            "Epoch 48/50\n",
            "10/10 [==============================] - 58s 6s/step - loss: 0.0214 - accuracy: 0.9918 - val_loss: 1.1514 - val_accuracy: 0.8667\n",
            "Epoch 49/50\n",
            "10/10 [==============================] - 58s 6s/step - loss: 0.0250 - accuracy: 0.9934 - val_loss: 0.7170 - val_accuracy: 0.9000\n",
            "Epoch 50/50\n",
            "10/10 [==============================] - 58s 6s/step - loss: 0.9709 - accuracy: 0.7544 - val_loss: 0.5441 - val_accuracy: 0.8667\n"
          ],
          "name": "stdout"
        }
      ]
    },
    {
      "cell_type": "code",
      "metadata": {
        "id": "RSfy_saw5KWJ"
      },
      "source": [
        "model_5.save('/content/drive/MyDrive/Datasets/Naruto_Sasuke_Sakura_Dataset/pilot_model_5_WES.h5')"
      ],
      "execution_count": null,
      "outputs": []
    },
    {
      "cell_type": "code",
      "metadata": {
        "id": "LxzZuJXp5K9c"
      },
      "source": [
        "# Create a Sequential model\r\n",
        "model_6 = Sequential()\r\n",
        "\r\n",
        "# Add Layers to the model\r\n",
        "\r\n",
        "# Convolution_Layer_1\r\n",
        "model_6.add(Conv2D(filters=32, kernel_size=(3,3),input_shape=image_shape, activation='relu',))\r\n",
        "model_6.add(MaxPooling2D(pool_size=(2, 2)))\r\n",
        "\r\n",
        "# Convolution_Layer_2\r\n",
        "model_6.add(Conv2D(filters=64, kernel_size=(3,3), activation='relu',))\r\n",
        "model_6.add(MaxPooling2D(pool_size=(2, 2)))\r\n",
        "\r\n",
        "# Convolution_Layer_3\r\n",
        "model_6.add(Conv2D(filters=64, kernel_size=(3,3), activation='relu',))\r\n",
        "model_6.add(MaxPooling2D(pool_size=(2, 2)))\r\n",
        "\r\n",
        "\r\n",
        "# Convolution_Layer_4\r\n",
        "model_6.add(Conv2D(filters=128, kernel_size=(3,3), activation='relu',))\r\n",
        "model_6.add(MaxPooling2D(pool_size=(2, 2)))\r\n",
        "\r\n",
        "# Convolution_Layer_5\r\n",
        "model_6.add(Conv2D(filters=128, kernel_size=(3,3), activation='relu',))\r\n",
        "model_6.add(MaxPooling2D(pool_size=(2, 2)))\r\n",
        "\r\n",
        "# Flattening_Layer\r\n",
        "model_6.add(Flatten())\r\n",
        "\r\n",
        "# Dense_Layer_1\r\n",
        "model_6.add(Dense(256))\r\n",
        "model_6.add(Activation('relu'))\r\n",
        "\r\n",
        "\r\n",
        "# Dense_Layer_2\r\n",
        "model_6.add(Dense(128))\r\n",
        "model_6.add(Activation('relu'))\r\n",
        "# model_6.add(Dropout(0.3))\r\n",
        "\r\n",
        "\r\n",
        "\r\n",
        "# Last layer uses softmax activation since we are doing a multi class classification\r\n",
        "model_6.add(Dense(3))\r\n",
        "model_6.add(Activation('softmax'))\r\n",
        "\r\n",
        "model_6.compile(loss='categorical_crossentropy',\r\n",
        "              optimizer='adam',\r\n",
        "              metrics=['accuracy'])"
      ],
      "execution_count": null,
      "outputs": []
    },
    {
      "cell_type": "code",
      "metadata": {
        "colab": {
          "base_uri": "https://localhost:8080/"
        },
        "id": "EQDVrKfF5K9e",
        "outputId": "450157ce-9e96-4669-c359-47423cab96dd"
      },
      "source": [
        "model_6.summary()"
      ],
      "execution_count": null,
      "outputs": [
        {
          "output_type": "stream",
          "text": [
            "Model: \"sequential_7\"\n",
            "_________________________________________________________________\n",
            "Layer (type)                 Output Shape              Param #   \n",
            "=================================================================\n",
            "conv2d_28 (Conv2D)           (None, 1258, 838, 32)     1184      \n",
            "_________________________________________________________________\n",
            "max_pooling2d_28 (MaxPooling (None, 629, 419, 32)      0         \n",
            "_________________________________________________________________\n",
            "conv2d_29 (Conv2D)           (None, 627, 417, 64)      18496     \n",
            "_________________________________________________________________\n",
            "max_pooling2d_29 (MaxPooling (None, 313, 208, 64)      0         \n",
            "_________________________________________________________________\n",
            "conv2d_30 (Conv2D)           (None, 311, 206, 64)      36928     \n",
            "_________________________________________________________________\n",
            "max_pooling2d_30 (MaxPooling (None, 155, 103, 64)      0         \n",
            "_________________________________________________________________\n",
            "conv2d_31 (Conv2D)           (None, 153, 101, 128)     73856     \n",
            "_________________________________________________________________\n",
            "max_pooling2d_31 (MaxPooling (None, 76, 50, 128)       0         \n",
            "_________________________________________________________________\n",
            "conv2d_32 (Conv2D)           (None, 74, 48, 128)       147584    \n",
            "_________________________________________________________________\n",
            "max_pooling2d_32 (MaxPooling (None, 37, 24, 128)       0         \n",
            "_________________________________________________________________\n",
            "flatten_7 (Flatten)          (None, 113664)            0         \n",
            "_________________________________________________________________\n",
            "dense_17 (Dense)             (None, 256)               29098240  \n",
            "_________________________________________________________________\n",
            "activation_17 (Activation)   (None, 256)               0         \n",
            "_________________________________________________________________\n",
            "dense_18 (Dense)             (None, 128)               32896     \n",
            "_________________________________________________________________\n",
            "activation_18 (Activation)   (None, 128)               0         \n",
            "_________________________________________________________________\n",
            "dense_19 (Dense)             (None, 3)                 387       \n",
            "_________________________________________________________________\n",
            "activation_19 (Activation)   (None, 3)                 0         \n",
            "=================================================================\n",
            "Total params: 29,409,571\n",
            "Trainable params: 29,409,571\n",
            "Non-trainable params: 0\n",
            "_________________________________________________________________\n"
          ],
          "name": "stdout"
        }
      ]
    },
    {
      "cell_type": "code",
      "metadata": {
        "id": "sUzvnBms5K9f"
      },
      "source": [
        "csv_logger_6 = CSVLogger(\"/content/drive/MyDrive/Datasets/Naruto_Sasuke_Sakura_Dataset/model_6_history_log.csv\", append=True)"
      ],
      "execution_count": null,
      "outputs": []
    },
    {
      "cell_type": "code",
      "metadata": {
        "colab": {
          "base_uri": "https://localhost:8080/"
        },
        "id": "L1qk-f7O5K9g",
        "outputId": "dcc11ad8-ae1c-409e-847b-45a5afba7e0e"
      },
      "source": [
        "results = model_6.fit(train_image_gen,epochs=50,\r\n",
        "                    validation_data=test_image_gen,\r\n",
        "                    callbacks=[early_stop, csv_logger_6])"
      ],
      "execution_count": null,
      "outputs": [
        {
          "output_type": "stream",
          "text": [
            "Epoch 1/50\n",
            "10/10 [==============================] - 66s 7s/step - loss: 2.3063 - accuracy: 0.3972 - val_loss: 1.1220 - val_accuracy: 0.3333\n",
            "Epoch 2/50\n",
            "10/10 [==============================] - 58s 6s/step - loss: 1.0942 - accuracy: 0.3550 - val_loss: 1.0376 - val_accuracy: 0.5333\n",
            "Epoch 3/50\n",
            "10/10 [==============================] - 58s 6s/step - loss: 0.9552 - accuracy: 0.5505 - val_loss: 1.2145 - val_accuracy: 0.5667\n",
            "Epoch 4/50\n",
            "10/10 [==============================] - 58s 6s/step - loss: 0.9717 - accuracy: 0.5497 - val_loss: 0.8946 - val_accuracy: 0.3667\n",
            "Epoch 5/50\n",
            "10/10 [==============================] - 58s 6s/step - loss: 0.8290 - accuracy: 0.5334 - val_loss: 0.8945 - val_accuracy: 0.7000\n",
            "Epoch 6/50\n",
            "10/10 [==============================] - 58s 6s/step - loss: 0.7542 - accuracy: 0.7936 - val_loss: 0.7696 - val_accuracy: 0.7000\n",
            "Epoch 7/50\n",
            "10/10 [==============================] - 58s 6s/step - loss: 0.7112 - accuracy: 0.6968 - val_loss: 0.7952 - val_accuracy: 0.6333\n",
            "Epoch 8/50\n",
            "10/10 [==============================] - 58s 6s/step - loss: 0.6073 - accuracy: 0.7294 - val_loss: 0.8533 - val_accuracy: 0.7333\n",
            "Epoch 9/50\n",
            "10/10 [==============================] - 58s 6s/step - loss: 0.5917 - accuracy: 0.7702 - val_loss: 1.3728 - val_accuracy: 0.5667\n",
            "Epoch 10/50\n",
            "10/10 [==============================] - 58s 6s/step - loss: 0.5801 - accuracy: 0.7534 - val_loss: 0.6967 - val_accuracy: 0.8000\n",
            "Epoch 11/50\n",
            "10/10 [==============================] - 58s 6s/step - loss: 0.4616 - accuracy: 0.8223 - val_loss: 1.1037 - val_accuracy: 0.7000\n",
            "Epoch 12/50\n",
            "10/10 [==============================] - 58s 6s/step - loss: 0.5689 - accuracy: 0.8029 - val_loss: 0.6572 - val_accuracy: 0.7333\n",
            "Epoch 13/50\n",
            "10/10 [==============================] - 58s 6s/step - loss: 0.4595 - accuracy: 0.8552 - val_loss: 0.9828 - val_accuracy: 0.6333\n",
            "Epoch 14/50\n",
            "10/10 [==============================] - 58s 6s/step - loss: 0.7481 - accuracy: 0.6282 - val_loss: 0.7829 - val_accuracy: 0.6000\n",
            "Epoch 15/50\n",
            "10/10 [==============================] - 59s 6s/step - loss: 0.7481 - accuracy: 0.6837 - val_loss: 0.7091 - val_accuracy: 0.6667\n",
            "Epoch 16/50\n",
            "10/10 [==============================] - 58s 6s/step - loss: 0.6451 - accuracy: 0.7454 - val_loss: 0.6797 - val_accuracy: 0.7000\n",
            "Epoch 17/50\n",
            "10/10 [==============================] - 59s 6s/step - loss: 0.4318 - accuracy: 0.7728 - val_loss: 0.6797 - val_accuracy: 0.8333\n",
            "Epoch 18/50\n",
            "10/10 [==============================] - 58s 6s/step - loss: 0.3252 - accuracy: 0.8443 - val_loss: 1.0501 - val_accuracy: 0.8333\n",
            "Epoch 19/50\n",
            "10/10 [==============================] - 58s 6s/step - loss: 0.3919 - accuracy: 0.8649 - val_loss: 1.1988 - val_accuracy: 0.7667\n"
          ],
          "name": "stdout"
        }
      ]
    },
    {
      "cell_type": "code",
      "metadata": {
        "id": "X49MCA4R5K9g"
      },
      "source": [
        "model_6.save('/content/drive/MyDrive/Datasets/Naruto_Sasuke_Sakura_Dataset/pilot_model_6.h5')"
      ],
      "execution_count": null,
      "outputs": []
    },
    {
      "cell_type": "markdown",
      "metadata": {
        "id": "ReJpVBlTjJDV"
      },
      "source": [
        "### Inference\r\n",
        "#### The learning curve is not showing a uniform trend it is very unstable.\r\n",
        "#### This might indicate some problems in out models.\r\n",
        "\r\n",
        "### Solutions\r\n",
        "#### Try using 'same' padding instead of valid.\r\n",
        "#### "
      ]
    },
    {
      "cell_type": "code",
      "metadata": {
        "id": "ic_X7RGEwWbd"
      },
      "source": [
        "from tensorflow.keras.models import load_model"
      ],
      "execution_count": null,
      "outputs": []
    },
    {
      "cell_type": "code",
      "metadata": {
        "id": "UFYkMU4kwqo9"
      },
      "source": [
        "model_1 = load_model('/content/drive/MyDrive/Datasets/Naruto_Sasuke_Sakura_Dataset/pilot_model_1.h5')\r\n",
        "model_2 = load_model('/content/drive/MyDrive/Datasets/Naruto_Sasuke_Sakura_Dataset/pilot_model_2.h5')\r\n",
        "# model_3 = load_model('/content/drive/MyDrive/Datasets/Naruto_Sasuke_Sakura_Dataset/pilot_model_3.h5')"
      ],
      "execution_count": null,
      "outputs": []
    },
    {
      "cell_type": "code",
      "metadata": {
        "id": "wfL9RhLDw7NN"
      },
      "source": [
        "model_1_history = pd.read_csv('/content/drive/MyDrive/Datasets/Naruto_Sasuke_Sakura_Dataset/model_1_history_log.csv')\r\n",
        "model_2_history = pd.read_csv('/content/drive/MyDrive/Datasets/Naruto_Sasuke_Sakura_Dataset/model_2_history_log.csv')\r\n",
        "model_3_history = pd.read_csv('/content/drive/MyDrive/Datasets/Naruto_Sasuke_Sakura_Dataset/model_3_history_log.csv')"
      ],
      "execution_count": null,
      "outputs": []
    },
    {
      "cell_type": "code",
      "metadata": {
        "colab": {
          "base_uri": "https://localhost:8080/",
          "height": 205
        },
        "id": "FA4MvI_i803h",
        "outputId": "c5d9b6f0-3ba3-4a5b-9f65-79bc86d699c2"
      },
      "source": [
        "model_1_history = pd.read_csv('/content/drive/MyDrive/Datasets/Naruto_Sasuke_Sakura_Dataset/re_model_1_history_log.csv')"
      ],
      "execution_count": 23,
      "outputs": [
        {
          "output_type": "error",
          "ename": "NameError",
          "evalue": "ignored",
          "traceback": [
            "\u001b[0;31m---------------------------------------------------------------------------\u001b[0m",
            "\u001b[0;31mNameError\u001b[0m                                 Traceback (most recent call last)",
            "\u001b[0;32m<ipython-input-23-3d162252d665>\u001b[0m in \u001b[0;36m<module>\u001b[0;34m()\u001b[0m\n\u001b[0;32m----> 1\u001b[0;31m \u001b[0mmodel_1_history\u001b[0m \u001b[0;34m=\u001b[0m \u001b[0mpd\u001b[0m\u001b[0;34m.\u001b[0m\u001b[0mread_csv\u001b[0m\u001b[0;34m(\u001b[0m\u001b[0;34m'/content/drive/MyDrive/Datasets/Naruto_Sasuke_Sakura_Dataset/re_model_1_history_log.csv'\u001b[0m\u001b[0;34m)\u001b[0m\u001b[0;34m\u001b[0m\u001b[0;34m\u001b[0m\u001b[0m\n\u001b[0m",
            "\u001b[0;31mNameError\u001b[0m: name 'pd' is not defined"
          ]
        }
      ]
    },
    {
      "cell_type": "code",
      "metadata": {
        "id": "YeoS1ZYIQo5S"
      },
      "source": [
        "import pandas as pd\r\n",
        "\r\n",
        "model_3_history = pd.read_csv('/content/drive/MyDrive/Datasets/Naruto_Sasuke_Sakura_Dataset/re_model_3_history_log.csv')\r\n"
      ],
      "execution_count": 58,
      "outputs": []
    },
    {
      "cell_type": "code",
      "metadata": {
        "colab": {
          "base_uri": "https://localhost:8080/",
          "height": 199
        },
        "id": "Gxx3YZHYxhlL",
        "outputId": "449c7ed5-8208-4bd5-943c-d4735de3ef7a"
      },
      "source": [
        "model_3_history.head()"
      ],
      "execution_count": 59,
      "outputs": [
        {
          "output_type": "execute_result",
          "data": {
            "text/html": [
              "<div>\n",
              "<style scoped>\n",
              "    .dataframe tbody tr th:only-of-type {\n",
              "        vertical-align: middle;\n",
              "    }\n",
              "\n",
              "    .dataframe tbody tr th {\n",
              "        vertical-align: top;\n",
              "    }\n",
              "\n",
              "    .dataframe thead th {\n",
              "        text-align: right;\n",
              "    }\n",
              "</style>\n",
              "<table border=\"1\" class=\"dataframe\">\n",
              "  <thead>\n",
              "    <tr style=\"text-align: right;\">\n",
              "      <th></th>\n",
              "      <th>epoch</th>\n",
              "      <th>accuracy</th>\n",
              "      <th>loss</th>\n",
              "      <th>val_accuracy</th>\n",
              "      <th>val_loss</th>\n",
              "    </tr>\n",
              "  </thead>\n",
              "  <tbody>\n",
              "    <tr>\n",
              "      <th>0</th>\n",
              "      <td>0</td>\n",
              "      <td>0.262069</td>\n",
              "      <td>3.535610</td>\n",
              "      <td>0.333333</td>\n",
              "      <td>1.218921</td>\n",
              "    </tr>\n",
              "    <tr>\n",
              "      <th>1</th>\n",
              "      <td>1</td>\n",
              "      <td>0.434483</td>\n",
              "      <td>1.089244</td>\n",
              "      <td>0.466667</td>\n",
              "      <td>1.036494</td>\n",
              "    </tr>\n",
              "    <tr>\n",
              "      <th>2</th>\n",
              "      <td>2</td>\n",
              "      <td>0.489655</td>\n",
              "      <td>1.020860</td>\n",
              "      <td>0.400000</td>\n",
              "      <td>1.025364</td>\n",
              "    </tr>\n",
              "    <tr>\n",
              "      <th>3</th>\n",
              "      <td>3</td>\n",
              "      <td>0.517241</td>\n",
              "      <td>1.014015</td>\n",
              "      <td>0.466667</td>\n",
              "      <td>0.941037</td>\n",
              "    </tr>\n",
              "    <tr>\n",
              "      <th>4</th>\n",
              "      <td>4</td>\n",
              "      <td>0.551724</td>\n",
              "      <td>0.875205</td>\n",
              "      <td>0.566667</td>\n",
              "      <td>0.741986</td>\n",
              "    </tr>\n",
              "  </tbody>\n",
              "</table>\n",
              "</div>"
            ],
            "text/plain": [
              "   epoch  accuracy      loss  val_accuracy  val_loss\n",
              "0      0  0.262069  3.535610      0.333333  1.218921\n",
              "1      1  0.434483  1.089244      0.466667  1.036494\n",
              "2      2  0.489655  1.020860      0.400000  1.025364\n",
              "3      3  0.517241  1.014015      0.466667  0.941037\n",
              "4      4  0.551724  0.875205      0.566667  0.741986"
            ]
          },
          "metadata": {
            "tags": []
          },
          "execution_count": 59
        }
      ]
    },
    {
      "cell_type": "code",
      "metadata": {
        "colab": {
          "base_uri": "https://localhost:8080/"
        },
        "id": "ZeRrD5TF9PMw",
        "outputId": "39edcbaf-786c-4c5d-e7fb-1521f15a9288"
      },
      "source": [
        "results.history['accuracy'][:5]"
      ],
      "execution_count": 39,
      "outputs": [
        {
          "output_type": "execute_result",
          "data": {
            "text/plain": [
              "[0.35862070322036743,\n",
              " 0.38620689511299133,\n",
              " 0.4275861978530884,\n",
              " 0.6137930750846863,\n",
              " 0.6551724076271057]"
            ]
          },
          "metadata": {
            "tags": []
          },
          "execution_count": 39
        }
      ]
    },
    {
      "cell_type": "markdown",
      "metadata": {
        "id": "zEqaB_xUZW2R"
      },
      "source": [
        "# Evaluating the Model"
      ]
    },
    {
      "cell_type": "code",
      "metadata": {
        "id": "FYSmfnBSZW2R"
      },
      "source": [
        "# import pandas as pd\r\n",
        "# losses = pd.DataFrame(model.history.history)"
      ],
      "execution_count": null,
      "outputs": []
    },
    {
      "cell_type": "code",
      "metadata": {
        "id": "-CCbWR7MZW2R",
        "colab": {
          "base_uri": "https://localhost:8080/"
        },
        "outputId": "ed454f59-5504-4e89-cd0c-543e890de164"
      },
      "source": [
        "model_1.metrics_names"
      ],
      "execution_count": null,
      "outputs": [
        {
          "output_type": "execute_result",
          "data": {
            "text/plain": [
              "['loss', 'accuracy']"
            ]
          },
          "metadata": {
            "tags": []
          },
          "execution_count": 31
        }
      ]
    },
    {
      "cell_type": "code",
      "metadata": {
        "id": "GNrcVJ5tZW2R",
        "colab": {
          "base_uri": "https://localhost:8080/"
        },
        "outputId": "2d6244bb-23b8-4692-e5e4-9fcf3e2946ef"
      },
      "source": [
        "model_1.evaluate(test_image_gen)"
      ],
      "execution_count": null,
      "outputs": [
        {
          "output_type": "stream",
          "text": [
            "2/2 [==============================] - 10s 5s/step - loss: 0.3767 - accuracy: 0.9000\n"
          ],
          "name": "stdout"
        },
        {
          "output_type": "execute_result",
          "data": {
            "text/plain": [
              "[0.37671026587486267, 0.8999999761581421]"
            ]
          },
          "metadata": {
            "tags": []
          },
          "execution_count": 75
        }
      ]
    },
    {
      "cell_type": "code",
      "metadata": {
        "id": "g0HA4L2rZW2S",
        "colab": {
          "base_uri": "https://localhost:8080/"
        },
        "outputId": "15b600cf-b793-4d86-eec0-da495cfd03f7"
      },
      "source": [
        "model_3.evaluate(test_image_gen)"
      ],
      "execution_count": 60,
      "outputs": [
        {
          "output_type": "stream",
          "text": [
            "2/2 [==============================] - 10s 5s/step - loss: 0.4259 - accuracy: 0.8667\n"
          ],
          "name": "stdout"
        },
        {
          "output_type": "execute_result",
          "data": {
            "text/plain": [
              "[0.42587289214134216, 0.8666666746139526]"
            ]
          },
          "metadata": {
            "tags": []
          },
          "execution_count": 60
        }
      ]
    },
    {
      "cell_type": "code",
      "metadata": {
        "id": "w7_tOwf8x4u0"
      },
      "source": [
        "model_3.evaluate(test_image_gen)"
      ],
      "execution_count": null,
      "outputs": []
    },
    {
      "cell_type": "code",
      "metadata": {
        "colab": {
          "base_uri": "https://localhost:8080/",
          "height": 282
        },
        "id": "9ubSSRVN1rxP",
        "outputId": "f7c790d7-9028-44b2-c58e-4ff7709f7e67"
      },
      "source": [
        "model_1_history[['loss', 'val_loss']][1:].plot()"
      ],
      "execution_count": null,
      "outputs": [
        {
          "output_type": "execute_result",
          "data": {
            "text/plain": [
              "<matplotlib.axes._subplots.AxesSubplot at 0x7f56009097b8>"
            ]
          },
          "metadata": {
            "tags": []
          },
          "execution_count": 72
        },
        {
          "output_type": "display_data",
          "data": {
            "image/png": "[encoded data removed]",
            "text/plain": [
              "<Figure size 432x288 with 1 Axes>"
            ]
          },
          "metadata": {
            "tags": [],
            "needs_background": "light"
          }
        }
      ]
    },
    {
      "cell_type": "code",
      "metadata": {
        "colab": {
          "base_uri": "https://localhost:8080/",
          "height": 282
        },
        "id": "u5laZ1EK1xmI",
        "outputId": "a7757c40-19cc-4dbf-f0cc-149c7ba62145"
      },
      "source": [
        "model_1_history[['accuracy', 'val_accuracy']][1:].plot()"
      ],
      "execution_count": null,
      "outputs": [
        {
          "output_type": "execute_result",
          "data": {
            "text/plain": [
              "<matplotlib.axes._subplots.AxesSubplot at 0x7f5600721f98>"
            ]
          },
          "metadata": {
            "tags": []
          },
          "execution_count": 74
        },
        {
          "output_type": "display_data",
          "data": {
            "image/png": "[encoded data removed]",
            "text/plain": [
              "<Figure size 432x288 with 1 Axes>"
            ]
          },
          "metadata": {
            "tags": [],
            "needs_background": "light"
          }
        }
      ]
    },
    {
      "cell_type": "code",
      "metadata": {
        "colab": {
          "base_uri": "https://localhost:8080/",
          "height": 282
        },
        "id": "xEXBx4sQ2GcZ",
        "outputId": "d01d3429-415e-49ce-ec2b-8d3013811f01"
      },
      "source": [
        "model_2_history[['loss', 'val_loss']][1:].plot()"
      ],
      "execution_count": 41,
      "outputs": [
        {
          "output_type": "execute_result",
          "data": {
            "text/plain": [
              "<matplotlib.axes._subplots.AxesSubplot at 0x7f992e02e9d0>"
            ]
          },
          "metadata": {
            "tags": []
          },
          "execution_count": 41
        },
        {
          "output_type": "display_data",
          "data": {
            "image/png": "[encoded data removed]",
            "text/plain": [
              "<Figure size 432x288 with 1 Axes>"
            ]
          },
          "metadata": {
            "tags": [],
            "needs_background": "light"
          }
        }
      ]
    },
    {
      "cell_type": "code",
      "metadata": {
        "colab": {
          "base_uri": "https://localhost:8080/",
          "height": 282
        },
        "id": "3IUmciFc2Gcl",
        "outputId": "e7afb2a6-4281-41da-c35d-77d187279d2f"
      },
      "source": [
        "model_2_history[['accuracy', 'val_accuracy']][1:].plot()"
      ],
      "execution_count": 45,
      "outputs": [
        {
          "output_type": "execute_result",
          "data": {
            "text/plain": [
              "<matplotlib.axes._subplots.AxesSubplot at 0x7f98a4773b10>"
            ]
          },
          "metadata": {
            "tags": []
          },
          "execution_count": 45
        },
        {
          "output_type": "display_data",
          "data": {
            "image/png": "[encoded data removed]",
            "text/plain": [
              "<Figure size 432x288 with 1 Axes>"
            ]
          },
          "metadata": {
            "tags": [],
            "needs_background": "light"
          }
        }
      ]
    },
    {
      "cell_type": "code",
      "metadata": {
        "colab": {
          "base_uri": "https://localhost:8080/",
          "height": 282
        },
        "id": "SYQ5WMKd2Gqo",
        "outputId": "d7a360dc-8ea6-47c8-8a09-7e457cede744"
      },
      "source": [
        "model_3_history[['loss', 'val_loss']][1:].plot()"
      ],
      "execution_count": 61,
      "outputs": [
        {
          "output_type": "execute_result",
          "data": {
            "text/plain": [
              "<matplotlib.axes._subplots.AxesSubplot at 0x7f951dfd6e90>"
            ]
          },
          "metadata": {
            "tags": []
          },
          "execution_count": 61
        },
        {
          "output_type": "display_data",
          "data": {
            "image/png": "[encoded data removed]",
            "text/plain": [
              "<Figure size 432x288 with 1 Axes>"
            ]
          },
          "metadata": {
            "tags": [],
            "needs_background": "light"
          }
        }
      ]
    },
    {
      "cell_type": "code",
      "metadata": {
        "colab": {
          "base_uri": "https://localhost:8080/",
          "height": 282
        },
        "id": "mf22D7xZ2Gqq",
        "outputId": "8326b767-09bc-41e5-e47b-1cf88ed3f999"
      },
      "source": [
        "model_3_history[['accuracy', 'val_accuracy']][1:].plot()"
      ],
      "execution_count": 62,
      "outputs": [
        {
          "output_type": "execute_result",
          "data": {
            "text/plain": [
              "<matplotlib.axes._subplots.AxesSubplot at 0x7f951df590d0>"
            ]
          },
          "metadata": {
            "tags": []
          },
          "execution_count": 62
        },
        {
          "output_type": "display_data",
          "data": {
            "image/png": "[encoded data removed]",
            "text/plain": [
              "<Figure size 432x288 with 1 Axes>"
            ]
          },
          "metadata": {
            "tags": [],
            "needs_background": "light"
          }
        }
      ]
    },
    {
      "cell_type": "code",
      "metadata": {
        "id": "oy7wyVzDx94d"
      },
      "source": [
        "pred_prob_1 = model_1.predict(test_image_gen)"
      ],
      "execution_count": null,
      "outputs": []
    },
    {
      "cell_type": "code",
      "metadata": {
        "colab": {
          "base_uri": "https://localhost:8080/"
        },
        "id": "mFyP8P-RyEXK",
        "outputId": "2dbb8b0f-3aa9-4d1c-90be-f344b34e692a"
      },
      "source": [
        "pred_prob_1[:5]"
      ],
      "execution_count": null,
      "outputs": [
        {
          "output_type": "execute_result",
          "data": {
            "text/plain": [
              "array([[1.00000000e+00, 4.72262807e-09, 7.25720872e-10],\n",
              "       [1.00000000e+00, 9.05519471e-15, 4.94761025e-13],\n",
              "       [1.00000000e+00, 1.02315625e-22, 3.85559642e-22],\n",
              "       [2.68925369e-01, 7.00328410e-01, 3.07462085e-02],\n",
              "       [4.42357779e-01, 5.12232959e-01, 4.54092883e-02]], dtype=float32)"
            ]
          },
          "metadata": {
            "tags": []
          },
          "execution_count": 41
        }
      ]
    },
    {
      "cell_type": "code",
      "metadata": {
        "id": "lB9KaXZmyGAT"
      },
      "source": [
        "import numpy as np\r\n",
        "predicted_class_indices_1 = np.argmax(pred_prob_1,axis=1)"
      ],
      "execution_count": null,
      "outputs": []
    },
    {
      "cell_type": "code",
      "metadata": {
        "colab": {
          "base_uri": "https://localhost:8080/"
        },
        "id": "YW6ZYN2CyV17",
        "outputId": "15321034-9437-4c6a-8a0d-c534e486df04"
      },
      "source": [
        "predicted_class_indices_1[:5]"
      ],
      "execution_count": null,
      "outputs": [
        {
          "output_type": "execute_result",
          "data": {
            "text/plain": [
              "array([0, 0, 0, 1, 1])"
            ]
          },
          "metadata": {
            "tags": []
          },
          "execution_count": 43
        }
      ]
    },
    {
      "cell_type": "code",
      "metadata": {
        "id": "BrzUp1OKyjtN"
      },
      "source": [
        "pred_prob_3 = model_3.predict(test_image_gen)"
      ],
      "execution_count": 63,
      "outputs": []
    },
    {
      "cell_type": "code",
      "metadata": {
        "colab": {
          "base_uri": "https://localhost:8080/"
        },
        "id": "1WDZ0mqNyjtX",
        "outputId": "0361f102-077e-43dd-eb92-b4f5db8efe7d"
      },
      "source": [
        "pred_prob_3[:5]"
      ],
      "execution_count": 64,
      "outputs": [
        {
          "output_type": "execute_result",
          "data": {
            "text/plain": [
              "array([[9.9926323e-01, 7.3659373e-04, 6.6504128e-08],\n",
              "       [9.9980432e-01, 1.9573180e-04, 2.5468246e-08],\n",
              "       [9.9999964e-01, 3.0153296e-07, 1.7379659e-14],\n",
              "       [3.6187097e-01, 6.3722450e-01, 9.0455334e-04],\n",
              "       [9.7372568e-01, 2.6233038e-02, 4.1203170e-05]], dtype=float32)"
            ]
          },
          "metadata": {
            "tags": []
          },
          "execution_count": 64
        }
      ]
    },
    {
      "cell_type": "code",
      "metadata": {
        "id": "2XxjHWnPyjtY"
      },
      "source": [
        "import numpy as np\r\n",
        "predicted_class_indices_3 = np.argmax(pred_prob_3,axis=1)"
      ],
      "execution_count": 65,
      "outputs": []
    },
    {
      "cell_type": "code",
      "metadata": {
        "colab": {
          "base_uri": "https://localhost:8080/"
        },
        "id": "8ZpQzJUayjtY",
        "outputId": "dc4294fb-85c0-48a0-e158-28523e66ad21"
      },
      "source": [
        "predicted_class_indices_3[:5]"
      ],
      "execution_count": 66,
      "outputs": [
        {
          "output_type": "execute_result",
          "data": {
            "text/plain": [
              "array([0, 0, 0, 1, 1])"
            ]
          },
          "metadata": {
            "tags": []
          },
          "execution_count": 66
        }
      ]
    },
    {
      "cell_type": "code",
      "metadata": {
        "id": "akPx5uzVydYr"
      },
      "source": [
        "# Why do these give different results??\r\n",
        "# model_2.predict_classes(test_image_gen)[:5]\r\n",
        "# model_2.predict_generator(test_image_gen,verbose=1,steps=2)\r\n",
        "# model_2.predict(test_image_gen)"
      ],
      "execution_count": null,
      "outputs": []
    },
    {
      "cell_type": "code",
      "metadata": {
        "id": "xY7JVo1_ZW2S"
      },
      "source": [
        "from tensorflow.keras.preprocessing import image"
      ],
      "execution_count": null,
      "outputs": []
    },
    {
      "cell_type": "code",
      "metadata": {
        "id": "NeVbRrwKZW2T",
        "colab": {
          "base_uri": "https://localhost:8080/"
        },
        "outputId": "e001a806-e500-4f1a-ecbb-8ccd230f1b08"
      },
      "source": [
        "test_image_gen.classes, len(test_image_gen.classes)"
      ],
      "execution_count": null,
      "outputs": [
        {
          "output_type": "execute_result",
          "data": {
            "text/plain": [
              "(array([0, 0, 0, 0, 0, 0, 0, 0, 0, 0, 1, 1, 1, 1, 1, 1, 1, 1, 1, 1, 2, 2,\n",
              "        2, 2, 2, 2, 2, 2, 2, 2], dtype=int32), 30)"
            ]
          },
          "metadata": {
            "tags": []
          },
          "execution_count": 64
        }
      ]
    },
    {
      "cell_type": "code",
      "metadata": {
        "colab": {
          "base_uri": "https://localhost:8080/"
        },
        "id": "1KOnRS3K0J79",
        "outputId": "64b8d76b-0b66-4fc5-8d44-b72c3060fac6"
      },
      "source": [
        "test_image_gen.class_indices"
      ],
      "execution_count": null,
      "outputs": [
        {
          "output_type": "execute_result",
          "data": {
            "text/plain": [
              "{'Naruto_Uzumaki': 0, 'Sakura_Haruno': 1, 'Sasuke_Uchiha': 2}"
            ]
          },
          "metadata": {
            "tags": []
          },
          "execution_count": 65
        }
      ]
    },
    {
      "cell_type": "code",
      "metadata": {
        "id": "3VBV1NG-ZW2U"
      },
      "source": [
        "from sklearn.metrics import classification_report,confusion_matrix"
      ],
      "execution_count": 50,
      "outputs": []
    },
    {
      "cell_type": "code",
      "metadata": {
        "id": "IbBKPgeHZW2U",
        "colab": {
          "base_uri": "https://localhost:8080/"
        },
        "outputId": "c58e6eb6-bf5f-4cf9-e95f-3a6f815329cc"
      },
      "source": [
        "print(classification_report(test_image_gen.classes,predicted_class_indices_1))"
      ],
      "execution_count": null,
      "outputs": [
        {
          "output_type": "stream",
          "text": [
            "              precision    recall  f1-score   support\n",
            "\n",
            "           0       1.00      0.70      0.82        10\n",
            "           1       0.83      1.00      0.91        10\n",
            "           2       0.91      1.00      0.95        10\n",
            "\n",
            "    accuracy                           0.90        30\n",
            "   macro avg       0.91      0.90      0.90        30\n",
            "weighted avg       0.91      0.90      0.90        30\n",
            "\n"
          ],
          "name": "stdout"
        }
      ]
    },
    {
      "cell_type": "code",
      "metadata": {
        "id": "ZxOBzJ3fZW2U",
        "colab": {
          "base_uri": "https://localhost:8080/"
        },
        "outputId": "b75d5cd0-b326-4b59-dec5-4b2e9a6ab8ae"
      },
      "source": [
        "confusion_matrix(test_image_gen.classes,predicted_class_indices_1)"
      ],
      "execution_count": null,
      "outputs": [
        {
          "output_type": "execute_result",
          "data": {
            "text/plain": [
              "array([[ 7,  2,  1],\n",
              "       [ 0, 10,  0],\n",
              "       [ 0,  0, 10]])"
            ]
          },
          "metadata": {
            "tags": []
          },
          "execution_count": 66
        }
      ]
    },
    {
      "cell_type": "code",
      "metadata": {
        "colab": {
          "base_uri": "https://localhost:8080/"
        },
        "id": "JMkXb4p70p2K",
        "outputId": "d7a3425c-f57c-4920-b2fc-42bbe3f9b140"
      },
      "source": [
        "print(classification_report(test_image_gen.classes,predicted_class_indices_3))"
      ],
      "execution_count": 67,
      "outputs": [
        {
          "output_type": "stream",
          "text": [
            "              precision    recall  f1-score   support\n",
            "\n",
            "           0       1.00      0.80      0.89        10\n",
            "           1       0.90      0.90      0.90        10\n",
            "           2       0.83      1.00      0.91        10\n",
            "\n",
            "    accuracy                           0.90        30\n",
            "   macro avg       0.91      0.90      0.90        30\n",
            "weighted avg       0.91      0.90      0.90        30\n",
            "\n"
          ],
          "name": "stdout"
        }
      ]
    },
    {
      "cell_type": "code",
      "metadata": {
        "colab": {
          "base_uri": "https://localhost:8080/"
        },
        "id": "NGG2IIzF0p2X",
        "outputId": "9fee2e1f-b081-48fe-85c9-adaf72e638c2"
      },
      "source": [
        "confusion_matrix(test_image_gen.classes,predicted_class_indices_3)"
      ],
      "execution_count": 68,
      "outputs": [
        {
          "output_type": "execute_result",
          "data": {
            "text/plain": [
              "array([[ 8,  1,  1],\n",
              "       [ 0,  9,  1],\n",
              "       [ 0,  0, 10]])"
            ]
          },
          "metadata": {
            "tags": []
          },
          "execution_count": 68
        }
      ]
    },
    {
      "cell_type": "markdown",
      "metadata": {
        "id": "ZVCHUuUU0nts"
      },
      "source": [
        "# Model 3 worked the best giving 90% accuracy"
      ]
    },
    {
      "cell_type": "code",
      "metadata": {
        "id": "bJkW4gN8QfK4"
      },
      "source": [
        ""
      ],
      "execution_count": null,
      "outputs": []
    }
  ]
}